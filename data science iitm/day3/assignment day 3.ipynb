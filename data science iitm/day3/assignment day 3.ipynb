{
 "cells": [
  {
   "cell_type": "markdown",
   "id": "331f884a-988b-4246-b4cb-55c23c342446",
   "metadata": {},
   "source": [
    "practice question 1 create your own module"
   ]
  },
  {
   "cell_type": "code",
   "execution_count": 26,
   "id": "2755c00c-7657-462c-9145-a7d2d1b4ea50",
   "metadata": {},
   "outputs": [],
   "source": [
    "file = open('mathshelper.py',mode='w')"
   ]
  },
  {
   "cell_type": "code",
   "execution_count": 31,
   "id": "9c5d9a06-bf5b-4bd7-9602-5f2ec30022a8",
   "metadata": {},
   "outputs": [
    {
     "name": "stdout",
     "output_type": "stream",
     "text": [
      "done\n",
      "Not a Prime Number\n",
      "palindrome\n",
      "120\n",
      "[0, 1, 1, 2, 3]\n",
      "15\n"
     ]
    }
   ],
   "source": [
    "import mathshelper as h\n",
    "print('done')\n",
    "\n",
    "print(h.check_prime(20))\n",
    "print(h.check_palindrome('nitin'))\n",
    "print(h.factorial(5))\n",
    "print(h.give_fibo(5))\n",
    "print(h.sum_of_n_natural_numbers(5))"
   ]
  },
  {
   "cell_type": "markdown",
   "id": "171f91f6-0496-42c5-9fd4-13f9d76b4324",
   "metadata": {},
   "source": [
    " practice question 2 create a safe calculator"
   ]
  },
  {
   "cell_type": "code",
   "execution_count": 24,
   "id": "3f3a3e94-2d6b-4391-9470-ee08c9632bc0",
   "metadata": {},
   "outputs": [],
   "source": [
    "def safe_calculator():\n",
    "\n",
    "    try:\n",
    "        num1=float(input('enter first number'))\n",
    "        operator=input('enter the operator (+,* ,%,-):')\n",
    "        num2=float(input('enter second number'))\n",
    "    \n",
    "    \n",
    "        if operator == '+':\n",
    "            print (num1 + num2)\n",
    "            \n",
    "        elif operator == '*':\n",
    "            print(num1 * num2)\n",
    "            \n",
    "        elif operator == '%':\n",
    "            print(num1 % num2)\n",
    "    \n",
    "        elif operator == '-' :\n",
    "            print(num1 - num2)\n",
    "        else :\n",
    "            print('invalid operator')\n",
    "    \n",
    "    except ZeroDivisionError:\n",
    "        print('you cannot divide a number by zero !!try a different divisor instead')\n",
    "    \n",
    "    \n",
    "        \n"
   ]
  },
  {
   "cell_type": "code",
   "execution_count": 25,
   "id": "af2d9cee-093b-4cbd-b08b-52ba95265454",
   "metadata": {},
   "outputs": [
    {
     "name": "stdin",
     "output_type": "stream",
     "text": [
      "enter first number 10\n",
      "enter the operator (+,* ,%,-): %\n",
      "enter second number 0\n"
     ]
    },
    {
     "name": "stdout",
     "output_type": "stream",
     "text": [
      "you cannot divide a number by zero !!try a different divisor instead\n"
     ]
    }
   ],
   "source": [
    "safe_calculator()"
   ]
  },
  {
   "cell_type": "markdown",
   "id": "30e57e79-1a8e-4910-9cbf-bc1b4d5724f8",
   "metadata": {},
   "source": [
    "practice problem 3 file reader program"
   ]
  },
  {
   "cell_type": "code",
   "execution_count": 29,
   "id": "60185729-f9dd-4ac1-926f-42c8cd5c7d1c",
   "metadata": {},
   "outputs": [],
   "source": [
    "f=open('mathshelper.py',mode='r')"
   ]
  },
  {
   "cell_type": "code",
   "execution_count": 32,
   "id": "8ecd91b4-4fc4-4167-82a9-fd686b04fdbc",
   "metadata": {},
   "outputs": [
    {
     "name": "stdout",
     "output_type": "stream",
     "text": [
      "def check_palindrome(word:str):\n",
      "\n"
     ]
    }
   ],
   "source": [
    "print(f.readline())"
   ]
  },
  {
   "cell_type": "code",
   "execution_count": 35,
   "id": "cfa09444-92ab-447e-be63-f11ad6137a5e",
   "metadata": {},
   "outputs": [
    {
     "name": "stdout",
     "output_type": "stream",
     "text": [
      "0 \n",
      "\n",
      "2 def check_prime(number):\n",
      "\n",
      "4     for i in range(2,number):\n",
      "\n",
      "6         if number % i == 0:\n",
      "\n",
      "8             return 'Not a Prime Number'\n",
      "\n",
      "10             break\n",
      "\n",
      "12             print('Happy Holi')\n",
      "\n",
      "14     else:\n",
      "\n",
      "16         return 'Prime Number'\n",
      "\n",
      "18 \n",
      "\n"
     ]
    }
   ],
   "source": [
    "for i in range(10):\n",
    "    print( i + i ,f.readline())\n"
   ]
  },
  {
   "cell_type": "markdown",
   "id": "df7642ad-a38d-4190-a8cd-9a975e3ae14a",
   "metadata": {},
   "source": [
    "practice problem 4 simple quiz"
   ]
  },
  {
   "cell_type": "code",
   "execution_count": 36,
   "id": "c63abc03-795d-445d-88e3-fd655c4ba3c7",
   "metadata": {},
   "outputs": [],
   "source": [
    "f= open('questions.py',mode='w')"
   ]
  },
  {
   "cell_type": "code",
   "execution_count": null,
   "id": "0ebf07d9-b6b5-4a0d-967e-0357f373e55b",
   "metadata": {},
   "outputs": [
    {
     "name": "stdout",
     "output_type": "stream",
     "text": [
      "Q1: What is the capital of Australia?\n",
      "A) Sydney  B) Melbourne  C) Canberra  D) Perth\n"
     ]
    }
   ],
   "source": [
    "def quiz_game():\n",
    "    score = 0\n",
    "\n",
    "    print(\"Q1: What is the capital of Australia?\")\n",
    "    print(\"A) Sydney  B) Melbourne  C) Canberra  D) Perth\")\n",
    "    ans = input(\"Your answer: \").upper()\n",
    "    if ans == 'C':\n",
    "        score += 1\n",
    "\n",
    "    print(\"\\nQ2: Who invented the telephone?\")\n",
    "    print(\"A) Einstein  B) Newton  C) Bell  D) Edison\")\n",
    "    ans = input(\"Your answer: \").upper()\n",
    "    if ans == 'C':\n",
    "        score += 1\n",
    "\n",
    "    print(\"\\nQ3: Red planet is?\")\n",
    "    print(\"A) Earth  B) Venus  C) Jupiter  D) Mars\")\n",
    "    ans = input(\"Your answer: \").upper()\n",
    "    if ans == 'D':\n",
    "        score += 1\n",
    "\n",
    "    print(f\"\\nYour Score: {score}/3\")\n",
    "\n",
    "\n",
    "    with open(\"score.txt\", \"w\") as f:\n",
    "        f.write(f\"Final Score: {score}/3\\n\")\n",
    "\n",
    "quiz_game()\n"
   ]
  },
  {
   "cell_type": "code",
   "execution_count": 40,
   "id": "cfc92878-ba9c-48c5-a2f9-e5616fe49c99",
   "metadata": {},
   "outputs": [],
   "source": [
    "f.close()"
   ]
  },
  {
   "cell_type": "markdown",
   "id": "f934ab84-9cd3-419f-be06-a47425a9ce63",
   "metadata": {},
   "source": [
    "practice question 5 could not understand"
   ]
  }
 ],
 "metadata": {
  "kernelspec": {
   "display_name": "Python [conda env:base] *",
   "language": "python",
   "name": "conda-base-py"
  },
  "language_info": {
   "codemirror_mode": {
    "name": "ipython",
    "version": 3
   },
   "file_extension": ".py",
   "mimetype": "text/x-python",
   "name": "python",
   "nbconvert_exporter": "python",
   "pygments_lexer": "ipython3",
   "version": "3.13.5"
  }
 },
 "nbformat": 4,
 "nbformat_minor": 5
}
