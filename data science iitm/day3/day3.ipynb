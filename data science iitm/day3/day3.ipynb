{
 "cells": [
  {
   "cell_type": "code",
   "execution_count": 3,
   "id": "06882fc5-46e2-41cd-89ce-5bd60a0d41ef",
   "metadata": {},
   "outputs": [
    {
     "name": "stdout",
     "output_type": "stream",
     "text": [
      "can't vote\n"
     ]
    }
   ],
   "source": [
    "#exception handling\n",
    "\n",
    "#try\n",
    "#handled with except\n",
    "age =2\n",
    "if age>=18:\n",
    "    print('can vote')\n",
    "else:\n",
    "    print('can\\'t vote')\n",
    "    "
   ]
  },
  {
   "cell_type": "code",
   "execution_count": 1,
   "id": "a8f8afeb-320b-41a8-91da-d3a37c060329",
   "metadata": {},
   "outputs": [
    {
     "name": "stdout",
     "output_type": "stream",
     "text": [
      "invalid code\n"
     ]
    }
   ],
   "source": [
    "age ='23'\n",
    "try:#try block it might throw an error\n",
    "   # print(1/0)\n",
    "    print(a)\n",
    "    if age>=18:\n",
    "        print('can vote')\n",
    "    else:\n",
    "        print('can\\'t vote')\n",
    "except TypeError: #handels only type error\n",
    "    print('something went wrong')\n",
    "    print('invalid dataype comparison')\n",
    "    \n",
    "except:#to handle the error occured in the above exception\n",
    "    print('invalid code')"
   ]
  },
  {
   "cell_type": "code",
   "execution_count": 2,
   "id": "3d3b9e6a-22fd-4c2a-a5db-9a7d50a2e9e5",
   "metadata": {},
   "outputs": [],
   "source": [
    "#code for handling exception that occours when we dont mention the index values it throws a  value error\n",
    "def student_records(**kwargs):\n",
    "    import pandas as pd \n",
    "    try:\n",
    "        data=pd.DataFrame(kwargs)\n",
    "        return data\n",
    "    except:\n",
    "        data=pd.DataFrame(kwargs,index=[1])\n",
    "        return data\n"
   ]
  },
  {
   "cell_type": "code",
   "execution_count": 4,
   "id": "bb9a73a7-424f-43f8-8cd8-3ef9fa1c6653",
   "metadata": {},
   "outputs": [
    {
     "data": {
      "text/html": [
       "<div>\n",
       "<style scoped>\n",
       "    .dataframe tbody tr th:only-of-type {\n",
       "        vertical-align: middle;\n",
       "    }\n",
       "\n",
       "    .dataframe tbody tr th {\n",
       "        vertical-align: top;\n",
       "    }\n",
       "\n",
       "    .dataframe thead th {\n",
       "        text-align: right;\n",
       "    }\n",
       "</style>\n",
       "<table border=\"1\" class=\"dataframe\">\n",
       "  <thead>\n",
       "    <tr style=\"text-align: right;\">\n",
       "      <th></th>\n",
       "      <th>Name</th>\n",
       "      <th>Age</th>\n",
       "      <th>Address</th>\n",
       "    </tr>\n",
       "  </thead>\n",
       "  <tbody>\n",
       "    <tr>\n",
       "      <th>1</th>\n",
       "      <td>niyati</td>\n",
       "      <td>12</td>\n",
       "      <td>Noida</td>\n",
       "    </tr>\n",
       "  </tbody>\n",
       "</table>\n",
       "</div>"
      ],
      "text/plain": [
       "     Name  Age Address\n",
       "1  niyati   12   Noida"
      ]
     },
     "execution_count": 4,
     "metadata": {},
     "output_type": "execute_result"
    }
   ],
   "source": [
    "student_records(Name = 'niyati',Age = 12,Address = 'Noida')"
   ]
  },
  {
   "cell_type": "code",
   "execution_count": 5,
   "id": "cdecefa7-028b-46ab-8f51-be5d81990e8d",
   "metadata": {},
   "outputs": [
    {
     "data": {
      "text/html": [
       "<div>\n",
       "<style scoped>\n",
       "    .dataframe tbody tr th:only-of-type {\n",
       "        vertical-align: middle;\n",
       "    }\n",
       "\n",
       "    .dataframe tbody tr th {\n",
       "        vertical-align: top;\n",
       "    }\n",
       "\n",
       "    .dataframe thead th {\n",
       "        text-align: right;\n",
       "    }\n",
       "</style>\n",
       "<table border=\"1\" class=\"dataframe\">\n",
       "  <thead>\n",
       "    <tr style=\"text-align: right;\">\n",
       "      <th></th>\n",
       "      <th>name</th>\n",
       "      <th>age</th>\n",
       "      <th>roll_no</th>\n",
       "      <th>address</th>\n",
       "      <th>sec</th>\n",
       "    </tr>\n",
       "  </thead>\n",
       "  <tbody>\n",
       "    <tr>\n",
       "      <th>0</th>\n",
       "      <td>niyati</td>\n",
       "      <td>12</td>\n",
       "      <td>101</td>\n",
       "      <td>noida</td>\n",
       "      <td>A</td>\n",
       "    </tr>\n",
       "    <tr>\n",
       "      <th>1</th>\n",
       "      <td>kushu</td>\n",
       "      <td>21</td>\n",
       "      <td>102</td>\n",
       "      <td>gr noida</td>\n",
       "      <td>B</td>\n",
       "    </tr>\n",
       "    <tr>\n",
       "      <th>2</th>\n",
       "      <td>ajay</td>\n",
       "      <td>12</td>\n",
       "      <td>103</td>\n",
       "      <td>delhi</td>\n",
       "      <td>C</td>\n",
       "    </tr>\n",
       "  </tbody>\n",
       "</table>\n",
       "</div>"
      ],
      "text/plain": [
       "     name  age  roll_no   address sec\n",
       "0  niyati   12      101     noida   A\n",
       "1   kushu   21      102  gr noida   B\n",
       "2    ajay   12      103     delhi   C"
      ]
     },
     "execution_count": 5,
     "metadata": {},
     "output_type": "execute_result"
    }
   ],
   "source": [
    "student_records(name=['niyati','kushu','ajay'],\n",
    "                age=[12,21,12],\n",
    "                roll_no=[101,102,103],\n",
    "                address=['noida','gr noida','delhi'],\n",
    "                sec=list('ABC'))"
   ]
  },
  {
   "cell_type": "code",
   "execution_count": 6,
   "id": "9d397651-0006-453b-918e-a5957a5b48f1",
   "metadata": {},
   "outputs": [],
   "source": [
    "def show_time():\n",
    "    while True:\n",
    "        import time\n",
    "        print(time.asctime())\n",
    "        time.sleep(1)\n",
    "        display(clear=True)"
   ]
  },
  {
   "cell_type": "code",
   "execution_count": null,
   "id": "72188d58-9b2f-402b-baee-481e033eb4a7",
   "metadata": {},
   "outputs": [],
   "source": [
    "show_time()"
   ]
  },
  {
   "cell_type": "code",
   "execution_count": 8,
   "id": "340e5383-bcdb-44d6-89c9-dff8c46922c8",
   "metadata": {},
   "outputs": [],
   "source": [
    "def show_time():\n",
    " try:\n",
    "    while True:\n",
    "     import time\n",
    "     print(time.asctime())\n",
    "     time.sleep(1)\n",
    "     display(clear=True)\n",
    " except:\n",
    "        print('interrupted by user')\n",
    "\n"
   ]
  },
  {
   "cell_type": "code",
   "execution_count": 15,
   "id": "166cddfb-7754-4982-a423-81538d9e7fc4",
   "metadata": {},
   "outputs": [
    {
     "name": "stdout",
     "output_type": "stream",
     "text": [
      "Fri Jul  4 10:54:37 2025\n",
      "interrupted by user\n"
     ]
    }
   ],
   "source": [
    "show_time()"
   ]
  },
  {
   "cell_type": "code",
   "execution_count": null,
   "id": "5ee25edf-b470-43bc-95f9-af1cc65b3220",
   "metadata": {},
   "outputs": [],
   "source": [
    "#module is a collection of classes and functions\n"
   ]
  },
  {
   "cell_type": "code",
   "execution_count": null,
   "id": "85d2d57a-2477-460d-83f9-f33a17fedfa4",
   "metadata": {},
   "outputs": [],
   "source": [
    "#module"
   ]
  },
  {
   "cell_type": "code",
   "execution_count": 9,
   "id": "0a68a730-2e29-4c0c-a6bd-1006001c466e",
   "metadata": {},
   "outputs": [
    {
     "name": "stdout",
     "output_type": "stream",
     "text": [
      " this is niyati module in python\n",
      "Info: https://www.google.com/\n",
      "done\n",
      "not a prime number\n",
      "3628800\n",
      "[0, 1, 1, 2, 3, 5, 8, 13, 21, 34, 55, 89]\n"
     ]
    }
   ],
   "source": [
    "import niyati as n \n",
    "\n",
    "print('done')\n",
    "\n",
    "print(n.check_prime(4))#n. tab button to see hint\n",
    "print(n.factorial(10))\n",
    "print(n.give_fibo(12))\n",
    "# to see how many arguments we need to write press shift+tab"
   ]
  },
  {
   "cell_type": "code",
   "execution_count": 10,
   "id": "5d5170fc-5a19-43be-837d-cdbc31b10963",
   "metadata": {},
   "outputs": [
    {
     "name": "stdout",
     "output_type": "stream",
     "text": [
      "       * \n",
      "      * * \n",
      "     * * * \n",
      "    * * * * \n",
      "   * * * * * \n",
      "  * * * * * * \n",
      " * * * * * * * \n",
      "* * * * * * * * \n",
      "None\n"
     ]
    }
   ],
   "source": [
    "print(n.print_star(n=8,typ='mid'))"
   ]
  },
  {
   "cell_type": "code",
   "execution_count": 11,
   "id": "2abb77d7-8eb1-426f-8cf0-866c13542a13",
   "metadata": {},
   "outputs": [
    {
     "data": {
      "text/plain": [
       "210"
      ]
     },
     "execution_count": 11,
     "metadata": {},
     "output_type": "execute_result"
    }
   ],
   "source": [
    "n.sum_of_n_natural_numbers(20)"
   ]
  },
  {
   "cell_type": "code",
   "execution_count": 12,
   "id": "efb5746d-1e32-4fdd-bca3-32b304b11e48",
   "metadata": {},
   "outputs": [
    {
     "name": "stdout",
     "output_type": "stream",
     "text": [
      "Sun Jul 20 21:53:02 2025\n",
      "interrupted by user\n"
     ]
    }
   ],
   "source": [
    "n.show_time()"
   ]
  },
  {
   "cell_type": "code",
   "execution_count": 15,
   "id": "425dd41d-ba1f-478d-bc3d-0e3d7a2d3997",
   "metadata": {},
   "outputs": [
    {
     "data": {
      "text/plain": [
       "'not a palindrome'"
      ]
     },
     "execution_count": 15,
     "metadata": {},
     "output_type": "execute_result"
    }
   ],
   "source": [
    "n.check_palindrome('niyati')"
   ]
  },
  {
   "cell_type": "code",
   "execution_count": 16,
   "id": "cb07569b-15a9-4026-ae52-402c412533ec",
   "metadata": {},
   "outputs": [
    {
     "data": {
      "text/html": [
       "<div>\n",
       "<style scoped>\n",
       "    .dataframe tbody tr th:only-of-type {\n",
       "        vertical-align: middle;\n",
       "    }\n",
       "\n",
       "    .dataframe tbody tr th {\n",
       "        vertical-align: top;\n",
       "    }\n",
       "\n",
       "    .dataframe thead th {\n",
       "        text-align: right;\n",
       "    }\n",
       "</style>\n",
       "<table border=\"1\" class=\"dataframe\">\n",
       "  <thead>\n",
       "    <tr style=\"text-align: right;\">\n",
       "      <th></th>\n",
       "      <th>name</th>\n",
       "      <th>age</th>\n",
       "      <th>sec</th>\n",
       "      <th>roll_no</th>\n",
       "      <th>Class</th>\n",
       "    </tr>\n",
       "  </thead>\n",
       "  <tbody>\n",
       "    <tr>\n",
       "      <th>1</th>\n",
       "      <td>niyati</td>\n",
       "      <td>12</td>\n",
       "      <td>a</td>\n",
       "      <td>12</td>\n",
       "      <td>12</td>\n",
       "    </tr>\n",
       "  </tbody>\n",
       "</table>\n",
       "</div>"
      ],
      "text/plain": [
       "     name  age sec  roll_no  Class\n",
       "1  niyati   12   a       12     12"
      ]
     },
     "execution_count": 16,
     "metadata": {},
     "output_type": "execute_result"
    }
   ],
   "source": [
    "n.store_records('niyati',12,'a',12,12)"
   ]
  },
  {
   "cell_type": "code",
   "execution_count": 17,
   "id": "975a65a3-32a6-4423-9778-b0465de81cb6",
   "metadata": {},
   "outputs": [
    {
     "name": "stdout",
     "output_type": "stream",
     "text": [
      "done\n"
     ]
    }
   ],
   "source": [
    "from niyati import *# to import all the functions in the module\n",
    "from niyati import factorial\n",
    "print('done')\n"
   ]
  },
  {
   "cell_type": "code",
   "execution_count": 18,
   "id": "b547f837-a146-4274-a87a-5a8be23ed984",
   "metadata": {},
   "outputs": [
    {
     "data": {
      "text/plain": [
       "3628800"
      ]
     },
     "execution_count": 18,
     "metadata": {},
     "output_type": "execute_result"
    }
   ],
   "source": [
    "factorial(10)"
   ]
  },
  {
   "cell_type": "code",
   "execution_count": 19,
   "id": "01a5f62c-c590-4bd4-b367-6f740c4a5e8c",
   "metadata": {},
   "outputs": [
    {
     "name": "stdout",
     "output_type": "stream",
     "text": [
      "done\n"
     ]
    }
   ],
   "source": [
    "import turtle\n",
    "print('done')"
   ]
  },
  {
   "cell_type": "code",
   "execution_count": null,
   "id": "cc7d4701-18c5-499d-96d2-0aee5cef9eae",
   "metadata": {},
   "outputs": [],
   "source": [
    "import turtle\n",
    "for i in range(120):\n",
    "    turtle.speed(0)\n",
    "    turtle.bgcolor('black')\n",
    "    col = ['red','yellow','green','blue','orange']\n",
    "    import random\n",
    "    picked_color = random.choice(col)\n",
    "    turtle.color(picked_color)\n",
    "    turtle.circle(100)\n",
    "    turtle.left(3)\n"
   ]
  },
  {
   "cell_type": "code",
   "execution_count": null,
   "id": "4e7ca79a-4aa5-401b-8f5e-915ef1748528",
   "metadata": {},
   "outputs": [],
   "source": [
    "import turtle\n",
    "for i in range(4):\n",
    "    turtle.circle(100)\n",
    "    turtle.left(90)"
   ]
  },
  {
   "cell_type": "code",
   "execution_count": null,
   "id": "76fa5290-45a3-4940-84e5-bb4e67aae862",
   "metadata": {},
   "outputs": [],
   "source": [
    "import turtle\n",
    "for i in range(6):\n",
    "    turtle.bgcolor('black')\n",
    "    turtle.color('cyan')\n",
    "    turtle.forward(150)\n",
    "    turtle.left(60)"
   ]
  },
  {
   "cell_type": "code",
   "execution_count": null,
   "id": "510b756c-200c-4d7f-bff1-3b254c183240",
   "metadata": {},
   "outputs": [],
   "source": [
    "# 1:- Text File\n",
    "#\n",
    "# .py,.html, .csv, .tsv, .css, .java, .c, c++,. json, .js,\n",
    "# 2: Binary File\n",
    "# Software\n",
    "# .pdf, .mp3, mp4, .png, .jpeg, .exe, .zip, .dat, .tar .xlsx, .ppt, .doc, .ipynb"
   ]
  },
  {
   "cell_type": "code",
   "execution_count": 21,
   "id": "1b2856b3-2ec8-45d5-afb7-ff927d65af6a",
   "metadata": {},
   "outputs": [],
   "source": [
    "# handling:- read, write, copy, append, delete, open, new"
   ]
  },
  {
   "cell_type": "code",
   "execution_count": 23,
   "id": "0d38895e-8422-428c-9222-e7f4037b8345",
   "metadata": {},
   "outputs": [],
   "source": [
    "file = open('niyati.py',mode = 'r')"
   ]
  },
  {
   "cell_type": "code",
   "execution_count": 24,
   "id": "5939f0cb-29e4-4de1-9e43-7670034a767d",
   "metadata": {},
   "outputs": [
    {
     "name": "stdout",
     "output_type": "stream",
     "text": [
      "print(''' this is niyati module in python\n",
      "Info: https://www.google.com/''')\n",
      "\n",
      "def check_palindrome(wo\n"
     ]
    }
   ],
   "source": [
    "file = open('niyati.py',mode = 'r')\n",
    "print(file.read(100))\n",
    "file.close()"
   ]
  },
  {
   "cell_type": "code",
   "execution_count": 25,
   "id": "4104e0f0-a0f6-4397-8b39-378499077eb6",
   "metadata": {},
   "outputs": [],
   "source": [
    "f = open('niyati.py',mode = 'r')"
   ]
  },
  {
   "cell_type": "code",
   "execution_count": 26,
   "id": "4419a5de-2deb-4087-aee4-5189447b5359",
   "metadata": {},
   "outputs": [
    {
     "name": "stdout",
     "output_type": "stream",
     "text": [
      "print(''' this is niyati module in python\n",
      "\n"
     ]
    }
   ],
   "source": [
    "print(f.readline())"
   ]
  },
  {
   "cell_type": "code",
   "execution_count": 28,
   "id": "e69192dd-bd93-40fe-849f-da67f7eef58c",
   "metadata": {},
   "outputs": [
    {
     "name": "stdout",
     "output_type": "stream",
     "text": [
      "print(''' this is niyati module in python\n",
      "\n",
      "Info: https://www.google.com/''')\n",
      "\n",
      "\n",
      "\n",
      "def check_palindrome(word:str):\n",
      "\n",
      "    if type(word)==str:\n",
      "\n",
      "     word=word.upper()#if we use upper with number it will give an error\n",
      "\n",
      "     if word==word[::-1]:\n",
      "\n",
      "       return 'palindrome'\n",
      "\n",
      "     else:\n",
      "\n",
      "        return 'not a palindrome'\n",
      "\n"
     ]
    }
   ],
   "source": [
    "f = open('niyati.py',mode = 'r')\n",
    "for i in range(10):\n",
    "    print(f.readline())"
   ]
  },
  {
   "cell_type": "code",
   "execution_count": 29,
   "id": "207fe132-ce62-4770-8a67-e8d39b07eb01",
   "metadata": {},
   "outputs": [
    {
     "name": "stdout",
     "output_type": "stream",
     "text": [
      "print(''' this is niyati module in python\n",
      "\n",
      "Info: https://www.google.com/''')\n",
      "\n",
      "\n",
      "\n",
      "def check_palindrome(word:str):\n",
      "\n",
      "    if type(word)==str:\n",
      "\n",
      "     word=word.upper()#if we use upper with number it will give an error\n",
      "\n",
      "     if word==word[::-1]:\n",
      "\n",
      "       return 'palindrome'\n",
      "\n",
      "     else:\n",
      "\n",
      "        return 'not a palindrome'\n",
      "\n"
     ]
    }
   ],
   "source": [
    "f = open('niyati.py',mode = 'r')\n",
    "for i in range(10):\n",
    "    print(f.readline())"
   ]
  },
  {
   "cell_type": "code",
   "execution_count": 30,
   "id": "a33750c9-2d2a-402c-9c18-2f2fe1f8fc42",
   "metadata": {},
   "outputs": [
    {
     "name": "stdout",
     "output_type": "stream",
     "text": [
      "       return 'palindrome'\n",
      "\n"
     ]
    }
   ],
   "source": [
    "f = open('niyati.py',mode = 'r')\n",
    "for i in range(10):\n",
    "    if i == 7: #line no 8\n",
    "        print(f.readline())\n",
    "    else:\n",
    "        f.readline()"
   ]
  },
  {
   "cell_type": "code",
   "execution_count": 31,
   "id": "79d4c11a-3d88-4ec1-ac1e-7d0a1a988764",
   "metadata": {},
   "outputs": [
    {
     "name": "stdout",
     "output_type": "stream",
     "text": [
      "done\n"
     ]
    }
   ],
   "source": [
    "f = open('niyati.py',mode = 'r')\n",
    "\n",
    "data = f.readlines()\n",
    "\n",
    "f.close()\n",
    "print('done')"
   ]
  },
  {
   "cell_type": "code",
   "execution_count": null,
   "id": "1eb9fa25-979b-4305-8f2c-9530a170c216",
   "metadata": {},
   "outputs": [],
   "source": []
  }
 ],
 "metadata": {
  "kernelspec": {
   "display_name": "Python [conda env:base] *",
   "language": "python",
   "name": "conda-base-py"
  },
  "language_info": {
   "codemirror_mode": {
    "name": "ipython",
    "version": 3
   },
   "file_extension": ".py",
   "mimetype": "text/x-python",
   "name": "python",
   "nbconvert_exporter": "python",
   "pygments_lexer": "ipython3",
   "version": "3.13.5"
  }
 },
 "nbformat": 4,
 "nbformat_minor": 5
}
