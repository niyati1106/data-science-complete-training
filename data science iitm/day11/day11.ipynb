{
 "cells": [
  {
   "cell_type": "code",
   "execution_count": 60,
   "id": "e8a4386b-d075-400e-b526-ca137581ef12",
   "metadata": {},
   "outputs": [],
   "source": [
    "# DataTypes Pandas\n",
    "# Read File\n",
    "# Head\n",
    "# Info\n",
    "# tail\n",
    "# Sample\n",
    "# describe\n",
    "# corr\n",
    "# columns\n",
    "# index\n",
    "# isna\n",
    "# fillna\n",
    "# replace\n",
    "# drop\n",
    "# outliers detection\n",
    "# plots\n",
    "# masking\n",
    "# group by\n",
    "# pivot table\n",
    "# Analysis"
   ]
  },
  {
   "cell_type": "code",
   "execution_count": 61,
   "id": "ac691020-3458-4a7c-9ae3-b1d55d8769a4",
   "metadata": {},
   "outputs": [],
   "source": [
    "#pip install kagglehub"
   ]
  },
  {
   "cell_type": "code",
   "execution_count": 2,
   "id": "850447e0-c62a-4a68-b79c-7fc951c9e561",
   "metadata": {},
   "outputs": [
    {
     "name": "stdout",
     "output_type": "stream",
     "text": [
      "Path to dataset files: C:\\Users\\niyati\\.cache\\kagglehub\\datasets\\manishkr1754\\cardekho-used-car-data\\versions\\2\n"
     ]
    }
   ],
   "source": [
    "import kagglehub\n",
    "\n",
    "# Download latest version\n",
    "path = kagglehub.dataset_download(\"manishkr1754/cardekho-used-car-data\")\n",
    "\n",
    "print(\"Path to dataset files:\", path)"
   ]
  },
  {
   "cell_type": "code",
   "execution_count": 3,
   "id": "69ca8cf2-1513-4cde-932e-f1567d66db9d",
   "metadata": {},
   "outputs": [
    {
     "data": {
      "text/plain": [
       "['cardekho_dataset.csv']"
      ]
     },
     "execution_count": 3,
     "metadata": {},
     "output_type": "execute_result"
    }
   ],
   "source": [
    "import os \n",
    "all_files=os.listdir(path)#list form me directory batana \n",
    "#is path me file ka naam kya hai vo baatata hai\n",
    "all_files"
   ]
  },
  {
   "cell_type": "code",
   "execution_count": 4,
   "id": "8b065789-c64f-427b-840d-bac21d2b7f9a",
   "metadata": {},
   "outputs": [
    {
     "data": {
      "text/plain": [
       "'C:\\\\Users\\\\niyati\\\\.cache\\\\kagglehub\\\\datasets\\\\manishkr1754\\\\cardekho-used-car-data\\\\versions\\\\2\\\\cardekho_dataset.csv'"
      ]
     },
     "execution_count": 4,
     "metadata": {},
     "output_type": "execute_result"
    }
   ],
   "source": [
    "file_path=path+'\\\\'+all_files[0]#\\\\ ka mtlb hai folder k andar file rakhi hai\n",
    "file_path"
   ]
  },
  {
   "cell_type": "code",
   "execution_count": 65,
   "id": "c2d02b46-582f-4e99-84dd-130a3a332e29",
   "metadata": {},
   "outputs": [
    {
     "name": "stdout",
     "output_type": "stream",
     "text": [
      "file loaded successfully\n"
     ]
    }
   ],
   "source": [
    "import pandas as pd \n",
    "df=pd.read_csv(file_path)\n",
    "print('file loaded successfully')"
   ]
  },
  {
   "cell_type": "code",
   "execution_count": 66,
   "id": "e4d4c331-e4fc-423a-9a53-fd99de4aaeab",
   "metadata": {},
   "outputs": [],
   "source": [
    "#step 1 import module \n",
    "#step 2 read file"
   ]
  },
  {
   "cell_type": "code",
   "execution_count": 67,
   "id": "b47a81d6-dd53-4905-89df-e53b61400130",
   "metadata": {},
   "outputs": [
    {
     "data": {
      "text/html": [
       "<div>\n",
       "<style scoped>\n",
       "    .dataframe tbody tr th:only-of-type {\n",
       "        vertical-align: middle;\n",
       "    }\n",
       "\n",
       "    .dataframe tbody tr th {\n",
       "        vertical-align: top;\n",
       "    }\n",
       "\n",
       "    .dataframe thead th {\n",
       "        text-align: right;\n",
       "    }\n",
       "</style>\n",
       "<table border=\"1\" class=\"dataframe\">\n",
       "  <thead>\n",
       "    <tr style=\"text-align: right;\">\n",
       "      <th></th>\n",
       "      <th>Unnamed: 0</th>\n",
       "      <th>car_name</th>\n",
       "      <th>brand</th>\n",
       "      <th>model</th>\n",
       "      <th>vehicle_age</th>\n",
       "      <th>...</th>\n",
       "      <th>mileage</th>\n",
       "      <th>engine</th>\n",
       "      <th>max_power</th>\n",
       "      <th>seats</th>\n",
       "      <th>selling_price</th>\n",
       "    </tr>\n",
       "  </thead>\n",
       "  <tbody>\n",
       "    <tr>\n",
       "      <th>0</th>\n",
       "      <td>0</td>\n",
       "      <td>Maruti Alto</td>\n",
       "      <td>Maruti</td>\n",
       "      <td>Alto</td>\n",
       "      <td>9</td>\n",
       "      <td>...</td>\n",
       "      <td>19.70</td>\n",
       "      <td>796</td>\n",
       "      <td>46.30</td>\n",
       "      <td>5</td>\n",
       "      <td>120000</td>\n",
       "    </tr>\n",
       "    <tr>\n",
       "      <th>1</th>\n",
       "      <td>1</td>\n",
       "      <td>Hyundai Grand</td>\n",
       "      <td>Hyundai</td>\n",
       "      <td>Grand</td>\n",
       "      <td>5</td>\n",
       "      <td>...</td>\n",
       "      <td>18.90</td>\n",
       "      <td>1197</td>\n",
       "      <td>82.00</td>\n",
       "      <td>5</td>\n",
       "      <td>550000</td>\n",
       "    </tr>\n",
       "    <tr>\n",
       "      <th>2</th>\n",
       "      <td>2</td>\n",
       "      <td>Hyundai i20</td>\n",
       "      <td>Hyundai</td>\n",
       "      <td>i20</td>\n",
       "      <td>11</td>\n",
       "      <td>...</td>\n",
       "      <td>17.00</td>\n",
       "      <td>1197</td>\n",
       "      <td>80.00</td>\n",
       "      <td>5</td>\n",
       "      <td>215000</td>\n",
       "    </tr>\n",
       "    <tr>\n",
       "      <th>3</th>\n",
       "      <td>3</td>\n",
       "      <td>Maruti Alto</td>\n",
       "      <td>Maruti</td>\n",
       "      <td>Alto</td>\n",
       "      <td>9</td>\n",
       "      <td>...</td>\n",
       "      <td>20.92</td>\n",
       "      <td>998</td>\n",
       "      <td>67.10</td>\n",
       "      <td>5</td>\n",
       "      <td>226000</td>\n",
       "    </tr>\n",
       "    <tr>\n",
       "      <th>4</th>\n",
       "      <td>4</td>\n",
       "      <td>Ford Ecosport</td>\n",
       "      <td>Ford</td>\n",
       "      <td>Ecosport</td>\n",
       "      <td>6</td>\n",
       "      <td>...</td>\n",
       "      <td>22.77</td>\n",
       "      <td>1498</td>\n",
       "      <td>98.59</td>\n",
       "      <td>5</td>\n",
       "      <td>570000</td>\n",
       "    </tr>\n",
       "  </tbody>\n",
       "</table>\n",
       "<p>5 rows × 14 columns</p>\n",
       "</div>"
      ],
      "text/plain": [
       "   Unnamed: 0       car_name    brand     model  vehicle_age  ...  mileage  \\\n",
       "0           0    Maruti Alto   Maruti      Alto            9  ...    19.70   \n",
       "1           1  Hyundai Grand  Hyundai     Grand            5  ...    18.90   \n",
       "2           2    Hyundai i20  Hyundai       i20           11  ...    17.00   \n",
       "3           3    Maruti Alto   Maruti      Alto            9  ...    20.92   \n",
       "4           4  Ford Ecosport     Ford  Ecosport            6  ...    22.77   \n",
       "\n",
       "  engine max_power seats  selling_price  \n",
       "0    796     46.30     5         120000  \n",
       "1   1197     82.00     5         550000  \n",
       "2   1197     80.00     5         215000  \n",
       "3    998     67.10     5         226000  \n",
       "4   1498     98.59     5         570000  \n",
       "\n",
       "[5 rows x 14 columns]"
      ]
     },
     "execution_count": 67,
     "metadata": {},
     "output_type": "execute_result"
    }
   ],
   "source": [
    "#step 3\n",
    "df.head()"
   ]
  },
  {
   "cell_type": "code",
   "execution_count": 68,
   "id": "ff41ee84-7b3a-4200-b00f-bb676351b348",
   "metadata": {},
   "outputs": [
    {
     "data": {
      "text/plain": [
       "Unnamed: 0           0\n",
       "car_name             0\n",
       "brand                0\n",
       "model                0\n",
       "vehicle_age          0\n",
       "km_driven            0\n",
       "seller_type          0\n",
       "fuel_type            0\n",
       "transmission_type    0\n",
       "mileage              0\n",
       "engine               0\n",
       "max_power            0\n",
       "seats                0\n",
       "selling_price        0\n",
       "dtype: int64"
      ]
     },
     "execution_count": 68,
     "metadata": {},
     "output_type": "execute_result"
    }
   ],
   "source": [
    "df.isnull().sum()"
   ]
  },
  {
   "cell_type": "code",
   "execution_count": 69,
   "id": "dd4d52ea-e222-40ad-9ca9-57caa5acba92",
   "metadata": {
    "scrolled": true
   },
   "outputs": [
    {
     "data": {
      "text/html": [
       "<div>\n",
       "<style scoped>\n",
       "    .dataframe tbody tr th:only-of-type {\n",
       "        vertical-align: middle;\n",
       "    }\n",
       "\n",
       "    .dataframe tbody tr th {\n",
       "        vertical-align: top;\n",
       "    }\n",
       "\n",
       "    .dataframe thead th {\n",
       "        text-align: right;\n",
       "    }\n",
       "</style>\n",
       "<table border=\"1\" class=\"dataframe\">\n",
       "  <thead>\n",
       "    <tr style=\"text-align: right;\">\n",
       "      <th></th>\n",
       "      <th>Unnamed: 0</th>\n",
       "      <th>car_name</th>\n",
       "      <th>brand</th>\n",
       "      <th>model</th>\n",
       "      <th>vehicle_age</th>\n",
       "      <th>km_driven</th>\n",
       "      <th>seller_type</th>\n",
       "      <th>fuel_type</th>\n",
       "      <th>transmission_type</th>\n",
       "      <th>mileage</th>\n",
       "      <th>engine</th>\n",
       "      <th>max_power</th>\n",
       "      <th>seats</th>\n",
       "      <th>selling_price</th>\n",
       "    </tr>\n",
       "  </thead>\n",
       "  <tbody>\n",
       "    <tr>\n",
       "      <th>15406</th>\n",
       "      <td>19537</td>\n",
       "      <td>Hyundai i10</td>\n",
       "      <td>Hyundai</td>\n",
       "      <td>i10</td>\n",
       "      <td>9</td>\n",
       "      <td>10723</td>\n",
       "      <td>Dealer</td>\n",
       "      <td>Petrol</td>\n",
       "      <td>Manual</td>\n",
       "      <td>19.81</td>\n",
       "      <td>1086</td>\n",
       "      <td>68.05</td>\n",
       "      <td>5</td>\n",
       "      <td>250000</td>\n",
       "    </tr>\n",
       "    <tr>\n",
       "      <th>15407</th>\n",
       "      <td>19540</td>\n",
       "      <td>Maruti Ertiga</td>\n",
       "      <td>Maruti</td>\n",
       "      <td>Ertiga</td>\n",
       "      <td>2</td>\n",
       "      <td>18000</td>\n",
       "      <td>Dealer</td>\n",
       "      <td>Petrol</td>\n",
       "      <td>Manual</td>\n",
       "      <td>17.50</td>\n",
       "      <td>1373</td>\n",
       "      <td>91.10</td>\n",
       "      <td>7</td>\n",
       "      <td>925000</td>\n",
       "    </tr>\n",
       "    <tr>\n",
       "      <th>15408</th>\n",
       "      <td>19541</td>\n",
       "      <td>Skoda Rapid</td>\n",
       "      <td>Skoda</td>\n",
       "      <td>Rapid</td>\n",
       "      <td>6</td>\n",
       "      <td>67000</td>\n",
       "      <td>Dealer</td>\n",
       "      <td>Diesel</td>\n",
       "      <td>Manual</td>\n",
       "      <td>21.14</td>\n",
       "      <td>1498</td>\n",
       "      <td>103.52</td>\n",
       "      <td>5</td>\n",
       "      <td>425000</td>\n",
       "    </tr>\n",
       "    <tr>\n",
       "      <th>15409</th>\n",
       "      <td>19542</td>\n",
       "      <td>Mahindra XUV500</td>\n",
       "      <td>Mahindra</td>\n",
       "      <td>XUV500</td>\n",
       "      <td>5</td>\n",
       "      <td>3800000</td>\n",
       "      <td>Dealer</td>\n",
       "      <td>Diesel</td>\n",
       "      <td>Manual</td>\n",
       "      <td>16.00</td>\n",
       "      <td>2179</td>\n",
       "      <td>140.00</td>\n",
       "      <td>7</td>\n",
       "      <td>1225000</td>\n",
       "    </tr>\n",
       "    <tr>\n",
       "      <th>15410</th>\n",
       "      <td>19543</td>\n",
       "      <td>Honda City</td>\n",
       "      <td>Honda</td>\n",
       "      <td>City</td>\n",
       "      <td>2</td>\n",
       "      <td>13000</td>\n",
       "      <td>Dealer</td>\n",
       "      <td>Petrol</td>\n",
       "      <td>Automatic</td>\n",
       "      <td>18.00</td>\n",
       "      <td>1497</td>\n",
       "      <td>117.60</td>\n",
       "      <td>5</td>\n",
       "      <td>1200000</td>\n",
       "    </tr>\n",
       "  </tbody>\n",
       "</table>\n",
       "</div>"
      ],
      "text/plain": [
       "       Unnamed: 0         car_name     brand   model  vehicle_age  km_driven  \\\n",
       "15406       19537      Hyundai i10   Hyundai     i10            9      10723   \n",
       "15407       19540    Maruti Ertiga    Maruti  Ertiga            2      18000   \n",
       "15408       19541      Skoda Rapid     Skoda   Rapid            6      67000   \n",
       "15409       19542  Mahindra XUV500  Mahindra  XUV500            5    3800000   \n",
       "15410       19543       Honda City     Honda    City            2      13000   \n",
       "\n",
       "      seller_type fuel_type transmission_type  mileage  engine  max_power  \\\n",
       "15406      Dealer    Petrol            Manual    19.81    1086      68.05   \n",
       "15407      Dealer    Petrol            Manual    17.50    1373      91.10   \n",
       "15408      Dealer    Diesel            Manual    21.14    1498     103.52   \n",
       "15409      Dealer    Diesel            Manual    16.00    2179     140.00   \n",
       "15410      Dealer    Petrol         Automatic    18.00    1497     117.60   \n",
       "\n",
       "       seats  selling_price  \n",
       "15406      5         250000  \n",
       "15407      7         925000  \n",
       "15408      5         425000  \n",
       "15409      7        1225000  \n",
       "15410      5        1200000  "
      ]
     },
     "execution_count": 69,
     "metadata": {},
     "output_type": "execute_result"
    }
   ],
   "source": [
    "df.tail()"
   ]
  },
  {
   "cell_type": "code",
   "execution_count": 70,
   "id": "bb33612a-f93d-4bc7-ab15-1d52c567186b",
   "metadata": {},
   "outputs": [
    {
     "name": "stdout",
     "output_type": "stream",
     "text": [
      "<class 'pandas.core.frame.DataFrame'>\n",
      "RangeIndex: 15411 entries, 0 to 15410\n",
      "Data columns (total 14 columns):\n",
      " #   Column             Non-Null Count  Dtype  \n",
      "---  ------             --------------  -----  \n",
      " 0   Unnamed: 0         15411 non-null  int64  \n",
      " 1   car_name           15411 non-null  object \n",
      " 2   brand              15411 non-null  object \n",
      " 3   model              15411 non-null  object \n",
      " 4   vehicle_age        15411 non-null  int64  \n",
      " 5   km_driven          15411 non-null  int64  \n",
      " 6   seller_type        15411 non-null  object \n",
      " 7   fuel_type          15411 non-null  object \n",
      " 8   transmission_type  15411 non-null  object \n",
      " 9   mileage            15411 non-null  float64\n",
      " 10  engine             15411 non-null  int64  \n",
      " 11  max_power          15411 non-null  float64\n",
      " 12  seats              15411 non-null  int64  \n",
      " 13  selling_price      15411 non-null  int64  \n",
      "dtypes: float64(2), int64(6), object(6)\n",
      "memory usage: 1.6+ MB\n"
     ]
    }
   ],
   "source": [
    "df.info()"
   ]
  },
  {
   "cell_type": "code",
   "execution_count": 71,
   "id": "05143cb0-8a84-4eee-8994-b60a689e0938",
   "metadata": {},
   "outputs": [
    {
     "name": "stdout",
     "output_type": "stream",
     "text": [
      "data contains\n",
      "rows:15411\n",
      "columns:14\n"
     ]
    }
   ],
   "source": [
    "r,c=df.shape #it is an attribute not a function\n",
    "print(f'''data contains\n",
    "rows:{r}\n",
    "columns:{c}''')"
   ]
  },
  {
   "cell_type": "code",
   "execution_count": null,
   "id": "4a371a30-9ceb-44cf-82e0-0833097ad61f",
   "metadata": {},
   "outputs": [],
   "source": []
  },
  {
   "cell_type": "code",
   "execution_count": 72,
   "id": "1c3def5c-8748-4854-a121-99cc6ec65225",
   "metadata": {},
   "outputs": [],
   "source": [
    "# data wrangling \n",
    "# data munging "
   ]
  },
  {
   "cell_type": "code",
   "execution_count": 73,
   "id": "0a45c5a3-ccc7-4c3d-8017-c01bcedb7cec",
   "metadata": {},
   "outputs": [
    {
     "data": {
      "text/plain": [
       "Index(['Unnamed: 0', 'car_name', 'brand', 'model', 'vehicle_age', 'km_driven',\n",
       "       'seller_type', 'fuel_type', 'transmission_type', 'mileage', 'engine',\n",
       "       'max_power', 'seats', 'selling_price'],\n",
       "      dtype='object')"
      ]
     },
     "execution_count": 73,
     "metadata": {},
     "output_type": "execute_result"
    }
   ],
   "source": [
    "#list of columns\n",
    "df.columns\n"
   ]
  },
  {
   "cell_type": "code",
   "execution_count": 74,
   "id": "1e11ef22-54d6-4163-af80-f66b2f6c7288",
   "metadata": {},
   "outputs": [],
   "source": [
    "#unnamed:0 :wrong column\n",
    "\n",
    "df.drop('Unnamed: 0',axis=1,inplace=True) #agar koi change karne pe porana wala he output show ho raha hai toh change  permanent nahi haiiii"
   ]
  },
  {
   "cell_type": "code",
   "execution_count": 75,
   "id": "24adfdb5-1b65-4c20-a980-d9d77a61fc79",
   "metadata": {},
   "outputs": [
    {
     "data": {
      "text/html": [
       "<div>\n",
       "<style scoped>\n",
       "    .dataframe tbody tr th:only-of-type {\n",
       "        vertical-align: middle;\n",
       "    }\n",
       "\n",
       "    .dataframe tbody tr th {\n",
       "        vertical-align: top;\n",
       "    }\n",
       "\n",
       "    .dataframe thead th {\n",
       "        text-align: right;\n",
       "    }\n",
       "</style>\n",
       "<table border=\"1\" class=\"dataframe\">\n",
       "  <thead>\n",
       "    <tr style=\"text-align: right;\">\n",
       "      <th></th>\n",
       "      <th>car_name</th>\n",
       "      <th>brand</th>\n",
       "      <th>model</th>\n",
       "      <th>vehicle_age</th>\n",
       "      <th>km_driven</th>\n",
       "      <th>seller_type</th>\n",
       "      <th>fuel_type</th>\n",
       "      <th>transmission_type</th>\n",
       "      <th>mileage</th>\n",
       "      <th>engine</th>\n",
       "      <th>max_power</th>\n",
       "      <th>seats</th>\n",
       "      <th>selling_price</th>\n",
       "    </tr>\n",
       "  </thead>\n",
       "  <tbody>\n",
       "    <tr>\n",
       "      <th>7343</th>\n",
       "      <td>Maruti Eeco</td>\n",
       "      <td>Maruti</td>\n",
       "      <td>Eeco</td>\n",
       "      <td>5</td>\n",
       "      <td>50000</td>\n",
       "      <td>Individual</td>\n",
       "      <td>Petrol</td>\n",
       "      <td>Manual</td>\n",
       "      <td>15.37</td>\n",
       "      <td>1196</td>\n",
       "      <td>73.00</td>\n",
       "      <td>7</td>\n",
       "      <td>350000</td>\n",
       "    </tr>\n",
       "    <tr>\n",
       "      <th>8401</th>\n",
       "      <td>Hyundai Grand</td>\n",
       "      <td>Hyundai</td>\n",
       "      <td>Grand</td>\n",
       "      <td>4</td>\n",
       "      <td>12000</td>\n",
       "      <td>Dealer</td>\n",
       "      <td>Petrol</td>\n",
       "      <td>Manual</td>\n",
       "      <td>18.90</td>\n",
       "      <td>1197</td>\n",
       "      <td>81.86</td>\n",
       "      <td>5</td>\n",
       "      <td>445000</td>\n",
       "    </tr>\n",
       "    <tr>\n",
       "      <th>11797</th>\n",
       "      <td>Hyundai Verna</td>\n",
       "      <td>Hyundai</td>\n",
       "      <td>Verna</td>\n",
       "      <td>8</td>\n",
       "      <td>66000</td>\n",
       "      <td>Dealer</td>\n",
       "      <td>Petrol</td>\n",
       "      <td>Automatic</td>\n",
       "      <td>15.74</td>\n",
       "      <td>1591</td>\n",
       "      <td>121.30</td>\n",
       "      <td>5</td>\n",
       "      <td>560000</td>\n",
       "    </tr>\n",
       "    <tr>\n",
       "      <th>10235</th>\n",
       "      <td>Hyundai i20</td>\n",
       "      <td>Hyundai</td>\n",
       "      <td>i20</td>\n",
       "      <td>4</td>\n",
       "      <td>32000</td>\n",
       "      <td>Dealer</td>\n",
       "      <td>Petrol</td>\n",
       "      <td>Manual</td>\n",
       "      <td>18.60</td>\n",
       "      <td>1197</td>\n",
       "      <td>81.83</td>\n",
       "      <td>5</td>\n",
       "      <td>595000</td>\n",
       "    </tr>\n",
       "    <tr>\n",
       "      <th>6129</th>\n",
       "      <td>Maruti Ciaz</td>\n",
       "      <td>Maruti</td>\n",
       "      <td>Ciaz</td>\n",
       "      <td>5</td>\n",
       "      <td>77185</td>\n",
       "      <td>Dealer</td>\n",
       "      <td>Petrol</td>\n",
       "      <td>Manual</td>\n",
       "      <td>20.73</td>\n",
       "      <td>1373</td>\n",
       "      <td>91.10</td>\n",
       "      <td>5</td>\n",
       "      <td>600000</td>\n",
       "    </tr>\n",
       "    <tr>\n",
       "      <th>4975</th>\n",
       "      <td>Mahindra Thar</td>\n",
       "      <td>Mahindra</td>\n",
       "      <td>Thar</td>\n",
       "      <td>6</td>\n",
       "      <td>36000</td>\n",
       "      <td>Dealer</td>\n",
       "      <td>Diesel</td>\n",
       "      <td>Manual</td>\n",
       "      <td>18.06</td>\n",
       "      <td>2523</td>\n",
       "      <td>63.00</td>\n",
       "      <td>7</td>\n",
       "      <td>725000</td>\n",
       "    </tr>\n",
       "    <tr>\n",
       "      <th>447</th>\n",
       "      <td>Maruti Swift</td>\n",
       "      <td>Maruti</td>\n",
       "      <td>Swift</td>\n",
       "      <td>8</td>\n",
       "      <td>70000</td>\n",
       "      <td>Individual</td>\n",
       "      <td>Petrol</td>\n",
       "      <td>Manual</td>\n",
       "      <td>18.60</td>\n",
       "      <td>1197</td>\n",
       "      <td>85.80</td>\n",
       "      <td>5</td>\n",
       "      <td>350000</td>\n",
       "    </tr>\n",
       "    <tr>\n",
       "      <th>789</th>\n",
       "      <td>Maruti Baleno</td>\n",
       "      <td>Maruti</td>\n",
       "      <td>Baleno</td>\n",
       "      <td>6</td>\n",
       "      <td>38819</td>\n",
       "      <td>Dealer</td>\n",
       "      <td>Petrol</td>\n",
       "      <td>Manual</td>\n",
       "      <td>21.40</td>\n",
       "      <td>1197</td>\n",
       "      <td>83.10</td>\n",
       "      <td>5</td>\n",
       "      <td>510000</td>\n",
       "    </tr>\n",
       "    <tr>\n",
       "      <th>15265</th>\n",
       "      <td>Renault KWID</td>\n",
       "      <td>Renault</td>\n",
       "      <td>KWID</td>\n",
       "      <td>4</td>\n",
       "      <td>20000</td>\n",
       "      <td>Individual</td>\n",
       "      <td>Petrol</td>\n",
       "      <td>Automatic</td>\n",
       "      <td>24.04</td>\n",
       "      <td>999</td>\n",
       "      <td>67.00</td>\n",
       "      <td>5</td>\n",
       "      <td>375000</td>\n",
       "    </tr>\n",
       "    <tr>\n",
       "      <th>8132</th>\n",
       "      <td>Maruti Wagon R</td>\n",
       "      <td>Maruti</td>\n",
       "      <td>Wagon R</td>\n",
       "      <td>7</td>\n",
       "      <td>21980</td>\n",
       "      <td>Individual</td>\n",
       "      <td>Petrol</td>\n",
       "      <td>Manual</td>\n",
       "      <td>20.51</td>\n",
       "      <td>998</td>\n",
       "      <td>67.04</td>\n",
       "      <td>5</td>\n",
       "      <td>290000</td>\n",
       "    </tr>\n",
       "  </tbody>\n",
       "</table>\n",
       "</div>"
      ],
      "text/plain": [
       "             car_name     brand    model  vehicle_age  km_driven seller_type  \\\n",
       "7343      Maruti Eeco    Maruti     Eeco            5      50000  Individual   \n",
       "8401    Hyundai Grand   Hyundai    Grand            4      12000      Dealer   \n",
       "11797   Hyundai Verna   Hyundai    Verna            8      66000      Dealer   \n",
       "10235     Hyundai i20   Hyundai      i20            4      32000      Dealer   \n",
       "6129      Maruti Ciaz    Maruti     Ciaz            5      77185      Dealer   \n",
       "4975    Mahindra Thar  Mahindra     Thar            6      36000      Dealer   \n",
       "447      Maruti Swift    Maruti    Swift            8      70000  Individual   \n",
       "789     Maruti Baleno    Maruti   Baleno            6      38819      Dealer   \n",
       "15265    Renault KWID   Renault     KWID            4      20000  Individual   \n",
       "8132   Maruti Wagon R    Maruti  Wagon R            7      21980  Individual   \n",
       "\n",
       "      fuel_type transmission_type  mileage  engine  max_power  seats  \\\n",
       "7343     Petrol            Manual    15.37    1196      73.00      7   \n",
       "8401     Petrol            Manual    18.90    1197      81.86      5   \n",
       "11797    Petrol         Automatic    15.74    1591     121.30      5   \n",
       "10235    Petrol            Manual    18.60    1197      81.83      5   \n",
       "6129     Petrol            Manual    20.73    1373      91.10      5   \n",
       "4975     Diesel            Manual    18.06    2523      63.00      7   \n",
       "447      Petrol            Manual    18.60    1197      85.80      5   \n",
       "789      Petrol            Manual    21.40    1197      83.10      5   \n",
       "15265    Petrol         Automatic    24.04     999      67.00      5   \n",
       "8132     Petrol            Manual    20.51     998      67.04      5   \n",
       "\n",
       "       selling_price  \n",
       "7343          350000  \n",
       "8401          445000  \n",
       "11797         560000  \n",
       "10235         595000  \n",
       "6129          600000  \n",
       "4975          725000  \n",
       "447           350000  \n",
       "789           510000  \n",
       "15265         375000  \n",
       "8132          290000  "
      ]
     },
     "execution_count": 75,
     "metadata": {},
     "output_type": "execute_result"
    }
   ],
   "source": [
    "df.sample(10)"
   ]
  },
  {
   "cell_type": "code",
   "execution_count": 76,
   "id": "e96a9cb7-c07b-4c51-807d-176990bae79a",
   "metadata": {},
   "outputs": [
    {
     "data": {
      "text/plain": [
       "RangeIndex(start=0, stop=15411, step=1)"
      ]
     },
     "execution_count": 76,
     "metadata": {},
     "output_type": "execute_result"
    }
   ],
   "source": [
    "df.index#it will check index range"
   ]
  },
  {
   "cell_type": "code",
   "execution_count": 77,
   "id": "69f75b56-ce4c-4137-8504-075915e1e38b",
   "metadata": {},
   "outputs": [
    {
     "data": {
      "text/plain": [
       "car_name             0\n",
       "brand                0\n",
       "model                0\n",
       "vehicle_age          0\n",
       "km_driven            0\n",
       "seller_type          0\n",
       "fuel_type            0\n",
       "transmission_type    0\n",
       "mileage              0\n",
       "engine               0\n",
       "max_power            0\n",
       "seats                0\n",
       "selling_price        0\n",
       "dtype: int64"
      ]
     },
     "execution_count": 77,
     "metadata": {},
     "output_type": "execute_result"
    }
   ],
   "source": [
    "#to check null values and zero represent that tere are no null values\n",
    "df.isnull().sum()\n",
    "df.isna().sum()"
   ]
  },
  {
   "cell_type": "code",
   "execution_count": 78,
   "id": "3f3d8eb9-308c-4817-bfb7-a69a38b17e7b",
   "metadata": {},
   "outputs": [
    {
     "data": {
      "text/plain": [
       "<Axes: >"
      ]
     },
     "execution_count": 78,
     "metadata": {},
     "output_type": "execute_result"
    },
    {
     "data": {
      "image/png": "[encoded data removed]",
      "text/plain": [
       "<Figure size 640x480 with 2 Axes>"
      ]
     },
     "metadata": {},
     "output_type": "display_data"
    }
   ],
   "source": [
    "#graph/visuals:heatmap to show that tere is no missing values in our data set\n",
    "import seaborn as sns\n",
    "sns.heatmap(df.isnull())"
   ]
  },
  {
   "cell_type": "code",
   "execution_count": 79,
   "id": "1a16fa01-7fc1-48c8-b83e-f9ecfb55874a",
   "metadata": {},
   "outputs": [],
   "source": [
    "#if therre were any missing values we would have either replaced it or ignore it or fill it or remove it  \n",
    "#for now we dont need it\n"
   ]
  },
  {
   "cell_type": "code",
   "execution_count": 80,
   "id": "8ff4e53b-057f-40a1-accd-3728a7280be3",
   "metadata": {},
   "outputs": [
    {
     "data": {
      "text/html": [
       "<div>\n",
       "<style scoped>\n",
       "    .dataframe tbody tr th:only-of-type {\n",
       "        vertical-align: middle;\n",
       "    }\n",
       "\n",
       "    .dataframe tbody tr th {\n",
       "        vertical-align: top;\n",
       "    }\n",
       "\n",
       "    .dataframe thead th {\n",
       "        text-align: right;\n",
       "    }\n",
       "</style>\n",
       "<table border=\"1\" class=\"dataframe\">\n",
       "  <thead>\n",
       "    <tr style=\"text-align: right;\">\n",
       "      <th></th>\n",
       "      <th>vehicle_age</th>\n",
       "      <th>km_driven</th>\n",
       "      <th>mileage</th>\n",
       "      <th>engine</th>\n",
       "      <th>max_power</th>\n",
       "      <th>seats</th>\n",
       "      <th>selling_price</th>\n",
       "    </tr>\n",
       "  </thead>\n",
       "  <tbody>\n",
       "    <tr>\n",
       "      <th>count</th>\n",
       "      <td>15411.00</td>\n",
       "      <td>15411.00</td>\n",
       "      <td>15411.00</td>\n",
       "      <td>15411.00</td>\n",
       "      <td>15411.00</td>\n",
       "      <td>15411.00</td>\n",
       "      <td>15411.00</td>\n",
       "    </tr>\n",
       "    <tr>\n",
       "      <th>mean</th>\n",
       "      <td>6.04</td>\n",
       "      <td>55616.48</td>\n",
       "      <td>19.70</td>\n",
       "      <td>1486.06</td>\n",
       "      <td>100.59</td>\n",
       "      <td>5.33</td>\n",
       "      <td>774971.12</td>\n",
       "    </tr>\n",
       "    <tr>\n",
       "      <th>std</th>\n",
       "      <td>3.01</td>\n",
       "      <td>51618.55</td>\n",
       "      <td>4.17</td>\n",
       "      <td>521.11</td>\n",
       "      <td>42.97</td>\n",
       "      <td>0.81</td>\n",
       "      <td>894128.36</td>\n",
       "    </tr>\n",
       "    <tr>\n",
       "      <th>min</th>\n",
       "      <td>0.00</td>\n",
       "      <td>100.00</td>\n",
       "      <td>4.00</td>\n",
       "      <td>793.00</td>\n",
       "      <td>38.40</td>\n",
       "      <td>0.00</td>\n",
       "      <td>40000.00</td>\n",
       "    </tr>\n",
       "    <tr>\n",
       "      <th>25%</th>\n",
       "      <td>4.00</td>\n",
       "      <td>30000.00</td>\n",
       "      <td>17.00</td>\n",
       "      <td>1197.00</td>\n",
       "      <td>74.00</td>\n",
       "      <td>5.00</td>\n",
       "      <td>385000.00</td>\n",
       "    </tr>\n",
       "    <tr>\n",
       "      <th>50%</th>\n",
       "      <td>6.00</td>\n",
       "      <td>50000.00</td>\n",
       "      <td>19.67</td>\n",
       "      <td>1248.00</td>\n",
       "      <td>88.50</td>\n",
       "      <td>5.00</td>\n",
       "      <td>556000.00</td>\n",
       "    </tr>\n",
       "    <tr>\n",
       "      <th>75%</th>\n",
       "      <td>8.00</td>\n",
       "      <td>70000.00</td>\n",
       "      <td>22.70</td>\n",
       "      <td>1582.00</td>\n",
       "      <td>117.30</td>\n",
       "      <td>5.00</td>\n",
       "      <td>825000.00</td>\n",
       "    </tr>\n",
       "    <tr>\n",
       "      <th>max</th>\n",
       "      <td>29.00</td>\n",
       "      <td>3800000.00</td>\n",
       "      <td>33.54</td>\n",
       "      <td>6592.00</td>\n",
       "      <td>626.00</td>\n",
       "      <td>9.00</td>\n",
       "      <td>39500000.00</td>\n",
       "    </tr>\n",
       "  </tbody>\n",
       "</table>\n",
       "</div>"
      ],
      "text/plain": [
       "       vehicle_age   km_driven   mileage    engine  max_power     seats  \\\n",
       "count     15411.00    15411.00  15411.00  15411.00   15411.00  15411.00   \n",
       "mean          6.04    55616.48     19.70   1486.06     100.59      5.33   \n",
       "std           3.01    51618.55      4.17    521.11      42.97      0.81   \n",
       "min           0.00      100.00      4.00    793.00      38.40      0.00   \n",
       "25%           4.00    30000.00     17.00   1197.00      74.00      5.00   \n",
       "50%           6.00    50000.00     19.67   1248.00      88.50      5.00   \n",
       "75%           8.00    70000.00     22.70   1582.00     117.30      5.00   \n",
       "max          29.00  3800000.00     33.54   6592.00     626.00      9.00   \n",
       "\n",
       "       selling_price  \n",
       "count       15411.00  \n",
       "mean       774971.12  \n",
       "std        894128.36  \n",
       "min         40000.00  \n",
       "25%        385000.00  \n",
       "50%        556000.00  \n",
       "75%        825000.00  \n",
       "max      39500000.00  "
      ]
     },
     "execution_count": 80,
     "metadata": {},
     "output_type": "execute_result"
    }
   ],
   "source": [
    "#statistical analysis  by default  returns numerical data and will ignore objects/catogorical data\n",
    "df.describe().round(2)"
   ]
  },
  {
   "cell_type": "code",
   "execution_count": 81,
   "id": "b2b9b9d4-0aec-4d9b-acd0-fa2b9004a5b3",
   "metadata": {},
   "outputs": [
    {
     "data": {
      "text/html": [
       "<div>\n",
       "<style scoped>\n",
       "    .dataframe tbody tr th:only-of-type {\n",
       "        vertical-align: middle;\n",
       "    }\n",
       "\n",
       "    .dataframe tbody tr th {\n",
       "        vertical-align: top;\n",
       "    }\n",
       "\n",
       "    .dataframe thead th {\n",
       "        text-align: right;\n",
       "    }\n",
       "</style>\n",
       "<table border=\"1\" class=\"dataframe\">\n",
       "  <thead>\n",
       "    <tr style=\"text-align: right;\">\n",
       "      <th></th>\n",
       "      <th>car_name</th>\n",
       "      <th>brand</th>\n",
       "      <th>model</th>\n",
       "      <th>seller_type</th>\n",
       "      <th>fuel_type</th>\n",
       "      <th>transmission_type</th>\n",
       "    </tr>\n",
       "  </thead>\n",
       "  <tbody>\n",
       "    <tr>\n",
       "      <th>count</th>\n",
       "      <td>15411</td>\n",
       "      <td>15411</td>\n",
       "      <td>15411</td>\n",
       "      <td>15411</td>\n",
       "      <td>15411</td>\n",
       "      <td>15411</td>\n",
       "    </tr>\n",
       "    <tr>\n",
       "      <th>unique</th>\n",
       "      <td>121</td>\n",
       "      <td>32</td>\n",
       "      <td>120</td>\n",
       "      <td>3</td>\n",
       "      <td>5</td>\n",
       "      <td>2</td>\n",
       "    </tr>\n",
       "    <tr>\n",
       "      <th>top</th>\n",
       "      <td>Hyundai i20</td>\n",
       "      <td>Maruti</td>\n",
       "      <td>i20</td>\n",
       "      <td>Dealer</td>\n",
       "      <td>Petrol</td>\n",
       "      <td>Manual</td>\n",
       "    </tr>\n",
       "    <tr>\n",
       "      <th>freq</th>\n",
       "      <td>906</td>\n",
       "      <td>4992</td>\n",
       "      <td>906</td>\n",
       "      <td>9539</td>\n",
       "      <td>7643</td>\n",
       "      <td>12225</td>\n",
       "    </tr>\n",
       "  </tbody>\n",
       "</table>\n",
       "</div>"
      ],
      "text/plain": [
       "           car_name   brand  model seller_type fuel_type transmission_type\n",
       "count         15411   15411  15411       15411     15411             15411\n",
       "unique          121      32    120           3         5                 2\n",
       "top     Hyundai i20  Maruti    i20      Dealer    Petrol            Manual\n",
       "freq            906    4992    906        9539      7643             12225"
      ]
     },
     "execution_count": 81,
     "metadata": {},
     "output_type": "execute_result"
    }
   ],
   "source": [
    "#for objects or textual data\n",
    "df.describe(include='object')"
   ]
  },
  {
   "cell_type": "code",
   "execution_count": 82,
   "id": "6385c186-3b9f-4a7b-9df4-1eeff4c4b7d6",
   "metadata": {},
   "outputs": [],
   "source": [
    "#findings \n",
    "#car dekho website has  most demanded model 120 freq:906"
   ]
  },
  {
   "cell_type": "code",
   "execution_count": 83,
   "id": "f267527a-0249-4e05-8f54-94194ae05632",
   "metadata": {},
   "outputs": [],
   "source": [
    "# analysis\n",
    "#Univariate, Bivariate and Multivariate data and its analysis\n",
    "#univariate: single col\n",
    "#Bivariate:double col\n",
    "#Multivariate: more than 2 col\n"
   ]
  },
  {
   "cell_type": "code",
   "execution_count": 84,
   "id": "c894d421-6602-4f0f-a2a5-5d477bacd6f0",
   "metadata": {},
   "outputs": [
    {
     "data": {
      "text/plain": [
       "Index(['vehicle_age', 'km_driven', 'mileage', 'engine', 'max_power', 'seats',\n",
       "       'selling_price'],\n",
       "      dtype='object')"
      ]
     },
     "execution_count": 84,
     "metadata": {},
     "output_type": "execute_result"
    }
   ],
   "source": [
    "df.describe().columns"
   ]
  },
  {
   "cell_type": "code",
   "execution_count": 85,
   "id": "623d2792-b78b-47b0-ae21-d6e9d486e45b",
   "metadata": {},
   "outputs": [],
   "source": [
    "#univariate: single col analysisdf.describe().columns\n",
    "cat_col=list(df.describe(include='object').columns)\n",
    "num_col=list( df.describe().columns)\n"
   ]
  },
  {
   "cell_type": "code",
   "execution_count": 86,
   "id": "97c52818-304d-4c37-8dfd-b65a13d32753",
   "metadata": {},
   "outputs": [
    {
     "name": "stdout",
     "output_type": "stream",
     "text": [
      "['car_name', 'brand', 'model', 'seller_type', 'fuel_type', 'transmission_type']\n"
     ]
    }
   ],
   "source": [
    "print(cat_col)\n"
   ]
  },
  {
   "cell_type": "code",
   "execution_count": 87,
   "id": "7f023b53-f195-4e08-92ff-5b9767dcb935",
   "metadata": {},
   "outputs": [
    {
     "name": "stdout",
     "output_type": "stream",
     "text": [
      "['vehicle_age', 'km_driven', 'mileage', 'engine', 'max_power', 'seats', 'selling_price']\n"
     ]
    }
   ],
   "source": [
    "print(num_col)"
   ]
  },
  {
   "cell_type": "code",
   "execution_count": 88,
   "id": "a0098499-1a97-4edd-935f-3961df401204",
   "metadata": {},
   "outputs": [
    {
     "data": {
      "text/plain": [
       "pandas.core.frame.DataFrame"
      ]
     },
     "execution_count": 88,
     "metadata": {},
     "output_type": "execute_result"
    }
   ],
   "source": [
    "#unique,#nunique   #value_count\n",
    "type((df))"
   ]
  },
  {
   "cell_type": "code",
   "execution_count": 89,
   "id": "f9671af9-5644-49dc-9dee-d29d74fa5c22",
   "metadata": {},
   "outputs": [
    {
     "name": "stdout",
     "output_type": "stream",
     "text": [
      "<class 'pandas.core.series.Series'>\n"
     ]
    }
   ],
   "source": [
    "print(type(df['car_name']))\n"
   ]
  },
  {
   "cell_type": "code",
   "execution_count": 90,
   "id": "131961f0-0caf-459a-997b-c4e4d12973ec",
   "metadata": {},
   "outputs": [
    {
     "data": {
      "text/plain": [
       "car_name\n",
       "Hyundai i20           906\n",
       "Maruti Swift Dzire    890\n",
       "Maruti Swift          781\n",
       "Maruti Alto           778\n",
       "Honda City            757\n",
       "Maruti Wagon R        717\n",
       "Hyundai Grand         580\n",
       "Toyota Innova         545\n",
       "Hyundai Verna         492\n",
       "Hyundai i10           410\n",
       "Name: count, dtype: int64"
      ]
     },
     "execution_count": 90,
     "metadata": {},
     "output_type": "execute_result"
    }
   ],
   "source": [
    "#top 10 highest sold car at car dekho\n",
    "df['car_name'].value_counts().head(10)"
   ]
  },
  {
   "cell_type": "code",
   "execution_count": 91,
   "id": "c4065f50-9639-49df-bc27-9cb88c24a9e3",
   "metadata": {},
   "outputs": [
    {
     "data": {
      "text/plain": [
       "car_name\n",
       "ISUZU MUX                2\n",
       "Hyundai Aura             1\n",
       "Maserati Ghibli          1\n",
       "Ferrari GTC4Lusso        1\n",
       "Tata Altroz              1\n",
       "Mercedes-AMG C           1\n",
       "Rolls-Royce Ghost        1\n",
       "Maserati Quattroporte    1\n",
       "Isuzu MUX                1\n",
       "Force Gurkha             1\n",
       "Name: count, dtype: int64"
      ]
     },
     "execution_count": 91,
     "metadata": {},
     "output_type": "execute_result"
    }
   ],
   "source": [
    "#top 10 highest sold car at car dekho\n",
    "df['car_name'].value_counts().tail(10)"
   ]
  },
  {
   "cell_type": "code",
   "execution_count": 92,
   "id": "c89f8047-8866-477c-8032-161e9af9f0cc",
   "metadata": {},
   "outputs": [
    {
     "name": "stdout",
     "output_type": "stream",
     "text": [
      "\n",
      "\n",
      " top 10 analysis on car_name\n",
      "------------------\n",
      "\n"
     ]
    },
    {
     "data": {
      "text/plain": [
       "car_name\n",
       "Hyundai i20           906\n",
       "Maruti Swift Dzire    890\n",
       "Maruti Swift          781\n",
       "Maruti Alto           778\n",
       "Honda City            757\n",
       "Maruti Wagon R        717\n",
       "Hyundai Grand         580\n",
       "Toyota Innova         545\n",
       "Hyundai Verna         492\n",
       "Hyundai i10           410\n",
       "Name: count, dtype: int64"
      ]
     },
     "metadata": {},
     "output_type": "display_data"
    },
    {
     "name": "stdout",
     "output_type": "stream",
     "text": [
      "-------------------\n",
      "\n",
      "\n",
      "\n",
      " top 10 analysis on brand\n",
      "------------------\n",
      "\n"
     ]
    },
    {
     "data": {
      "text/plain": [
       "brand\n",
       "Maruti        4992\n",
       "Hyundai       2982\n",
       "Honda         1485\n",
       "Mahindra      1011\n",
       "Toyota         793\n",
       "Ford           790\n",
       "Volkswagen     620\n",
       "Renault        536\n",
       "BMW            439\n",
       "Tata           430\n",
       "Name: count, dtype: int64"
      ]
     },
     "metadata": {},
     "output_type": "display_data"
    },
    {
     "name": "stdout",
     "output_type": "stream",
     "text": [
      "-------------------\n",
      "\n",
      "\n",
      "\n",
      " top 10 analysis on model\n",
      "------------------\n",
      "\n"
     ]
    },
    {
     "data": {
      "text/plain": [
       "model\n",
       "i20            906\n",
       "Swift Dzire    890\n",
       "Swift          781\n",
       "Alto           778\n",
       "City           757\n",
       "Wagon R        717\n",
       "Grand          580\n",
       "Innova         545\n",
       "Verna          492\n",
       "i10            410\n",
       "Name: count, dtype: int64"
      ]
     },
     "metadata": {},
     "output_type": "display_data"
    },
    {
     "name": "stdout",
     "output_type": "stream",
     "text": [
      "-------------------\n",
      "\n",
      "\n",
      "\n",
      " top 10 analysis on seller_type\n",
      "------------------\n",
      "\n"
     ]
    },
    {
     "data": {
      "text/plain": [
       "seller_type\n",
       "Dealer              9539\n",
       "Individual          5699\n",
       "Trustmark Dealer     173\n",
       "Name: count, dtype: int64"
      ]
     },
     "metadata": {},
     "output_type": "display_data"
    },
    {
     "name": "stdout",
     "output_type": "stream",
     "text": [
      "-------------------\n",
      "\n",
      "\n",
      "\n",
      " top 10 analysis on fuel_type\n",
      "------------------\n",
      "\n"
     ]
    },
    {
     "data": {
      "text/plain": [
       "fuel_type\n",
       "Petrol      7643\n",
       "Diesel      7419\n",
       "CNG          301\n",
       "LPG           44\n",
       "Electric       4\n",
       "Name: count, dtype: int64"
      ]
     },
     "metadata": {},
     "output_type": "display_data"
    },
    {
     "name": "stdout",
     "output_type": "stream",
     "text": [
      "-------------------\n",
      "\n",
      "\n",
      "\n",
      " top 10 analysis on transmission_type\n",
      "------------------\n",
      "\n"
     ]
    },
    {
     "data": {
      "text/plain": [
       "transmission_type\n",
       "Manual       12225\n",
       "Automatic     3186\n",
       "Name: count, dtype: int64"
      ]
     },
     "metadata": {},
     "output_type": "display_data"
    },
    {
     "name": "stdout",
     "output_type": "stream",
     "text": [
      "-------------------\n",
      "\n"
     ]
    }
   ],
   "source": [
    "#top 10 ananlysis formcatogorial columns\n",
    "\n",
    "for i in  cat_col:\n",
    "    print(f'''\\n\\n top 10 analysis on {i}''')\n",
    "    print('------------------\\n')\n",
    "    display( df[i].value_counts().head(10))\n",
    "\n",
    "    print('-------------------\\n')\n",
    "\n",
    "\n"
   ]
  },
  {
   "cell_type": "code",
   "execution_count": 93,
   "id": "86491bfb-c013-483f-8f14-9c3396c86c73",
   "metadata": {},
   "outputs": [
    {
     "name": "stdout",
     "output_type": "stream",
     "text": [
      "\n",
      "\n",
      " bottom 10 analysis on car_name\n",
      "------------------\n",
      "\n"
     ]
    },
    {
     "data": {
      "text/plain": [
       "car_name\n",
       "ISUZU MUX                2\n",
       "Hyundai Aura             1\n",
       "Maserati Ghibli          1\n",
       "Ferrari GTC4Lusso        1\n",
       "Tata Altroz              1\n",
       "Mercedes-AMG C           1\n",
       "Rolls-Royce Ghost        1\n",
       "Maserati Quattroporte    1\n",
       "Isuzu MUX                1\n",
       "Force Gurkha             1\n",
       "Name: count, dtype: int64"
      ]
     },
     "metadata": {},
     "output_type": "display_data"
    },
    {
     "name": "stdout",
     "output_type": "stream",
     "text": [
      "-------------------\n",
      "\n",
      "\n",
      "\n",
      " bottom 10 analysis on brand\n",
      "------------------\n",
      "\n"
     ]
    },
    {
     "data": {
      "text/plain": [
       "brand\n",
       "Nissan          11\n",
       "Lexus           10\n",
       "Isuzu            8\n",
       "Bentley          3\n",
       "Maserati         2\n",
       "ISUZU            2\n",
       "Ferrari          1\n",
       "Mercedes-AMG     1\n",
       "Rolls-Royce      1\n",
       "Force            1\n",
       "Name: count, dtype: int64"
      ]
     },
     "metadata": {},
     "output_type": "display_data"
    },
    {
     "name": "stdout",
     "output_type": "stream",
     "text": [
      "-------------------\n",
      "\n",
      "\n",
      "\n",
      " bottom 10 analysis on model\n",
      "------------------\n",
      "\n"
     ]
    },
    {
     "data": {
      "text/plain": [
       "model\n",
       "Dzire LXI       2\n",
       "Macan           2\n",
       "Ghibli          1\n",
       "Aura            1\n",
       "GTC4Lusso       1\n",
       "Altroz          1\n",
       "C               1\n",
       "Ghost           1\n",
       "Quattroporte    1\n",
       "Gurkha          1\n",
       "Name: count, dtype: int64"
      ]
     },
     "metadata": {},
     "output_type": "display_data"
    },
    {
     "name": "stdout",
     "output_type": "stream",
     "text": [
      "-------------------\n",
      "\n",
      "\n",
      "\n",
      " bottom 10 analysis on seller_type\n",
      "------------------\n",
      "\n"
     ]
    },
    {
     "data": {
      "text/plain": [
       "seller_type\n",
       "Dealer              9539\n",
       "Individual          5699\n",
       "Trustmark Dealer     173\n",
       "Name: count, dtype: int64"
      ]
     },
     "metadata": {},
     "output_type": "display_data"
    },
    {
     "name": "stdout",
     "output_type": "stream",
     "text": [
      "-------------------\n",
      "\n",
      "\n",
      "\n",
      " bottom 10 analysis on fuel_type\n",
      "------------------\n",
      "\n"
     ]
    },
    {
     "data": {
      "text/plain": [
       "fuel_type\n",
       "Petrol      7643\n",
       "Diesel      7419\n",
       "CNG          301\n",
       "LPG           44\n",
       "Electric       4\n",
       "Name: count, dtype: int64"
      ]
     },
     "metadata": {},
     "output_type": "display_data"
    },
    {
     "name": "stdout",
     "output_type": "stream",
     "text": [
      "-------------------\n",
      "\n",
      "\n",
      "\n",
      " bottom 10 analysis on transmission_type\n",
      "------------------\n",
      "\n"
     ]
    },
    {
     "data": {
      "text/plain": [
       "transmission_type\n",
       "Manual       12225\n",
       "Automatic     3186\n",
       "Name: count, dtype: int64"
      ]
     },
     "metadata": {},
     "output_type": "display_data"
    },
    {
     "name": "stdout",
     "output_type": "stream",
     "text": [
      "-------------------\n",
      "\n"
     ]
    }
   ],
   "source": [
    "\n",
    "for i in  cat_col:\n",
    "    print(f'''\\n\\n bottom 10 analysis on {i}''')\n",
    "    print('------------------\\n')\n",
    "    display( df[i].value_counts().tail(10))\n",
    "\n",
    "    print('-------------------\\n')\n",
    "\n",
    "\n"
   ]
  },
  {
   "cell_type": "code",
   "execution_count": 94,
   "id": "519fcab2-273f-477a-a4ec-8479b72663fb",
   "metadata": {},
   "outputs": [
    {
     "data": {
      "text/plain": [
       "car_name\n",
       "Hyundai i20           5.878918\n",
       "Maruti Swift Dzire    5.775096\n",
       "Maruti Swift          5.067809\n",
       "Maruti Alto           5.048342\n",
       "Honda City            4.912076\n",
       "Maruti Wagon R        4.652521\n",
       "Hyundai Grand         3.763546\n",
       "Toyota Innova         3.536435\n",
       "Hyundai Verna         3.192525\n",
       "Hyundai i10           2.660437\n",
       "Name: count, dtype: float64"
      ]
     },
     "execution_count": 94,
     "metadata": {},
     "output_type": "execute_result"
    }
   ],
   "source": [
    " top_10_series = df['car_name'].value_counts().head(10)\n",
    "(top_10_series/r)*100"
   ]
  },
  {
   "cell_type": "code",
   "execution_count": 95,
   "id": "5b7a0e80-a019-4b12-8754-1d4553ffc36f",
   "metadata": {},
   "outputs": [
    {
     "name": "stdout",
     "output_type": "stream",
     "text": [
      "\n",
      "\n",
      "Top 10 Analysis by car_name\n",
      "\n"
     ]
    },
    {
     "data": {
      "text/plain": [
       "car_name\n",
       "Hyundai i20           13.214702\n",
       "Maruti Swift Dzire    12.981330\n",
       "Maruti Swift          11.391482\n",
       "Maruti Alto           11.347725\n",
       "Honda City            11.041424\n",
       "Maruti Wagon R        10.457993\n",
       "Hyundai Grand          8.459743\n",
       "Toyota Innova          7.949242\n",
       "Hyundai Verna          7.176196\n",
       "Hyundai i10            5.980163\n",
       "Name: count, dtype: float64"
      ]
     },
     "metadata": {},
     "output_type": "display_data"
    },
    {
     "name": "stdout",
     "output_type": "stream",
     "text": [
      "\n",
      "\n",
      "Top 10 Analysis by brand\n",
      "\n"
     ]
    },
    {
     "data": {
      "text/plain": [
       "brand\n",
       "Maruti        35.459582\n",
       "Hyundai       21.181986\n",
       "Honda         10.548373\n",
       "Mahindra       7.181418\n",
       "Toyota         5.632902\n",
       "Ford           5.611593\n",
       "Volkswagen     4.404035\n",
       "Renault        3.807359\n",
       "BMW            3.118341\n",
       "Tata           3.054411\n",
       "Name: count, dtype: float64"
      ]
     },
     "metadata": {},
     "output_type": "display_data"
    },
    {
     "name": "stdout",
     "output_type": "stream",
     "text": [
      "\n",
      "\n",
      "Top 10 Analysis by model\n",
      "\n"
     ]
    },
    {
     "data": {
      "text/plain": [
       "model\n",
       "i20            13.214702\n",
       "Swift Dzire    12.981330\n",
       "Swift          11.391482\n",
       "Alto           11.347725\n",
       "City           11.041424\n",
       "Wagon R        10.457993\n",
       "Grand           8.459743\n",
       "Innova          7.949242\n",
       "Verna           7.176196\n",
       "i10             5.980163\n",
       "Name: count, dtype: float64"
      ]
     },
     "metadata": {},
     "output_type": "display_data"
    },
    {
     "name": "stdout",
     "output_type": "stream",
     "text": [
      "\n",
      "\n",
      "Top 10 Analysis by seller_type\n",
      "\n"
     ]
    },
    {
     "data": {
      "text/plain": [
       "seller_type\n",
       "Dealer              61.897346\n",
       "Individual          36.980079\n",
       "Trustmark Dealer     1.122575\n",
       "Name: count, dtype: float64"
      ]
     },
     "metadata": {},
     "output_type": "display_data"
    },
    {
     "name": "stdout",
     "output_type": "stream",
     "text": [
      "\n",
      "\n",
      "Top 10 Analysis by fuel_type\n",
      "\n"
     ]
    },
    {
     "data": {
      "text/plain": [
       "fuel_type\n",
       "Petrol      49.594446\n",
       "Diesel      48.140938\n",
       "CNG          1.953150\n",
       "LPG          0.285510\n",
       "Electric     0.025955\n",
       "Name: count, dtype: float64"
      ]
     },
     "metadata": {},
     "output_type": "display_data"
    },
    {
     "name": "stdout",
     "output_type": "stream",
     "text": [
      "\n",
      "\n",
      "Top 10 Analysis by transmission_type\n",
      "\n"
     ]
    },
    {
     "data": {
      "text/plain": [
       "transmission_type\n",
       "Manual       79.326455\n",
       "Automatic    20.673545\n",
       "Name: count, dtype: float64"
      ]
     },
     "metadata": {},
     "output_type": "display_data"
    }
   ],
   "source": [
    "# Top 10 Analysis For Categorical Columns\n",
    "\n",
    "for i in cat_col:\n",
    "  print(f'\\n\\nTop 10 Analysis by {i}\\n')\n",
    "  top_10 = df[i].value_counts().head(10)\n",
    "  ans = (top_10/top_10.sum())*100\n",
    "  display(ans)"
   ]
  },
  {
   "cell_type": "code",
   "execution_count": 48,
   "id": "299dd5c4-1b1b-4250-835e-d97da90099c2",
   "metadata": {},
   "outputs": [
    {
     "data": {
      "text/plain": [
       "<Axes: ylabel='count'>"
      ]
     },
     "execution_count": 48,
     "metadata": {},
     "output_type": "execute_result"
    },
    {
     "data": {
      "image/png": "[encoded data removed]",
      "text/plain": [
       "<Figure size 640x480 with 1 Axes>"
      ]
     },
     "metadata": {},
     "output_type": "display_data"
    }
   ],
   "source": [
    "df['car_name'].value_counts().head(10).plot(kind = 'pie',autopct = '%.2f%%') #ato pvt give automatic percetage"
   ]
  },
  {
   "cell_type": "code",
   "execution_count": 126,
   "id": "96bfab3c-3570-48e6-a32b-0ccc11adeb20",
   "metadata": {},
   "outputs": [],
   "source": [
    "def graph(col_name):\n",
    "    import matplotlib.pyplot as plt\n",
    "    x= df[col_name].value_counts().head(10).index\n",
    "    y= df[col_name].value_counts().head(10).values\n",
    "    \n",
    "    plt.figure(figsize=(8,4))\n",
    "    plt.title(f'top 10 {col_name} by inventory',fontsize=20,color='green')\n",
    "    #ax=plt.bar(x,y ,color='red')\n",
    "    ax=plt.bar(x,y ,color=sns.color_palette('rainbow',20))#cool,hot ,rainbow,magma\n",
    "    plt.bar_label(ax)\n",
    "    plt.xticks(rotation=20)#rotating the title for visibility\n",
    "    plt.show()\n"
   ]
  },
  {
   "cell_type": "code",
   "execution_count": 127,
   "id": "50933e92-8115-405a-8b2f-08b65bdcc6a5",
   "metadata": {},
   "outputs": [
    {
     "data": {
      "image/png": "[encoded data removed]",
      "text/plain": [
       "<Figure size 800x400 with 1 Axes>"
      ]
     },
     "metadata": {},
     "output_type": "display_data"
    }
   ],
   "source": [
    "graph('car_name')"
   ]
  },
  {
   "cell_type": "code",
   "execution_count": 128,
   "id": "29d64077-20fa-458b-b02b-2d21ab533b7e",
   "metadata": {},
   "outputs": [
    {
     "data": {
      "image/png": "[encoded data removed]",
      "text/plain": [
       "<Figure size 800x400 with 1 Axes>"
      ]
     },
     "metadata": {},
     "output_type": "display_data"
    },
    {
     "data": {
      "image/png": "[encoded data removed]",
      "text/plain": [
       "<Figure size 800x400 with 1 Axes>"
      ]
     },
     "metadata": {},
     "output_type": "display_data"
    },
    {
     "data": {
      "image/png": "[encoded data removed]",
      "text/plain": [
       "<Figure size 800x400 with 1 Axes>"
      ]
     },
     "metadata": {},
     "output_type": "display_data"
    },
    {
     "data": {
      "image/png": "[encoded data removed]",
      "text/plain": [
       "<Figure size 800x400 with 1 Axes>"
      ]
     },
     "metadata": {},
     "output_type": "display_data"
    },
    {
     "data": {
      "image/png": "[encoded data removed]",
      "text/plain": [
       "<Figure size 800x400 with 1 Axes>"
      ]
     },
     "metadata": {},
     "output_type": "display_data"
    },
    {
     "data": {
      "image/png": "[encoded data removed]",
      "text/plain": [
       "<Figure size 800x400 with 1 Axes>"
      ]
     },
     "metadata": {},
     "output_type": "display_data"
    }
   ],
   "source": [
    "for i in cat_col:\n",
    "    graph(i)"
   ]
  },
  {
   "cell_type": "code",
   "execution_count": 129,
   "id": "f189eac4-57fe-40dc-8037-1f43d0f4740d",
   "metadata": {},
   "outputs": [
    {
     "data": {
      "image/png": "[encoded data removed]",
      "text/plain": [
       "<Figure size 640x480 with 1 Axes>"
      ]
     },
     "metadata": {},
     "output_type": "display_data"
    }
   ],
   "source": [
    "import numpy as np\n",
    "import matplotlib.pyplot as plt\n",
    "plt.hist(df['selling_price'],bins=np.linspace(df['selling_price'].min(),df['selling_price'].max(),300))\n",
    "plt.show()"
   ]
  },
  {
   "cell_type": "code",
   "execution_count": 130,
   "id": "5d7d3a5c-0f4f-422f-ab4a-6d9009a02134",
   "metadata": {},
   "outputs": [],
   "source": [
    "def plot_hist(col_name,bin_size=100):\n",
    "    import numpy as np \n",
    "    import matplotlib.pyplot as plt\n",
    "    plt.title(f'{col_name} distribution analysis'.title(),fontsize=20,color='red')\n",
    "    plt.hist(df[col_name],color='blue',bins=np.linspace(df[col_name].min(),df[col_name].max(),bin_size))\n",
    "    plt.show()\n"
   ]
  },
  {
   "cell_type": "code",
   "execution_count": 131,
   "id": "b585f5ba-0d95-488d-a779-b2507745e964",
   "metadata": {},
   "outputs": [
    {
     "data": {
      "image/png": "[encoded data removed]",
      "text/plain": [
       "<Figure size 640x480 with 1 Axes>"
      ]
     },
     "metadata": {},
     "output_type": "display_data"
    }
   ],
   "source": [
    "plot_hist('engine')"
   ]
  },
  {
   "cell_type": "code",
   "execution_count": 133,
   "id": "de872667-0797-409c-8efc-e81e105573c8",
   "metadata": {},
   "outputs": [
    {
     "data": {
      "image/png": "[encoded data removed]",
      "text/plain": [
       "<Figure size 640x480 with 1 Axes>"
      ]
     },
     "metadata": {},
     "output_type": "display_data"
    },
    {
     "data": {
      "image/png": "[encoded data removed]",
      "text/plain": [
       "<Figure size 640x480 with 1 Axes>"
      ]
     },
     "metadata": {},
     "output_type": "display_data"
    },
    {
     "data": {
      "image/png": "[encoded data removed]",
      "text/plain": [
       "<Figure size 640x480 with 1 Axes>"
      ]
     },
     "metadata": {},
     "output_type": "display_data"
    },
    {
     "data": {
      "image/png": "[encoded data removed]",
      "text/plain": [
       "<Figure size 640x480 with 1 Axes>"
      ]
     },
     "metadata": {},
     "output_type": "display_data"
    },
    {
     "data": {
      "image/png": "[encoded data removed]",
      "text/plain": [
       "<Figure size 640x480 with 1 Axes>"
      ]
     },
     "metadata": {},
     "output_type": "display_data"
    },
    {
     "data": {
      "image/png": "[encoded data removed]",
      "text/plain": [
       "<Figure size 640x480 with 1 Axes>"
      ]
     },
     "metadata": {},
     "output_type": "display_data"
    },
    {
     "data": {
      "image/png": "[encoded data removed]",
      "text/plain": [
       "<Figure size 640x480 with 1 Axes>"
      ]
     },
     "metadata": {},
     "output_type": "display_data"
    }
   ],
   "source": [
    "for i in num_col:\n",
    "    plot_hist(i)"
   ]
  },
  {
   "cell_type": "code",
   "execution_count": 134,
   "id": "d1e7c6c1-e25b-48cb-9575-88820ffc8a11",
   "metadata": {},
   "outputs": [],
   "source": [
    "#how to filteer data frame\n",
    "#masking technique\n"
   ]
  },
  {
   "cell_type": "code",
   "execution_count": 135,
   "id": "865dfdcc-fcb5-4a87-aa12-0a8c2d99c8eb",
   "metadata": {},
   "outputs": [
    {
     "data": {
      "text/plain": [
       "Index(['car_name', 'brand', 'model', 'vehicle_age', 'km_driven', 'seller_type',\n",
       "       'fuel_type', 'transmission_type', 'mileage', 'engine', 'max_power',\n",
       "       'seats', 'selling_price'],\n",
       "      dtype='object')"
      ]
     },
     "execution_count": 135,
     "metadata": {},
     "output_type": "execute_result"
    }
   ],
   "source": [
    "df.columns"
   ]
  },
  {
   "cell_type": "code",
   "execution_count": 136,
   "id": "fbd78d03-312a-4e1a-ba8e-7070109b6efd",
   "metadata": {},
   "outputs": [
    {
     "data": {
      "text/plain": [
       "4.0"
      ]
     },
     "execution_count": 136,
     "metadata": {},
     "output_type": "execute_result"
    }
   ],
   "source": [
    "df['mileage'].min()"
   ]
  },
  {
   "cell_type": "code",
   "execution_count": 138,
   "id": "5c9b4990-6faf-41fe-a17e-e4cd1cf80c49",
   "metadata": {},
   "outputs": [
    {
     "data": {
      "text/html": [
       "<div>\n",
       "<style scoped>\n",
       "    .dataframe tbody tr th:only-of-type {\n",
       "        vertical-align: middle;\n",
       "    }\n",
       "\n",
       "    .dataframe tbody tr th {\n",
       "        vertical-align: top;\n",
       "    }\n",
       "\n",
       "    .dataframe thead th {\n",
       "        text-align: right;\n",
       "    }\n",
       "</style>\n",
       "<table border=\"1\" class=\"dataframe\">\n",
       "  <thead>\n",
       "    <tr style=\"text-align: right;\">\n",
       "      <th></th>\n",
       "      <th>car_name</th>\n",
       "      <th>brand</th>\n",
       "      <th>model</th>\n",
       "      <th>vehicle_age</th>\n",
       "      <th>km_driven</th>\n",
       "      <th>seller_type</th>\n",
       "      <th>fuel_type</th>\n",
       "      <th>transmission_type</th>\n",
       "      <th>mileage</th>\n",
       "      <th>engine</th>\n",
       "      <th>max_power</th>\n",
       "      <th>seats</th>\n",
       "      <th>selling_price</th>\n",
       "    </tr>\n",
       "  </thead>\n",
       "  <tbody>\n",
       "    <tr>\n",
       "      <th>3799</th>\n",
       "      <td>Ferrari GTC4Lusso</td>\n",
       "      <td>Ferrari</td>\n",
       "      <td>GTC4Lusso</td>\n",
       "      <td>2</td>\n",
       "      <td>3800</td>\n",
       "      <td>Dealer</td>\n",
       "      <td>Petrol</td>\n",
       "      <td>Automatic</td>\n",
       "      <td>4.0</td>\n",
       "      <td>3855</td>\n",
       "      <td>601.0</td>\n",
       "      <td>4</td>\n",
       "      <td>39500000</td>\n",
       "    </tr>\n",
       "  </tbody>\n",
       "</table>\n",
       "</div>"
      ],
      "text/plain": [
       "               car_name    brand      model  vehicle_age  km_driven  \\\n",
       "3799  Ferrari GTC4Lusso  Ferrari  GTC4Lusso            2       3800   \n",
       "\n",
       "     seller_type fuel_type transmission_type  mileage  engine  max_power  \\\n",
       "3799      Dealer    Petrol         Automatic      4.0    3855      601.0   \n",
       "\n",
       "      seats  selling_price  \n",
       "3799      4       39500000  "
      ]
     },
     "execution_count": 138,
     "metadata": {},
     "output_type": "execute_result"
    }
   ],
   "source": [
    "#minimum milage name\n",
    "df[df['mileage']==df['mileage'].min()]"
   ]
  },
  {
   "cell_type": "code",
   "execution_count": 140,
   "id": "b7c3253e-aa91-4958-8cf9-8b429297731a",
   "metadata": {},
   "outputs": [
    {
     "data": {
      "text/html": [
       "<div>\n",
       "<style scoped>\n",
       "    .dataframe tbody tr th:only-of-type {\n",
       "        vertical-align: middle;\n",
       "    }\n",
       "\n",
       "    .dataframe tbody tr th {\n",
       "        vertical-align: top;\n",
       "    }\n",
       "\n",
       "    .dataframe thead th {\n",
       "        text-align: right;\n",
       "    }\n",
       "</style>\n",
       "<table border=\"1\" class=\"dataframe\">\n",
       "  <thead>\n",
       "    <tr style=\"text-align: right;\">\n",
       "      <th></th>\n",
       "      <th>car_name</th>\n",
       "      <th>brand</th>\n",
       "      <th>model</th>\n",
       "      <th>vehicle_age</th>\n",
       "      <th>km_driven</th>\n",
       "      <th>seller_type</th>\n",
       "      <th>fuel_type</th>\n",
       "      <th>transmission_type</th>\n",
       "      <th>mileage</th>\n",
       "      <th>engine</th>\n",
       "      <th>max_power</th>\n",
       "      <th>seats</th>\n",
       "      <th>selling_price</th>\n",
       "    </tr>\n",
       "  </thead>\n",
       "  <tbody>\n",
       "    <tr>\n",
       "      <th>169</th>\n",
       "      <td>Maruti Wagon R</td>\n",
       "      <td>Maruti</td>\n",
       "      <td>Wagon R</td>\n",
       "      <td>3</td>\n",
       "      <td>52000</td>\n",
       "      <td>Dealer</td>\n",
       "      <td>CNG</td>\n",
       "      <td>Manual</td>\n",
       "      <td>33.54</td>\n",
       "      <td>998</td>\n",
       "      <td>67.04</td>\n",
       "      <td>5</td>\n",
       "      <td>435000</td>\n",
       "    </tr>\n",
       "    <tr>\n",
       "      <th>182</th>\n",
       "      <td>Maruti Wagon R</td>\n",
       "      <td>Maruti</td>\n",
       "      <td>Wagon R</td>\n",
       "      <td>8</td>\n",
       "      <td>64000</td>\n",
       "      <td>Dealer</td>\n",
       "      <td>CNG</td>\n",
       "      <td>Manual</td>\n",
       "      <td>33.54</td>\n",
       "      <td>998</td>\n",
       "      <td>67.04</td>\n",
       "      <td>5</td>\n",
       "      <td>270000</td>\n",
       "    </tr>\n",
       "    <tr>\n",
       "      <th>1250</th>\n",
       "      <td>Maruti Wagon R</td>\n",
       "      <td>Maruti</td>\n",
       "      <td>Wagon R</td>\n",
       "      <td>4</td>\n",
       "      <td>32013</td>\n",
       "      <td>Trustmark Dealer</td>\n",
       "      <td>CNG</td>\n",
       "      <td>Manual</td>\n",
       "      <td>33.54</td>\n",
       "      <td>998</td>\n",
       "      <td>67.04</td>\n",
       "      <td>5</td>\n",
       "      <td>380000</td>\n",
       "    </tr>\n",
       "    <tr>\n",
       "      <th>1574</th>\n",
       "      <td>Maruti Wagon R</td>\n",
       "      <td>Maruti</td>\n",
       "      <td>Wagon R</td>\n",
       "      <td>6</td>\n",
       "      <td>55000</td>\n",
       "      <td>Dealer</td>\n",
       "      <td>CNG</td>\n",
       "      <td>Manual</td>\n",
       "      <td>33.54</td>\n",
       "      <td>998</td>\n",
       "      <td>67.04</td>\n",
       "      <td>5</td>\n",
       "      <td>335000</td>\n",
       "    </tr>\n",
       "    <tr>\n",
       "      <th>2271</th>\n",
       "      <td>Maruti Wagon R</td>\n",
       "      <td>Maruti</td>\n",
       "      <td>Wagon R</td>\n",
       "      <td>9</td>\n",
       "      <td>62000</td>\n",
       "      <td>Dealer</td>\n",
       "      <td>CNG</td>\n",
       "      <td>Manual</td>\n",
       "      <td>33.54</td>\n",
       "      <td>998</td>\n",
       "      <td>67.04</td>\n",
       "      <td>5</td>\n",
       "      <td>340000</td>\n",
       "    </tr>\n",
       "    <tr>\n",
       "      <th>2303</th>\n",
       "      <td>Maruti Wagon R</td>\n",
       "      <td>Maruti</td>\n",
       "      <td>Wagon R</td>\n",
       "      <td>7</td>\n",
       "      <td>135975</td>\n",
       "      <td>Dealer</td>\n",
       "      <td>CNG</td>\n",
       "      <td>Manual</td>\n",
       "      <td>33.54</td>\n",
       "      <td>998</td>\n",
       "      <td>67.04</td>\n",
       "      <td>5</td>\n",
       "      <td>295000</td>\n",
       "    </tr>\n",
       "    <tr>\n",
       "      <th>2364</th>\n",
       "      <td>Maruti Wagon R</td>\n",
       "      <td>Maruti</td>\n",
       "      <td>Wagon R</td>\n",
       "      <td>8</td>\n",
       "      <td>63000</td>\n",
       "      <td>Dealer</td>\n",
       "      <td>CNG</td>\n",
       "      <td>Manual</td>\n",
       "      <td>33.54</td>\n",
       "      <td>998</td>\n",
       "      <td>67.04</td>\n",
       "      <td>5</td>\n",
       "      <td>351000</td>\n",
       "    </tr>\n",
       "    <tr>\n",
       "      <th>2750</th>\n",
       "      <td>Maruti Wagon R</td>\n",
       "      <td>Maruti</td>\n",
       "      <td>Wagon R</td>\n",
       "      <td>8</td>\n",
       "      <td>55853</td>\n",
       "      <td>Dealer</td>\n",
       "      <td>CNG</td>\n",
       "      <td>Manual</td>\n",
       "      <td>33.54</td>\n",
       "      <td>998</td>\n",
       "      <td>67.04</td>\n",
       "      <td>5</td>\n",
       "      <td>349000</td>\n",
       "    </tr>\n",
       "    <tr>\n",
       "      <th>2925</th>\n",
       "      <td>Maruti Wagon R</td>\n",
       "      <td>Maruti</td>\n",
       "      <td>Wagon R</td>\n",
       "      <td>3</td>\n",
       "      <td>32000</td>\n",
       "      <td>Dealer</td>\n",
       "      <td>CNG</td>\n",
       "      <td>Manual</td>\n",
       "      <td>33.54</td>\n",
       "      <td>998</td>\n",
       "      <td>67.04</td>\n",
       "      <td>5</td>\n",
       "      <td>485000</td>\n",
       "    </tr>\n",
       "    <tr>\n",
       "      <th>3342</th>\n",
       "      <td>Maruti Wagon R</td>\n",
       "      <td>Maruti</td>\n",
       "      <td>Wagon R</td>\n",
       "      <td>5</td>\n",
       "      <td>64224</td>\n",
       "      <td>Dealer</td>\n",
       "      <td>CNG</td>\n",
       "      <td>Manual</td>\n",
       "      <td>33.54</td>\n",
       "      <td>998</td>\n",
       "      <td>67.04</td>\n",
       "      <td>5</td>\n",
       "      <td>375000</td>\n",
       "    </tr>\n",
       "    <tr>\n",
       "      <th>3743</th>\n",
       "      <td>Maruti Wagon R</td>\n",
       "      <td>Maruti</td>\n",
       "      <td>Wagon R</td>\n",
       "      <td>7</td>\n",
       "      <td>69000</td>\n",
       "      <td>Dealer</td>\n",
       "      <td>CNG</td>\n",
       "      <td>Manual</td>\n",
       "      <td>33.54</td>\n",
       "      <td>998</td>\n",
       "      <td>67.04</td>\n",
       "      <td>5</td>\n",
       "      <td>349000</td>\n",
       "    </tr>\n",
       "    <tr>\n",
       "      <th>6989</th>\n",
       "      <td>Maruti Wagon R</td>\n",
       "      <td>Maruti</td>\n",
       "      <td>Wagon R</td>\n",
       "      <td>6</td>\n",
       "      <td>69000</td>\n",
       "      <td>Dealer</td>\n",
       "      <td>CNG</td>\n",
       "      <td>Manual</td>\n",
       "      <td>33.54</td>\n",
       "      <td>998</td>\n",
       "      <td>67.04</td>\n",
       "      <td>5</td>\n",
       "      <td>350000</td>\n",
       "    </tr>\n",
       "    <tr>\n",
       "      <th>9193</th>\n",
       "      <td>Maruti Wagon R</td>\n",
       "      <td>Maruti</td>\n",
       "      <td>Wagon R</td>\n",
       "      <td>2</td>\n",
       "      <td>19022</td>\n",
       "      <td>Dealer</td>\n",
       "      <td>CNG</td>\n",
       "      <td>Manual</td>\n",
       "      <td>33.54</td>\n",
       "      <td>998</td>\n",
       "      <td>67.04</td>\n",
       "      <td>5</td>\n",
       "      <td>470000</td>\n",
       "    </tr>\n",
       "    <tr>\n",
       "      <th>9483</th>\n",
       "      <td>Maruti Wagon R</td>\n",
       "      <td>Maruti</td>\n",
       "      <td>Wagon R</td>\n",
       "      <td>3</td>\n",
       "      <td>33955</td>\n",
       "      <td>Trustmark Dealer</td>\n",
       "      <td>CNG</td>\n",
       "      <td>Manual</td>\n",
       "      <td>33.54</td>\n",
       "      <td>998</td>\n",
       "      <td>67.04</td>\n",
       "      <td>5</td>\n",
       "      <td>425000</td>\n",
       "    </tr>\n",
       "    <tr>\n",
       "      <th>9908</th>\n",
       "      <td>Maruti Wagon R</td>\n",
       "      <td>Maruti</td>\n",
       "      <td>Wagon R</td>\n",
       "      <td>5</td>\n",
       "      <td>37208</td>\n",
       "      <td>Trustmark Dealer</td>\n",
       "      <td>CNG</td>\n",
       "      <td>Manual</td>\n",
       "      <td>33.54</td>\n",
       "      <td>998</td>\n",
       "      <td>67.04</td>\n",
       "      <td>5</td>\n",
       "      <td>365000</td>\n",
       "    </tr>\n",
       "    <tr>\n",
       "      <th>9960</th>\n",
       "      <td>Maruti Wagon R</td>\n",
       "      <td>Maruti</td>\n",
       "      <td>Wagon R</td>\n",
       "      <td>3</td>\n",
       "      <td>55000</td>\n",
       "      <td>Dealer</td>\n",
       "      <td>CNG</td>\n",
       "      <td>Manual</td>\n",
       "      <td>33.54</td>\n",
       "      <td>998</td>\n",
       "      <td>67.04</td>\n",
       "      <td>5</td>\n",
       "      <td>380000</td>\n",
       "    </tr>\n",
       "    <tr>\n",
       "      <th>10303</th>\n",
       "      <td>Maruti Wagon R</td>\n",
       "      <td>Maruti</td>\n",
       "      <td>Wagon R</td>\n",
       "      <td>9</td>\n",
       "      <td>71000</td>\n",
       "      <td>Dealer</td>\n",
       "      <td>CNG</td>\n",
       "      <td>Manual</td>\n",
       "      <td>33.54</td>\n",
       "      <td>998</td>\n",
       "      <td>67.04</td>\n",
       "      <td>5</td>\n",
       "      <td>275000</td>\n",
       "    </tr>\n",
       "    <tr>\n",
       "      <th>10361</th>\n",
       "      <td>Maruti Wagon R</td>\n",
       "      <td>Maruti</td>\n",
       "      <td>Wagon R</td>\n",
       "      <td>4</td>\n",
       "      <td>75000</td>\n",
       "      <td>Dealer</td>\n",
       "      <td>CNG</td>\n",
       "      <td>Manual</td>\n",
       "      <td>33.54</td>\n",
       "      <td>998</td>\n",
       "      <td>67.04</td>\n",
       "      <td>5</td>\n",
       "      <td>375000</td>\n",
       "    </tr>\n",
       "    <tr>\n",
       "      <th>11310</th>\n",
       "      <td>Maruti Wagon R</td>\n",
       "      <td>Maruti</td>\n",
       "      <td>Wagon R</td>\n",
       "      <td>5</td>\n",
       "      <td>65000</td>\n",
       "      <td>Dealer</td>\n",
       "      <td>CNG</td>\n",
       "      <td>Manual</td>\n",
       "      <td>33.54</td>\n",
       "      <td>998</td>\n",
       "      <td>67.04</td>\n",
       "      <td>5</td>\n",
       "      <td>310000</td>\n",
       "    </tr>\n",
       "    <tr>\n",
       "      <th>11685</th>\n",
       "      <td>Maruti Wagon R</td>\n",
       "      <td>Maruti</td>\n",
       "      <td>Wagon R</td>\n",
       "      <td>4</td>\n",
       "      <td>28763</td>\n",
       "      <td>Trustmark Dealer</td>\n",
       "      <td>CNG</td>\n",
       "      <td>Manual</td>\n",
       "      <td>33.54</td>\n",
       "      <td>998</td>\n",
       "      <td>67.04</td>\n",
       "      <td>5</td>\n",
       "      <td>400000</td>\n",
       "    </tr>\n",
       "    <tr>\n",
       "      <th>11727</th>\n",
       "      <td>Maruti Wagon R</td>\n",
       "      <td>Maruti</td>\n",
       "      <td>Wagon R</td>\n",
       "      <td>4</td>\n",
       "      <td>30000</td>\n",
       "      <td>Individual</td>\n",
       "      <td>CNG</td>\n",
       "      <td>Manual</td>\n",
       "      <td>33.54</td>\n",
       "      <td>998</td>\n",
       "      <td>67.04</td>\n",
       "      <td>5</td>\n",
       "      <td>450000</td>\n",
       "    </tr>\n",
       "    <tr>\n",
       "      <th>12260</th>\n",
       "      <td>Maruti Wagon R</td>\n",
       "      <td>Maruti</td>\n",
       "      <td>Wagon R</td>\n",
       "      <td>5</td>\n",
       "      <td>56000</td>\n",
       "      <td>Dealer</td>\n",
       "      <td>CNG</td>\n",
       "      <td>Manual</td>\n",
       "      <td>33.54</td>\n",
       "      <td>998</td>\n",
       "      <td>67.04</td>\n",
       "      <td>5</td>\n",
       "      <td>360000</td>\n",
       "    </tr>\n",
       "    <tr>\n",
       "      <th>12696</th>\n",
       "      <td>Maruti Wagon R</td>\n",
       "      <td>Maruti</td>\n",
       "      <td>Wagon R</td>\n",
       "      <td>5</td>\n",
       "      <td>53000</td>\n",
       "      <td>Dealer</td>\n",
       "      <td>CNG</td>\n",
       "      <td>Manual</td>\n",
       "      <td>33.54</td>\n",
       "      <td>998</td>\n",
       "      <td>67.04</td>\n",
       "      <td>5</td>\n",
       "      <td>380000</td>\n",
       "    </tr>\n",
       "    <tr>\n",
       "      <th>15226</th>\n",
       "      <td>Maruti Wagon R</td>\n",
       "      <td>Maruti</td>\n",
       "      <td>Wagon R</td>\n",
       "      <td>5</td>\n",
       "      <td>74844</td>\n",
       "      <td>Dealer</td>\n",
       "      <td>CNG</td>\n",
       "      <td>Manual</td>\n",
       "      <td>33.54</td>\n",
       "      <td>998</td>\n",
       "      <td>67.04</td>\n",
       "      <td>5</td>\n",
       "      <td>390000</td>\n",
       "    </tr>\n",
       "  </tbody>\n",
       "</table>\n",
       "</div>"
      ],
      "text/plain": [
       "             car_name   brand    model  vehicle_age  km_driven  \\\n",
       "169    Maruti Wagon R  Maruti  Wagon R            3      52000   \n",
       "182    Maruti Wagon R  Maruti  Wagon R            8      64000   \n",
       "1250   Maruti Wagon R  Maruti  Wagon R            4      32013   \n",
       "1574   Maruti Wagon R  Maruti  Wagon R            6      55000   \n",
       "2271   Maruti Wagon R  Maruti  Wagon R            9      62000   \n",
       "2303   Maruti Wagon R  Maruti  Wagon R            7     135975   \n",
       "2364   Maruti Wagon R  Maruti  Wagon R            8      63000   \n",
       "2750   Maruti Wagon R  Maruti  Wagon R            8      55853   \n",
       "2925   Maruti Wagon R  Maruti  Wagon R            3      32000   \n",
       "3342   Maruti Wagon R  Maruti  Wagon R            5      64224   \n",
       "3743   Maruti Wagon R  Maruti  Wagon R            7      69000   \n",
       "6989   Maruti Wagon R  Maruti  Wagon R            6      69000   \n",
       "9193   Maruti Wagon R  Maruti  Wagon R            2      19022   \n",
       "9483   Maruti Wagon R  Maruti  Wagon R            3      33955   \n",
       "9908   Maruti Wagon R  Maruti  Wagon R            5      37208   \n",
       "9960   Maruti Wagon R  Maruti  Wagon R            3      55000   \n",
       "10303  Maruti Wagon R  Maruti  Wagon R            9      71000   \n",
       "10361  Maruti Wagon R  Maruti  Wagon R            4      75000   \n",
       "11310  Maruti Wagon R  Maruti  Wagon R            5      65000   \n",
       "11685  Maruti Wagon R  Maruti  Wagon R            4      28763   \n",
       "11727  Maruti Wagon R  Maruti  Wagon R            4      30000   \n",
       "12260  Maruti Wagon R  Maruti  Wagon R            5      56000   \n",
       "12696  Maruti Wagon R  Maruti  Wagon R            5      53000   \n",
       "15226  Maruti Wagon R  Maruti  Wagon R            5      74844   \n",
       "\n",
       "            seller_type fuel_type transmission_type  mileage  engine  \\\n",
       "169              Dealer       CNG            Manual    33.54     998   \n",
       "182              Dealer       CNG            Manual    33.54     998   \n",
       "1250   Trustmark Dealer       CNG            Manual    33.54     998   \n",
       "1574             Dealer       CNG            Manual    33.54     998   \n",
       "2271             Dealer       CNG            Manual    33.54     998   \n",
       "2303             Dealer       CNG            Manual    33.54     998   \n",
       "2364             Dealer       CNG            Manual    33.54     998   \n",
       "2750             Dealer       CNG            Manual    33.54     998   \n",
       "2925             Dealer       CNG            Manual    33.54     998   \n",
       "3342             Dealer       CNG            Manual    33.54     998   \n",
       "3743             Dealer       CNG            Manual    33.54     998   \n",
       "6989             Dealer       CNG            Manual    33.54     998   \n",
       "9193             Dealer       CNG            Manual    33.54     998   \n",
       "9483   Trustmark Dealer       CNG            Manual    33.54     998   \n",
       "9908   Trustmark Dealer       CNG            Manual    33.54     998   \n",
       "9960             Dealer       CNG            Manual    33.54     998   \n",
       "10303            Dealer       CNG            Manual    33.54     998   \n",
       "10361            Dealer       CNG            Manual    33.54     998   \n",
       "11310            Dealer       CNG            Manual    33.54     998   \n",
       "11685  Trustmark Dealer       CNG            Manual    33.54     998   \n",
       "11727        Individual       CNG            Manual    33.54     998   \n",
       "12260            Dealer       CNG            Manual    33.54     998   \n",
       "12696            Dealer       CNG            Manual    33.54     998   \n",
       "15226            Dealer       CNG            Manual    33.54     998   \n",
       "\n",
       "       max_power  seats  selling_price  \n",
       "169        67.04      5         435000  \n",
       "182        67.04      5         270000  \n",
       "1250       67.04      5         380000  \n",
       "1574       67.04      5         335000  \n",
       "2271       67.04      5         340000  \n",
       "2303       67.04      5         295000  \n",
       "2364       67.04      5         351000  \n",
       "2750       67.04      5         349000  \n",
       "2925       67.04      5         485000  \n",
       "3342       67.04      5         375000  \n",
       "3743       67.04      5         349000  \n",
       "6989       67.04      5         350000  \n",
       "9193       67.04      5         470000  \n",
       "9483       67.04      5         425000  \n",
       "9908       67.04      5         365000  \n",
       "9960       67.04      5         380000  \n",
       "10303      67.04      5         275000  \n",
       "10361      67.04      5         375000  \n",
       "11310      67.04      5         310000  \n",
       "11685      67.04      5         400000  \n",
       "11727      67.04      5         450000  \n",
       "12260      67.04      5         360000  \n",
       "12696      67.04      5         380000  \n",
       "15226      67.04      5         390000  "
      ]
     },
     "execution_count": 140,
     "metadata": {},
     "output_type": "execute_result"
    }
   ],
   "source": [
    "#max milage name \n",
    "df[df['mileage']==df['mileage'].max()]"
   ]
  },
  {
   "cell_type": "code",
   "execution_count": 139,
   "id": "395ab80a-695a-40da-ab7e-61d95d1bf258",
   "metadata": {},
   "outputs": [
    {
     "data": {
      "text/html": [
       "<div>\n",
       "<style scoped>\n",
       "    .dataframe tbody tr th:only-of-type {\n",
       "        vertical-align: middle;\n",
       "    }\n",
       "\n",
       "    .dataframe tbody tr th {\n",
       "        vertical-align: top;\n",
       "    }\n",
       "\n",
       "    .dataframe thead th {\n",
       "        text-align: right;\n",
       "    }\n",
       "</style>\n",
       "<table border=\"1\" class=\"dataframe\">\n",
       "  <thead>\n",
       "    <tr style=\"text-align: right;\">\n",
       "      <th></th>\n",
       "      <th>car_name</th>\n",
       "      <th>brand</th>\n",
       "      <th>model</th>\n",
       "      <th>vehicle_age</th>\n",
       "      <th>km_driven</th>\n",
       "      <th>seller_type</th>\n",
       "      <th>fuel_type</th>\n",
       "      <th>transmission_type</th>\n",
       "      <th>mileage</th>\n",
       "      <th>engine</th>\n",
       "      <th>max_power</th>\n",
       "      <th>seats</th>\n",
       "      <th>selling_price</th>\n",
       "    </tr>\n",
       "  </thead>\n",
       "  <tbody>\n",
       "    <tr>\n",
       "      <th>3799</th>\n",
       "      <td>Ferrari GTC4Lusso</td>\n",
       "      <td>Ferrari</td>\n",
       "      <td>GTC4Lusso</td>\n",
       "      <td>2</td>\n",
       "      <td>3800</td>\n",
       "      <td>Dealer</td>\n",
       "      <td>Petrol</td>\n",
       "      <td>Automatic</td>\n",
       "      <td>4.0</td>\n",
       "      <td>3855</td>\n",
       "      <td>601.0</td>\n",
       "      <td>4</td>\n",
       "      <td>39500000</td>\n",
       "    </tr>\n",
       "  </tbody>\n",
       "</table>\n",
       "</div>"
      ],
      "text/plain": [
       "               car_name    brand      model  vehicle_age  km_driven  \\\n",
       "3799  Ferrari GTC4Lusso  Ferrari  GTC4Lusso            2       3800   \n",
       "\n",
       "     seller_type fuel_type transmission_type  mileage  engine  max_power  \\\n",
       "3799      Dealer    Petrol         Automatic      4.0    3855      601.0   \n",
       "\n",
       "      seats  selling_price  \n",
       "3799      4       39500000  "
      ]
     },
     "execution_count": 139,
     "metadata": {},
     "output_type": "execute_result"
    }
   ],
   "source": [
    "#maximum  selling price\n",
    "df[df['selling_price']==df['selling_price'].max()]"
   ]
  },
  {
   "cell_type": "code",
   "execution_count": 141,
   "id": "a4d9828b-e394-4d54-8473-c408ef001cd2",
   "metadata": {},
   "outputs": [
    {
     "data": {
      "text/html": [
       "<div>\n",
       "<style scoped>\n",
       "    .dataframe tbody tr th:only-of-type {\n",
       "        vertical-align: middle;\n",
       "    }\n",
       "\n",
       "    .dataframe tbody tr th {\n",
       "        vertical-align: top;\n",
       "    }\n",
       "\n",
       "    .dataframe thead th {\n",
       "        text-align: right;\n",
       "    }\n",
       "</style>\n",
       "<table border=\"1\" class=\"dataframe\">\n",
       "  <thead>\n",
       "    <tr style=\"text-align: right;\">\n",
       "      <th></th>\n",
       "      <th>car_name</th>\n",
       "      <th>brand</th>\n",
       "      <th>model</th>\n",
       "      <th>vehicle_age</th>\n",
       "      <th>km_driven</th>\n",
       "      <th>seller_type</th>\n",
       "      <th>fuel_type</th>\n",
       "      <th>transmission_type</th>\n",
       "      <th>mileage</th>\n",
       "      <th>engine</th>\n",
       "      <th>max_power</th>\n",
       "      <th>seats</th>\n",
       "      <th>selling_price</th>\n",
       "    </tr>\n",
       "  </thead>\n",
       "  <tbody>\n",
       "    <tr>\n",
       "      <th>15409</th>\n",
       "      <td>Mahindra XUV500</td>\n",
       "      <td>Mahindra</td>\n",
       "      <td>XUV500</td>\n",
       "      <td>5</td>\n",
       "      <td>3800000</td>\n",
       "      <td>Dealer</td>\n",
       "      <td>Diesel</td>\n",
       "      <td>Manual</td>\n",
       "      <td>16.0</td>\n",
       "      <td>2179</td>\n",
       "      <td>140.0</td>\n",
       "      <td>7</td>\n",
       "      <td>1225000</td>\n",
       "    </tr>\n",
       "  </tbody>\n",
       "</table>\n",
       "</div>"
      ],
      "text/plain": [
       "              car_name     brand   model  vehicle_age  km_driven seller_type  \\\n",
       "15409  Mahindra XUV500  Mahindra  XUV500            5    3800000      Dealer   \n",
       "\n",
       "      fuel_type transmission_type  mileage  engine  max_power  seats  \\\n",
       "15409    Diesel            Manual     16.0    2179      140.0      7   \n",
       "\n",
       "       selling_price  \n",
       "15409        1225000  "
      ]
     },
     "execution_count": 141,
     "metadata": {},
     "output_type": "execute_result"
    }
   ],
   "source": [
    "#maximum driven code\n",
    "df[df['km_driven']==df['km_driven'].max()]"
   ]
  },
  {
   "cell_type": "code",
   "execution_count": 144,
   "id": "eaceea08-90f1-46f4-ac1e-f8ad75653c12",
   "metadata": {},
   "outputs": [
    {
     "data": {
      "text/html": [
       "<div>\n",
       "<style scoped>\n",
       "    .dataframe tbody tr th:only-of-type {\n",
       "        vertical-align: middle;\n",
       "    }\n",
       "\n",
       "    .dataframe tbody tr th {\n",
       "        vertical-align: top;\n",
       "    }\n",
       "\n",
       "    .dataframe thead th {\n",
       "        text-align: right;\n",
       "    }\n",
       "</style>\n",
       "<table border=\"1\" class=\"dataframe\">\n",
       "  <thead>\n",
       "    <tr style=\"text-align: right;\">\n",
       "      <th></th>\n",
       "      <th>car_name</th>\n",
       "      <th>brand</th>\n",
       "      <th>model</th>\n",
       "      <th>vehicle_age</th>\n",
       "      <th>km_driven</th>\n",
       "      <th>seller_type</th>\n",
       "      <th>fuel_type</th>\n",
       "      <th>transmission_type</th>\n",
       "      <th>mileage</th>\n",
       "      <th>engine</th>\n",
       "      <th>max_power</th>\n",
       "      <th>seats</th>\n",
       "      <th>selling_price</th>\n",
       "    </tr>\n",
       "  </thead>\n",
       "  <tbody>\n",
       "    <tr>\n",
       "      <th>7607</th>\n",
       "      <td>Maruti Wagon R</td>\n",
       "      <td>Maruti</td>\n",
       "      <td>Wagon R</td>\n",
       "      <td>21</td>\n",
       "      <td>80000</td>\n",
       "      <td>Individual</td>\n",
       "      <td>Petrol</td>\n",
       "      <td>Manual</td>\n",
       "      <td>18.9</td>\n",
       "      <td>998</td>\n",
       "      <td>67.1</td>\n",
       "      <td>5</td>\n",
       "      <td>40000</td>\n",
       "    </tr>\n",
       "  </tbody>\n",
       "</table>\n",
       "</div>"
      ],
      "text/plain": [
       "            car_name   brand    model  vehicle_age  km_driven seller_type  \\\n",
       "7607  Maruti Wagon R  Maruti  Wagon R           21      80000  Individual   \n",
       "\n",
       "     fuel_type transmission_type  mileage  engine  max_power  seats  \\\n",
       "7607    Petrol            Manual     18.9     998       67.1      5   \n",
       "\n",
       "      selling_price  \n",
       "7607          40000  "
      ]
     },
     "execution_count": 144,
     "metadata": {},
     "output_type": "execute_result"
    }
   ],
   "source": [
    "#lowest value\n",
    "df[df['selling_price']==df['selling_price'].min()]"
   ]
  },
  {
   "cell_type": "code",
   "execution_count": 150,
   "id": "c01157e2-f708-489c-9d5f-a78c9bcbafb5",
   "metadata": {},
   "outputs": [],
   "source": [
    "#2nd lowest value\n",
    "second_min=df['selling_price'].sort_values().values[1]"
   ]
  },
  {
   "cell_type": "code",
   "execution_count": 153,
   "id": "1fac8e44-3eb7-41b9-8e55-1d97842c7be4",
   "metadata": {},
   "outputs": [
    {
     "data": {
      "text/html": [
       "<div>\n",
       "<style scoped>\n",
       "    .dataframe tbody tr th:only-of-type {\n",
       "        vertical-align: middle;\n",
       "    }\n",
       "\n",
       "    .dataframe tbody tr th {\n",
       "        vertical-align: top;\n",
       "    }\n",
       "\n",
       "    .dataframe thead th {\n",
       "        text-align: right;\n",
       "    }\n",
       "</style>\n",
       "<table border=\"1\" class=\"dataframe\">\n",
       "  <thead>\n",
       "    <tr style=\"text-align: right;\">\n",
       "      <th></th>\n",
       "      <th>car_name</th>\n",
       "      <th>brand</th>\n",
       "      <th>model</th>\n",
       "      <th>vehicle_age</th>\n",
       "      <th>km_driven</th>\n",
       "      <th>seller_type</th>\n",
       "      <th>fuel_type</th>\n",
       "      <th>transmission_type</th>\n",
       "      <th>mileage</th>\n",
       "      <th>engine</th>\n",
       "      <th>max_power</th>\n",
       "      <th>seats</th>\n",
       "      <th>selling_price</th>\n",
       "    </tr>\n",
       "  </thead>\n",
       "  <tbody>\n",
       "    <tr>\n",
       "      <th>13676</th>\n",
       "      <td>Maruti Alto</td>\n",
       "      <td>Maruti</td>\n",
       "      <td>Alto</td>\n",
       "      <td>17</td>\n",
       "      <td>110000</td>\n",
       "      <td>Individual</td>\n",
       "      <td>Petrol</td>\n",
       "      <td>Manual</td>\n",
       "      <td>19.7</td>\n",
       "      <td>796</td>\n",
       "      <td>46.3</td>\n",
       "      <td>5</td>\n",
       "      <td>45000</td>\n",
       "    </tr>\n",
       "  </tbody>\n",
       "</table>\n",
       "</div>"
      ],
      "text/plain": [
       "          car_name   brand model  vehicle_age  km_driven seller_type  \\\n",
       "13676  Maruti Alto  Maruti  Alto           17     110000  Individual   \n",
       "\n",
       "      fuel_type transmission_type  mileage  engine  max_power  seats  \\\n",
       "13676    Petrol            Manual     19.7     796       46.3      5   \n",
       "\n",
       "       selling_price  \n",
       "13676          45000  "
      ]
     },
     "execution_count": 153,
     "metadata": {},
     "output_type": "execute_result"
    }
   ],
   "source": [
    "df[df['selling_price']==second_min]"
   ]
  },
  {
   "cell_type": "code",
   "execution_count": 160,
   "id": "af36ccf9-7ee2-47c3-b2ae-b6841680226e",
   "metadata": {},
   "outputs": [],
   "source": [
    "#second highest cost of car using descending\n",
    "second_costly=df['selling_price'].sort_values(ascending=False).values[1]"
   ]
  },
  {
   "cell_type": "code",
   "execution_count": 161,
   "id": "ce85f324-1933-4e8b-9830-87d92f835949",
   "metadata": {},
   "outputs": [
    {
     "data": {
      "text/html": [
       "<div>\n",
       "<style scoped>\n",
       "    .dataframe tbody tr th:only-of-type {\n",
       "        vertical-align: middle;\n",
       "    }\n",
       "\n",
       "    .dataframe tbody tr th {\n",
       "        vertical-align: top;\n",
       "    }\n",
       "\n",
       "    .dataframe thead th {\n",
       "        text-align: right;\n",
       "    }\n",
       "</style>\n",
       "<table border=\"1\" class=\"dataframe\">\n",
       "  <thead>\n",
       "    <tr style=\"text-align: right;\">\n",
       "      <th></th>\n",
       "      <th>car_name</th>\n",
       "      <th>brand</th>\n",
       "      <th>model</th>\n",
       "      <th>vehicle_age</th>\n",
       "      <th>km_driven</th>\n",
       "      <th>seller_type</th>\n",
       "      <th>fuel_type</th>\n",
       "      <th>transmission_type</th>\n",
       "      <th>mileage</th>\n",
       "      <th>engine</th>\n",
       "      <th>max_power</th>\n",
       "      <th>seats</th>\n",
       "      <th>selling_price</th>\n",
       "    </tr>\n",
       "  </thead>\n",
       "  <tbody>\n",
       "    <tr>\n",
       "      <th>10969</th>\n",
       "      <td>Rolls-Royce Ghost</td>\n",
       "      <td>Rolls-Royce</td>\n",
       "      <td>Ghost</td>\n",
       "      <td>4</td>\n",
       "      <td>5000</td>\n",
       "      <td>Individual</td>\n",
       "      <td>Petrol</td>\n",
       "      <td>Automatic</td>\n",
       "      <td>10.2</td>\n",
       "      <td>6592</td>\n",
       "      <td>563.0</td>\n",
       "      <td>4</td>\n",
       "      <td>24200000</td>\n",
       "    </tr>\n",
       "  </tbody>\n",
       "</table>\n",
       "</div>"
      ],
      "text/plain": [
       "                car_name        brand  model  vehicle_age  km_driven  \\\n",
       "10969  Rolls-Royce Ghost  Rolls-Royce  Ghost            4       5000   \n",
       "\n",
       "      seller_type fuel_type transmission_type  mileage  engine  max_power  \\\n",
       "10969  Individual    Petrol         Automatic     10.2    6592      563.0   \n",
       "\n",
       "       seats  selling_price  \n",
       "10969      4       24200000  "
      ]
     },
     "execution_count": 161,
     "metadata": {},
     "output_type": "execute_result"
    }
   ],
   "source": [
    "df[df['selling_price']==second_costly]"
   ]
  },
  {
   "cell_type": "code",
   "execution_count": 170,
   "id": "72d134d8-4c8d-45f0-b034-6049653f24a8",
   "metadata": {},
   "outputs": [],
   "source": [
    "#second highest cost of car using slicing\n",
    "second_costly=df['selling_price'].sort_values()[::-1].values[1]"
   ]
  },
  {
   "cell_type": "code",
   "execution_count": 171,
   "id": "4bde43d1-c9de-46a6-afe7-70303e9a11b6",
   "metadata": {},
   "outputs": [
    {
     "data": {
      "text/html": [
       "<div>\n",
       "<style scoped>\n",
       "    .dataframe tbody tr th:only-of-type {\n",
       "        vertical-align: middle;\n",
       "    }\n",
       "\n",
       "    .dataframe tbody tr th {\n",
       "        vertical-align: top;\n",
       "    }\n",
       "\n",
       "    .dataframe thead th {\n",
       "        text-align: right;\n",
       "    }\n",
       "</style>\n",
       "<table border=\"1\" class=\"dataframe\">\n",
       "  <thead>\n",
       "    <tr style=\"text-align: right;\">\n",
       "      <th></th>\n",
       "      <th>car_name</th>\n",
       "      <th>brand</th>\n",
       "      <th>model</th>\n",
       "      <th>vehicle_age</th>\n",
       "      <th>km_driven</th>\n",
       "      <th>...</th>\n",
       "      <th>mileage</th>\n",
       "      <th>engine</th>\n",
       "      <th>max_power</th>\n",
       "      <th>seats</th>\n",
       "      <th>selling_price</th>\n",
       "    </tr>\n",
       "  </thead>\n",
       "  <tbody>\n",
       "    <tr>\n",
       "      <th>10969</th>\n",
       "      <td>Rolls-Royce Ghost</td>\n",
       "      <td>Rolls-Royce</td>\n",
       "      <td>Ghost</td>\n",
       "      <td>4</td>\n",
       "      <td>5000</td>\n",
       "      <td>...</td>\n",
       "      <td>10.2</td>\n",
       "      <td>6592</td>\n",
       "      <td>563.0</td>\n",
       "      <td>4</td>\n",
       "      <td>24200000</td>\n",
       "    </tr>\n",
       "  </tbody>\n",
       "</table>\n",
       "<p>1 rows × 13 columns</p>\n",
       "</div>"
      ],
      "text/plain": [
       "                car_name        brand  model  vehicle_age  km_driven  ...  \\\n",
       "10969  Rolls-Royce Ghost  Rolls-Royce  Ghost            4       5000  ...   \n",
       "\n",
       "      mileage engine max_power  seats  selling_price  \n",
       "10969    10.2   6592     563.0      4       24200000  \n",
       "\n",
       "[1 rows x 13 columns]"
      ]
     },
     "execution_count": 171,
     "metadata": {},
     "output_type": "execute_result"
    }
   ],
   "source": [
    "df[df['selling_price']==second_costly]"
   ]
  },
  {
   "cell_type": "code",
   "execution_count": 175,
   "id": "4728020a-02f8-4ad8-9db4-fd26969d913b",
   "metadata": {},
   "outputs": [],
   "source": [
    "#top 10 cars by selling price\n",
    "top_10=df.sort_values(by='selling_price',ascending=False).head(10)"
   ]
  },
  {
   "cell_type": "code",
   "execution_count": 179,
   "id": "b1e48ecf-7dcd-4de0-9ef2-b484bb1dbe14",
   "metadata": {},
   "outputs": [
    {
     "data": {
      "text/html": [
       "<div>\n",
       "<style scoped>\n",
       "    .dataframe tbody tr th:only-of-type {\n",
       "        vertical-align: middle;\n",
       "    }\n",
       "\n",
       "    .dataframe tbody tr th {\n",
       "        vertical-align: top;\n",
       "    }\n",
       "\n",
       "    .dataframe thead th {\n",
       "        text-align: right;\n",
       "    }\n",
       "</style>\n",
       "<table border=\"1\" class=\"dataframe\">\n",
       "  <thead>\n",
       "    <tr style=\"text-align: right;\">\n",
       "      <th></th>\n",
       "      <th>car_name</th>\n",
       "      <th>selling_price</th>\n",
       "      <th>vehicle_age</th>\n",
       "    </tr>\n",
       "  </thead>\n",
       "  <tbody>\n",
       "    <tr>\n",
       "      <th>3799</th>\n",
       "      <td>Ferrari GTC4Lusso</td>\n",
       "      <td>39500000</td>\n",
       "      <td>2</td>\n",
       "    </tr>\n",
       "    <tr>\n",
       "      <th>10969</th>\n",
       "      <td>Rolls-Royce Ghost</td>\n",
       "      <td>24200000</td>\n",
       "      <td>4</td>\n",
       "    </tr>\n",
       "    <tr>\n",
       "      <th>1172</th>\n",
       "      <td>Bentley Continental</td>\n",
       "      <td>14500000</td>\n",
       "      <td>9</td>\n",
       "    </tr>\n",
       "    <tr>\n",
       "      <th>9722</th>\n",
       "      <td>Mercedes-Benz S-Class</td>\n",
       "      <td>13000000</td>\n",
       "      <td>3</td>\n",
       "    </tr>\n",
       "    <tr>\n",
       "      <th>9364</th>\n",
       "      <td>Porsche Cayenne</td>\n",
       "      <td>11100000</td>\n",
       "      <td>4</td>\n",
       "    </tr>\n",
       "    <tr>\n",
       "      <th>10989</th>\n",
       "      <td>Mercedes-Benz S-Class</td>\n",
       "      <td>11000000</td>\n",
       "      <td>2</td>\n",
       "    </tr>\n",
       "    <tr>\n",
       "      <th>1888</th>\n",
       "      <td>Mercedes-Benz S-Class</td>\n",
       "      <td>11000000</td>\n",
       "      <td>5</td>\n",
       "    </tr>\n",
       "    <tr>\n",
       "      <th>11000</th>\n",
       "      <td>Land Rover Rover</td>\n",
       "      <td>9200000</td>\n",
       "      <td>4</td>\n",
       "    </tr>\n",
       "    <tr>\n",
       "      <th>3096</th>\n",
       "      <td>BMW 7</td>\n",
       "      <td>8500000</td>\n",
       "      <td>3</td>\n",
       "    </tr>\n",
       "    <tr>\n",
       "      <th>8439</th>\n",
       "      <td>BMW 7</td>\n",
       "      <td>8500000</td>\n",
       "      <td>3</td>\n",
       "    </tr>\n",
       "  </tbody>\n",
       "</table>\n",
       "</div>"
      ],
      "text/plain": [
       "                    car_name  selling_price  vehicle_age\n",
       "3799       Ferrari GTC4Lusso       39500000            2\n",
       "10969      Rolls-Royce Ghost       24200000            4\n",
       "1172     Bentley Continental       14500000            9\n",
       "9722   Mercedes-Benz S-Class       13000000            3\n",
       "9364         Porsche Cayenne       11100000            4\n",
       "10989  Mercedes-Benz S-Class       11000000            2\n",
       "1888   Mercedes-Benz S-Class       11000000            5\n",
       "11000       Land Rover Rover        9200000            4\n",
       "3096                   BMW 7        8500000            3\n",
       "8439                   BMW 7        8500000            3"
      ]
     },
     "execution_count": 179,
     "metadata": {},
     "output_type": "execute_result"
    }
   ],
   "source": [
    "#to slice accorrording to column name\n",
    "top_10[['car_name','selling_price','vehicle_age']]"
   ]
  },
  {
   "cell_type": "code",
   "execution_count": 182,
   "id": "5c5f6943-ebb6-4eb9-8601-c52a4513860f",
   "metadata": {},
   "outputs": [],
   "source": [
    "#top 10 oldest car\n",
    "top_10_oldest=df.sort_values(by='vehicle_age',ascending=False).head(10)"
   ]
  },
  {
   "cell_type": "code",
   "execution_count": 184,
   "id": "b039a839-cd99-452f-bf3e-f7a98cafd933",
   "metadata": {},
   "outputs": [
    {
     "data": {
      "text/html": [
       "<div>\n",
       "<style scoped>\n",
       "    .dataframe tbody tr th:only-of-type {\n",
       "        vertical-align: middle;\n",
       "    }\n",
       "\n",
       "    .dataframe tbody tr th {\n",
       "        vertical-align: top;\n",
       "    }\n",
       "\n",
       "    .dataframe thead th {\n",
       "        text-align: right;\n",
       "    }\n",
       "</style>\n",
       "<table border=\"1\" class=\"dataframe\">\n",
       "  <thead>\n",
       "    <tr style=\"text-align: right;\">\n",
       "      <th></th>\n",
       "      <th>car_name</th>\n",
       "      <th>vehicle_age</th>\n",
       "    </tr>\n",
       "  </thead>\n",
       "  <tbody>\n",
       "    <tr>\n",
       "      <th>2596</th>\n",
       "      <td>Maruti Alto</td>\n",
       "      <td>29</td>\n",
       "    </tr>\n",
       "    <tr>\n",
       "      <th>15329</th>\n",
       "      <td>BMW 3</td>\n",
       "      <td>25</td>\n",
       "    </tr>\n",
       "    <tr>\n",
       "      <th>14317</th>\n",
       "      <td>Honda City</td>\n",
       "      <td>22</td>\n",
       "    </tr>\n",
       "    <tr>\n",
       "      <th>8146</th>\n",
       "      <td>Maruti Wagon R</td>\n",
       "      <td>21</td>\n",
       "    </tr>\n",
       "    <tr>\n",
       "      <th>7607</th>\n",
       "      <td>Maruti Wagon R</td>\n",
       "      <td>21</td>\n",
       "    </tr>\n",
       "    <tr>\n",
       "      <th>6660</th>\n",
       "      <td>Maruti Wagon R</td>\n",
       "      <td>21</td>\n",
       "    </tr>\n",
       "    <tr>\n",
       "      <th>6539</th>\n",
       "      <td>Maruti Alto</td>\n",
       "      <td>19</td>\n",
       "    </tr>\n",
       "    <tr>\n",
       "      <th>7687</th>\n",
       "      <td>Maruti Alto</td>\n",
       "      <td>19</td>\n",
       "    </tr>\n",
       "    <tr>\n",
       "      <th>8000</th>\n",
       "      <td>Maruti Wagon R</td>\n",
       "      <td>19</td>\n",
       "    </tr>\n",
       "    <tr>\n",
       "      <th>7361</th>\n",
       "      <td>Honda City</td>\n",
       "      <td>19</td>\n",
       "    </tr>\n",
       "  </tbody>\n",
       "</table>\n",
       "</div>"
      ],
      "text/plain": [
       "             car_name  vehicle_age\n",
       "2596      Maruti Alto           29\n",
       "15329           BMW 3           25\n",
       "14317      Honda City           22\n",
       "8146   Maruti Wagon R           21\n",
       "7607   Maruti Wagon R           21\n",
       "6660   Maruti Wagon R           21\n",
       "6539      Maruti Alto           19\n",
       "7687      Maruti Alto           19\n",
       "8000   Maruti Wagon R           19\n",
       "7361       Honda City           19"
      ]
     },
     "execution_count": 184,
     "metadata": {},
     "output_type": "execute_result"
    }
   ],
   "source": [
    "#to slice accorrording to column name\n",
    "top_10_oldest[['car_name','vehicle_age']]"
   ]
  },
  {
   "cell_type": "markdown",
   "id": "f00642e6-b34e-4f56-9ba5-0fc98d0496c9",
   "metadata": {},
   "source": [
    "#upar humne masking ki hai"
   ]
  },
  {
   "cell_type": "code",
   "execution_count": 189,
   "id": "26ae8c2d-ca3b-4e13-ae3c-a3504c7a4727",
   "metadata": {},
   "outputs": [],
   "source": [
    "#top 10 oldest car upar wale code ko ek he line me kar diaaaaaaa \n",
    "top_10_oldest=df.sort_values(by='vehicle_age',ascending=False).head(10)[['car_name','vehicle_age']]"
   ]
  },
  {
   "cell_type": "code",
   "execution_count": 190,
   "id": "54187726-5147-40ab-b729-f9e1d4718876",
   "metadata": {},
   "outputs": [
    {
     "data": {
      "text/html": [
       "<div>\n",
       "<style scoped>\n",
       "    .dataframe tbody tr th:only-of-type {\n",
       "        vertical-align: middle;\n",
       "    }\n",
       "\n",
       "    .dataframe tbody tr th {\n",
       "        vertical-align: top;\n",
       "    }\n",
       "\n",
       "    .dataframe thead th {\n",
       "        text-align: right;\n",
       "    }\n",
       "</style>\n",
       "<table border=\"1\" class=\"dataframe\">\n",
       "  <thead>\n",
       "    <tr style=\"text-align: right;\">\n",
       "      <th></th>\n",
       "      <th>car_name</th>\n",
       "      <th>vehicle_age</th>\n",
       "    </tr>\n",
       "  </thead>\n",
       "  <tbody>\n",
       "    <tr>\n",
       "      <th>2596</th>\n",
       "      <td>Maruti Alto</td>\n",
       "      <td>29</td>\n",
       "    </tr>\n",
       "    <tr>\n",
       "      <th>15329</th>\n",
       "      <td>BMW 3</td>\n",
       "      <td>25</td>\n",
       "    </tr>\n",
       "    <tr>\n",
       "      <th>14317</th>\n",
       "      <td>Honda City</td>\n",
       "      <td>22</td>\n",
       "    </tr>\n",
       "    <tr>\n",
       "      <th>8146</th>\n",
       "      <td>Maruti Wagon R</td>\n",
       "      <td>21</td>\n",
       "    </tr>\n",
       "    <tr>\n",
       "      <th>7607</th>\n",
       "      <td>Maruti Wagon R</td>\n",
       "      <td>21</td>\n",
       "    </tr>\n",
       "    <tr>\n",
       "      <th>6660</th>\n",
       "      <td>Maruti Wagon R</td>\n",
       "      <td>21</td>\n",
       "    </tr>\n",
       "    <tr>\n",
       "      <th>6539</th>\n",
       "      <td>Maruti Alto</td>\n",
       "      <td>19</td>\n",
       "    </tr>\n",
       "    <tr>\n",
       "      <th>7687</th>\n",
       "      <td>Maruti Alto</td>\n",
       "      <td>19</td>\n",
       "    </tr>\n",
       "    <tr>\n",
       "      <th>8000</th>\n",
       "      <td>Maruti Wagon R</td>\n",
       "      <td>19</td>\n",
       "    </tr>\n",
       "    <tr>\n",
       "      <th>7361</th>\n",
       "      <td>Honda City</td>\n",
       "      <td>19</td>\n",
       "    </tr>\n",
       "  </tbody>\n",
       "</table>\n",
       "</div>"
      ],
      "text/plain": [
       "             car_name  vehicle_age\n",
       "2596      Maruti Alto           29\n",
       "15329           BMW 3           25\n",
       "14317      Honda City           22\n",
       "8146   Maruti Wagon R           21\n",
       "7607   Maruti Wagon R           21\n",
       "6660   Maruti Wagon R           21\n",
       "6539      Maruti Alto           19\n",
       "7687      Maruti Alto           19\n",
       "8000   Maruti Wagon R           19\n",
       "7361       Honda City           19"
      ]
     },
     "execution_count": 190,
     "metadata": {},
     "output_type": "execute_result"
    }
   ],
   "source": [
    "top_10_oldest"
   ]
  },
  {
   "cell_type": "code",
   "execution_count": 191,
   "id": "44e1b5c1-e1b1-4bea-9c3f-fcbc1232e189",
   "metadata": {},
   "outputs": [
    {
     "data": {
      "text/plain": [
       "Index(['car_name', 'brand', 'model', 'vehicle_age', 'km_driven', 'seller_type',\n",
       "       'fuel_type', 'transmission_type', 'mileage', 'engine', 'max_power',\n",
       "       'seats', 'selling_price'],\n",
       "      dtype='object')"
      ]
     },
     "execution_count": 191,
     "metadata": {},
     "output_type": "execute_result"
    }
   ],
   "source": [
    "df.columns"
   ]
  },
  {
   "cell_type": "code",
   "execution_count": 197,
   "id": "42541c95-519f-44b1-a9a1-3ae295140b80",
   "metadata": {},
   "outputs": [
    {
     "data": {
      "text/plain": [
       "32"
      ]
     },
     "execution_count": 197,
     "metadata": {},
     "output_type": "execute_result"
    }
   ],
   "source": [
    "#unique barnd names\n",
    "df['brand'].unique()\n",
    "#nunique un k number bata dega\n",
    "df['brand'].nunique()"
   ]
  },
  {
   "cell_type": "code",
   "execution_count": 210,
   "id": "4d8ff398-a7f5-4f76-ae8d-5c3fb52a1de6",
   "metadata": {},
   "outputs": [
    {
     "data": {
      "text/plain": [
       "brand\n",
       "Ferrari          39500000.00\n",
       "Rolls-Royce      24200000.00\n",
       "Bentley           9266666.67\n",
       "Maserati          6100000.00\n",
       "Porsche           5161190.48\n",
       "Lexus             5146500.00\n",
       "Mercedes-AMG      5100000.00\n",
       "Land Rover        3823901.96\n",
       "Volvo             3729700.00\n",
       "BMW               2693826.88\n",
       "Jaguar            2643033.90\n",
       "Mercedes-Benz     2480741.84\n",
       "Mini              2182647.06\n",
       "Audi              1966864.58\n",
       "ISUZU             1897500.00\n",
       "Jeep              1795804.88\n",
       "MG                1752947.37\n",
       "Kia               1735250.00\n",
       "Toyota            1371316.52\n",
       "Isuzu             1355000.00\n",
       "Nissan             955363.64\n",
       "Mahindra           787455.00\n",
       "Skoda              784089.82\n",
       "Force              700000.00\n",
       "Tata               683534.88\n",
       "Ford               645224.05\n",
       "Honda              617756.90\n",
       "Hyundai            576153.92\n",
       "Volkswagen         516546.77\n",
       "Maruti             487089.32\n",
       "Renault            440985.07\n",
       "Datsun             320517.65\n",
       "Name: selling_price, dtype: float64"
      ]
     },
     "execution_count": 210,
     "metadata": {},
     "output_type": "execute_result"
    }
   ],
   "source": [
    "#group by average selling prce accroding to brand in descending order|\n",
    "df.groupby('brand')['selling_price'].mean().round(2).sort_values(ascending=0)\n"
   ]
  },
  {
   "cell_type": "code",
   "execution_count": 211,
   "id": "354d7aa7-6236-4843-a15d-c94614b2136b",
   "metadata": {},
   "outputs": [
    {
     "data": {
      "text/plain": [
       "Index(['car_name', 'brand', 'model', 'vehicle_age', 'km_driven', 'seller_type',\n",
       "       'fuel_type', 'transmission_type', 'mileage', 'engine', 'max_power',\n",
       "       'seats', 'selling_price'],\n",
       "      dtype='object')"
      ]
     },
     "execution_count": 211,
     "metadata": {},
     "output_type": "execute_result"
    }
   ],
   "source": [
    "df.columns"
   ]
  },
  {
   "cell_type": "code",
   "execution_count": 212,
   "id": "09fd0a06-aaff-4c22-9464-b9d8b01748a8",
   "metadata": {},
   "outputs": [
    {
     "data": {
      "text/html": [
       "<div>\n",
       "<style scoped>\n",
       "    .dataframe tbody tr th:only-of-type {\n",
       "        vertical-align: middle;\n",
       "    }\n",
       "\n",
       "    .dataframe tbody tr th {\n",
       "        vertical-align: top;\n",
       "    }\n",
       "\n",
       "    .dataframe thead th {\n",
       "        text-align: right;\n",
       "    }\n",
       "</style>\n",
       "<table border=\"1\" class=\"dataframe\">\n",
       "  <thead>\n",
       "    <tr style=\"text-align: right;\">\n",
       "      <th></th>\n",
       "      <th>min</th>\n",
       "      <th>max</th>\n",
       "      <th>mean</th>\n",
       "    </tr>\n",
       "    <tr>\n",
       "      <th>seller_type</th>\n",
       "      <th></th>\n",
       "      <th></th>\n",
       "      <th></th>\n",
       "    </tr>\n",
       "  </thead>\n",
       "  <tbody>\n",
       "    <tr>\n",
       "      <th>Dealer</th>\n",
       "      <td>55000</td>\n",
       "      <td>39500000</td>\n",
       "      <td>872506.0</td>\n",
       "    </tr>\n",
       "    <tr>\n",
       "      <th>Individual</th>\n",
       "      <td>40000</td>\n",
       "      <td>24200000</td>\n",
       "      <td>617880.0</td>\n",
       "    </tr>\n",
       "    <tr>\n",
       "      <th>Trustmark Dealer</th>\n",
       "      <td>210000</td>\n",
       "      <td>1575000</td>\n",
       "      <td>571960.0</td>\n",
       "    </tr>\n",
       "  </tbody>\n",
       "</table>\n",
       "</div>"
      ],
      "text/plain": [
       "                     min       max      mean\n",
       "seller_type                                 \n",
       "Dealer             55000  39500000  872506.0\n",
       "Individual         40000  24200000  617880.0\n",
       "Trustmark Dealer  210000   1575000  571960.0"
      ]
     },
     "execution_count": 212,
     "metadata": {},
     "output_type": "execute_result"
    }
   ],
   "source": [
    "df.groupby('seller_type')['selling_price'].agg(['min','max','mean']).round()"
   ]
  },
  {
   "cell_type": "code",
   "execution_count": null,
   "id": "9da39101-c38a-4aad-b791-93ecdbf379ab",
   "metadata": {},
   "outputs": [],
   "source": []
  }
 ],
 "metadata": {
  "kernelspec": {
   "display_name": "Python [conda env:base] *",
   "language": "python",
   "name": "conda-base-py"
  },
  "language_info": {
   "codemirror_mode": {
    "name": "ipython",
    "version": 3
   },
   "file_extension": ".py",
   "mimetype": "text/x-python",
   "name": "python",
   "nbconvert_exporter": "python",
   "pygments_lexer": "ipython3",
   "version": "3.13.5"
  }
 },
 "nbformat": 4,
 "nbformat_minor": 5
}
