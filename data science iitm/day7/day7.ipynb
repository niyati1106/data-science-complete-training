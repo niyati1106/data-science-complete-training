{
 "cells": [
  {
   "cell_type": "markdown",
   "id": "f72c9b27-21e5-414c-a783-18446a3ffa68",
   "metadata": {},
   "source": [
    "inheritance"
   ]
  },
  {
   "cell_type": "code",
   "execution_count": 1,
   "id": "2bda8ff7-9cf2-40c6-a9a4-a629ed3157ae",
   "metadata": {},
   "outputs": [],
   "source": [
    "class A:\n",
    "    def i_am_a():\n",
    "        print('i am a function of a class')\n",
    "class B :\n",
    "    def i_am_b():\n",
    "        print('i am b function of b class')"
   ]
  },
  {
   "cell_type": "code",
   "execution_count": 2,
   "id": "1c9cb224-4d59-49d8-99c9-e4695a3e8f98",
   "metadata": {},
   "outputs": [],
   "source": [
    "ob_a=A()\n",
    "ob_b=B()"
   ]
  },
  {
   "cell_type": "code",
   "execution_count": 3,
   "id": "b3729eb2-bacc-4e1c-be84-c9737571b57f",
   "metadata": {},
   "outputs": [],
   "source": [
    "# single\n",
    "# multiple \n",
    "# multilevel\n",
    "# hybrid"
   ]
  },
  {
   "cell_type": "code",
   "execution_count": 4,
   "id": "378527e0-12c1-440d-bcd2-c2a27255e858",
   "metadata": {},
   "outputs": [],
   "source": [
    "# single inheritances\n",
    "#parent class, main class, super class ,base class\n",
    "class BMW:\n",
    "    def super_turbo_engine(self):\n",
    "        print(' fast speed')\n",
    "class Audi (BMW):\n",
    "    def auto_pilot(self):\n",
    "        print('can run on auto pilot')\n",
    "        "
   ]
  },
  {
   "cell_type": "code",
   "execution_count": 5,
   "id": "3d6540a5-e37a-4b1d-9a7a-21ebf8ae57ca",
   "metadata": {},
   "outputs": [],
   "source": [
    "audi_r8=Audi()"
   ]
  },
  {
   "cell_type": "code",
   "execution_count": 6,
   "id": "a95a47c7-3db8-4818-95fd-80f354f4fac5",
   "metadata": {},
   "outputs": [
    {
     "name": "stdout",
     "output_type": "stream",
     "text": [
      " fast speed\n"
     ]
    }
   ],
   "source": [
    "audi_r8.super_turbo_engine()"
   ]
  },
  {
   "cell_type": "markdown",
   "id": "64597588-8b9c-47d3-945d-ba4a36a82d31",
   "metadata": {},
   "source": [
    "multiple inheritance"
   ]
  },
  {
   "cell_type": "code",
   "execution_count": 7,
   "id": "06922681-24a1-40e1-a911-352914d47ddc",
   "metadata": {},
   "outputs": [],
   "source": [
    "#multiple inheritance\n",
    "    \n",
    "class Daily_Objects:  \n",
    "    def phone_case(self):\n",
    "        print('strong built phone case')\n",
    "        \n",
    "class Jbl:\n",
    "    def speakers(self):\n",
    "        print('high quality speakers')\n",
    "\n",
    "class Samsung:\n",
    "    def screen_display(self):\n",
    "        print('phone screen')\n",
    "        \n",
    "class Nvidia :\n",
    "    def motherboard(self):\n",
    "        print('fast motherboard')\n",
    "\n",
    "class Sony:\n",
    "    def camera(self):\n",
    "        print('4k camers')\n",
    "        \n",
    "    \n",
    "class Lava:\n",
    "    def charger(self):\n",
    "        print('super fast charging')\n",
    "\n",
    "class One_Plus:\n",
    "    def charger(self):\n",
    "        print('original charger')\n",
    "\n",
    "class Mobile(Daily_Objects,Jbl,Samsung,Nvidia,Sony,One_Plus,Lava):# if 2 class have a method of same name jo ophele inherit hua hai usko prefrence milegi\n",
    "    def __init__(Self):\n",
    "        print('phone object created successfuly')\n",
    "        \n",
    "    \n",
    "    def charger(self):#if thos class also has charger method so it will be given prefrence over the others\n",
    "         print('charger from mobile class')"
   ]
  },
  {
   "cell_type": "code",
   "execution_count": 68,
   "id": "092701f8-e5dd-4d33-ab6c-fcf45b4adb07",
   "metadata": {},
   "outputs": [
    {
     "name": "stdout",
     "output_type": "stream",
     "text": [
      "phone object created successfuly\n"
     ]
    }
   ],
   "source": [
    "nothing=Mobile()"
   ]
  },
  {
   "cell_type": "code",
   "execution_count": 69,
   "id": "c071eee6-aa40-44d0-8218-8f156bba5846",
   "metadata": {},
   "outputs": [
    {
     "name": "stdout",
     "output_type": "stream",
     "text": [
      "high quality speakers\n"
     ]
    }
   ],
   "source": [
    "nothing.speakers()"
   ]
  },
  {
   "cell_type": "code",
   "execution_count": 70,
   "id": "5fe39105-0c97-4bc4-bf1a-6a4e15cc3198",
   "metadata": {},
   "outputs": [
    {
     "name": "stdout",
     "output_type": "stream",
     "text": [
      "strong built phone case\n"
     ]
    }
   ],
   "source": [
    "nothing.phone_case()"
   ]
  },
  {
   "cell_type": "code",
   "execution_count": 71,
   "id": "6b10afe2-45c4-4285-a876-388635a6c33f",
   "metadata": {},
   "outputs": [
    {
     "name": "stdout",
     "output_type": "stream",
     "text": [
      "charger from mobile class\n"
     ]
    }
   ],
   "source": [
    "nothing.charger()"
   ]
  },
  {
   "cell_type": "code",
   "execution_count": 95,
   "id": "d3cc8971-d559-466c-8c78-af807a9700e6",
   "metadata": {},
   "outputs": [],
   "source": [
    "#multilevel \n",
    "class GrandFather:\n",
    "    def land_property(self):\n",
    "        print('land property')\n",
    "\n",
    "class Father(GrandFather):\n",
    "    def bank_balance(self):\n",
    "        print('bank balance')\n",
    "\n",
    "class Son(Father):\n",
    "    def political_powers(self):\n",
    "        print('political power')\n",
    "\n",
    "class GrandSon(Son):\n",
    "    def mind(self):\n",
    "        print('mind for self study')\n",
    "        \n",
    "class Friend(GrandSon):\n",
    "    def __init__(self):\n",
    "        print('nothig')"
   ]
  },
  {
   "cell_type": "code",
   "execution_count": 98,
   "id": "753857ca-c0cb-412d-9fd9-ffe70220be1c",
   "metadata": {},
   "outputs": [],
   "source": [
    "aman= GrandSon()"
   ]
  },
  {
   "cell_type": "code",
   "execution_count": 100,
   "id": "07780652-c92c-4009-a9ca-a5fb1c729fe2",
   "metadata": {},
   "outputs": [
    {
     "name": "stdout",
     "output_type": "stream",
     "text": [
      "mind for self study\n"
     ]
    }
   ],
   "source": [
    "aman.mind()"
   ]
  },
  {
   "cell_type": "code",
   "execution_count": 101,
   "id": "19c5ad55-9a4e-499b-a025-de0b567846eb",
   "metadata": {},
   "outputs": [
    {
     "name": "stdout",
     "output_type": "stream",
     "text": [
      "nothig\n"
     ]
    }
   ],
   "source": [
    "karan=Friend()"
   ]
  },
  {
   "cell_type": "code",
   "execution_count": 104,
   "id": "eec86806-3538-4494-ab42-e5467b16c076",
   "metadata": {},
   "outputs": [],
   "source": [
    "class Hybrid_class(Friend,Mobile,Audi):\n",
    "    def __init__(self):\n",
    "        print('this is a hybrid class')\n",
    "\n",
    "  "
   ]
  },
  {
   "cell_type": "code",
   "execution_count": 105,
   "id": "07442b35-830c-4f2f-95c7-75083282daf1",
   "metadata": {},
   "outputs": [
    {
     "name": "stdout",
     "output_type": "stream",
     "text": [
      "this is a hybrid class\n"
     ]
    }
   ],
   "source": [
    "obj=Hybrid_class()"
   ]
  },
  {
   "cell_type": "code",
   "execution_count": 111,
   "id": "cee3bada-abcb-4877-9e0c-13815d103c27",
   "metadata": {},
   "outputs": [],
   "source": [
    "class UGC:\n",
    "    def __init__(self):\n",
    "        print('grant permession')\n",
    "\n",
    "    def college_approved(self):\n",
    "        print('college has been approved')\n",
    "\n",
    "class DU(UGC):\n",
    "    def multiple_colleges(self):\n",
    "        print('list of college')\n",
    "\n",
    "class DTU(UGC):\n",
    "     def multiple_colleges(self):\n",
    "        print('list of college')\n",
    "\n",
    "class IPU(UGC):\n",
    "     def multiple_colleges(self):\n",
    "        print('list of college')\n",
    "\n",
    "class BHU(UGC):\n",
    "     def multiple_colleges(self):\n",
    "        print('list of college')\n"
   ]
  },
  {
   "cell_type": "code",
   "execution_count": 112,
   "id": "a8581f37-abf2-44d8-9d89-cd901bf8e9e5",
   "metadata": {},
   "outputs": [
    {
     "name": "stdout",
     "output_type": "stream",
     "text": [
      "grant permession\n"
     ]
    }
   ],
   "source": [
    "\n",
    "obj=UGC()"
   ]
  },
  {
   "cell_type": "code",
   "execution_count": 114,
   "id": "c5ce2faa-1399-4a2a-8274-cd3ae9bb328f",
   "metadata": {},
   "outputs": [
    {
     "name": "stdout",
     "output_type": "stream",
     "text": [
      "college has been approved\n"
     ]
    }
   ],
   "source": [
    "obj.college_approved()"
   ]
  },
  {
   "cell_type": "code",
   "execution_count": 115,
   "id": "a7968a8e-d445-4e01-ba17-dcadfd2be543",
   "metadata": {},
   "outputs": [
    {
     "name": "stdout",
     "output_type": "stream",
     "text": [
      "grant permession\n"
     ]
    }
   ],
   "source": [
    "DU=UGC()"
   ]
  },
  {
   "cell_type": "code",
   "execution_count": 116,
   "id": "81bf51a6-9c04-447b-8b89-f57d5ec76e1c",
   "metadata": {},
   "outputs": [
    {
     "name": "stdout",
     "output_type": "stream",
     "text": [
      "college has been approved\n"
     ]
    }
   ],
   "source": [
    "DU.college_approved()"
   ]
  },
  {
   "cell_type": "markdown",
   "id": "d07341a4-2abe-4aa4-91c2-5f3453458bb8",
   "metadata": {},
   "source": [
    "POLYMORPHISH"
   ]
  },
  {
   "cell_type": "code",
   "execution_count": 1,
   "id": "06416b44-1ae2-40d7-a348-91693d86d1dc",
   "metadata": {},
   "outputs": [
    {
     "name": "stdout",
     "output_type": "stream",
     "text": [
      "F1 Car Speed:  Max speed 200 km/hr\n",
      "F1 Car Speed:  Max speed 250 km/hr\n",
      "F1 Car Speed:  Max speed 300 km/hr\n"
     ]
    }
   ],
   "source": [
    "#overriding\n",
    "class Car:\n",
    "  def speed(self):\n",
    "    return('Max speed 200 km/hr')\n",
    "\n",
    "  def auto_pilot(self):\n",
    "    return('It supports Auto Pilot Mode!!')\n",
    "\n",
    "  def info(self):\n",
    "    return('This is just a car object')\n",
    "\n",
    "\n",
    "class Bmw(Car):\n",
    "  def speed(self):\n",
    "    return('Max speed 250 km/hr')\n",
    "\n",
    "  def info(self):\n",
    "    return('A BMW car object')\n",
    "\n",
    "\n",
    "\n",
    "class Audi(Car):\n",
    "  def speed(self):\n",
    "    return('Max speed 300 km/hr')\n",
    "\n",
    "  def info(self):\n",
    "    return('Audi car🏎️')\n",
    "\n",
    "\n",
    "\n",
    "\n",
    "\n",
    "for i in [Car,Bmw,Audi]:\n",
    "  f1 = i()\n",
    "  print('F1 Car Speed: ',f1.speed())\n",
    "\n"
   ]
  },
  {
   "cell_type": "code",
   "execution_count": 2,
   "id": "a3e93139-4cc4-4c14-9909-6c065b94ea3f",
   "metadata": {},
   "outputs": [
    {
     "name": "stdout",
     "output_type": "stream",
     "text": [
      "Max speed 200 km/hr\n"
     ]
    }
   ],
   "source": [
    "f1 = Car()\n",
    "print(f1.speed())"
   ]
  },
  {
   "cell_type": "code",
   "execution_count": 3,
   "id": "47b54660-c54d-429f-bb53-5c2215b22687",
   "metadata": {},
   "outputs": [
    {
     "name": "stdout",
     "output_type": "stream",
     "text": [
      "Max speed 250 km/hr\n"
     ]
    }
   ],
   "source": [
    "f1 = Bmw()\n",
    "print(f1.speed())"
   ]
  },
  {
   "cell_type": "code",
   "execution_count": 4,
   "id": "046ee4f7-a16a-401f-8b1a-c72e80703cc6",
   "metadata": {},
   "outputs": [
    {
     "name": "stdout",
     "output_type": "stream",
     "text": [
      "Max speed 300 km/hr\n"
     ]
    }
   ],
   "source": [
    "f1 = Audi()\n",
    "print(f1.speed())"
   ]
  },
  {
   "cell_type": "code",
   "execution_count": 12,
   "id": "95816a0a-4b1a-4310-9cff-932413685757",
   "metadata": {},
   "outputs": [
    {
     "name": "stdout",
     "output_type": "stream",
     "text": [
      "Hello ede,how are you??\n",
      "Your Address is wre\n"
     ]
    }
   ],
   "source": [
    "#overloading\n",
    "class IITM:\n",
    "    def intro(self):\n",
    "        print('hello hhihsdaid')\n",
    "\n",
    "    def intro(self,name):\n",
    "        print(f'helo {name}, how are you')\n",
    "    def intro(self,name,address):\n",
    "        print(f'Hello {name},how are you??')\n",
    "        print(f'Your Address is {address}')\n",
    "\n",
    "a=IITM()\n",
    "\n",
    "a.intro('ede','wre')"
   ]
  },
  {
   "cell_type": "code",
   "execution_count": 31,
   "id": "d9807a21-7f83-4270-b160-7688fb0312f1",
   "metadata": {},
   "outputs": [],
   "source": [
    "class IITM:\n",
    "    def intro (self,name = None , address = None):\n",
    "       if (name == None ) and (address == None):\n",
    "         print('hello')\n",
    "                \n",
    "       elif (name!= None  )and (address== None):\n",
    "         print(f'helo {name}, how are you')\n",
    "    \n",
    "       elif( name!=None)and (address!= None):\n",
    "         print(f'Hello {name},how are you??')\n",
    "         print(f'Your Address is {address}')\n",
    "            \n",
    "       else: \n",
    "         print('hello buddy')"
   ]
  },
  {
   "cell_type": "code",
   "execution_count": 32,
   "id": "c7c8bbea-65de-482a-89bd-91c0120d2d34",
   "metadata": {},
   "outputs": [],
   "source": [
    "a=IITM()"
   ]
  },
  {
   "cell_type": "code",
   "execution_count": 37,
   "id": "b2365e30-13a7-44f8-b8b3-c5e895575e80",
   "metadata": {},
   "outputs": [
    {
     "name": "stdout",
     "output_type": "stream",
     "text": [
      "Hello niyati,how are you??\n",
      "Your Address is delhi\n"
     ]
    }
   ],
   "source": [
    "a.intro('niyati','delhi')"
   ]
  },
  {
   "cell_type": "code",
   "execution_count": 38,
   "id": "70e5954d-3c23-4f63-8202-49c411288d74",
   "metadata": {},
   "outputs": [
    {
     "name": "stdout",
     "output_type": "stream",
     "text": [
      "hello buddy\n"
     ]
    }
   ],
   "source": [
    "a.intro(address='noida')"
   ]
  },
  {
   "cell_type": "code",
   "execution_count": 9,
   "id": "4e84d317-e554-457b-a0c8-864a017a9fc1",
   "metadata": {},
   "outputs": [],
   "source": [
    "# Idea: BluePrint\n",
    "# Not a Physical Object\n",
    "# Abstraction:- project Management\n",
    "\n",
    "# class Website:\n",
    "#   def login()\n",
    "#   def logout()\n",
    "#   def signup()\n",
    "#   def updates()\n",
    "#   def maultiple_pages()"
   ]
  },
  {
   "cell_type": "code",
   "execution_count": 10,
   "id": "ff4bc76d-882e-4c05-adde-88889bf249b2",
   "metadata": {},
   "outputs": [
    {
     "ename": "TypeError",
     "evalue": "Can't instantiate abstract class Website without an implementation for abstract methods 'login', 'logout'",
     "output_type": "error",
     "traceback": [
      "\u001b[1;31m---------------------------------------------------------------------------\u001b[0m",
      "\u001b[1;31mTypeError\u001b[0m                                 Traceback (most recent call last)",
      "Cell \u001b[1;32mIn[10], line 14\u001b[0m\n\u001b[0;32m      9\u001b[0m   \u001b[38;5;129m@abstractmethod\u001b[39m\n\u001b[0;32m     10\u001b[0m   \u001b[38;5;28;01mdef\u001b[39;00m\u001b[38;5;250m \u001b[39m\u001b[38;5;21mlogout\u001b[39m(\u001b[38;5;28mself\u001b[39m):\n\u001b[0;32m     11\u001b[0m     \u001b[38;5;28mprint\u001b[39m(\u001b[38;5;124m'\u001b[39m\u001b[38;5;124mA logout method\u001b[39m\u001b[38;5;124m'\u001b[39m)\n\u001b[1;32m---> 14\u001b[0m asus \u001b[38;5;241m=\u001b[39m Website()\n\u001b[0;32m     15\u001b[0m \u001b[38;5;28mprint\u001b[39m(\u001b[38;5;124m'\u001b[39m\u001b[38;5;124mDone\u001b[39m\u001b[38;5;124m'\u001b[39m)\n",
      "\u001b[1;31mTypeError\u001b[0m: Can't instantiate abstract class Website without an implementation for abstract methods 'login', 'logout'"
     ]
    }
   ],
   "source": [
    "from abc import ABC, abstractmethod\n",
    "\n",
    "class Website(ABC):\n",
    "\n",
    "  @abstractmethod\n",
    "  def login(self):\n",
    "    print('This is a Login method')\n",
    "\n",
    "  @abstractmethod\n",
    "  def logout(self):\n",
    "    print('A logout method')\n",
    "\n",
    "\n",
    "asus = Website()\n",
    "print('Done')"
   ]
  },
  {
   "cell_type": "code",
   "execution_count": 11,
   "id": "1fc777be-a60c-4d94-9819-2346d7331caa",
   "metadata": {},
   "outputs": [
    {
     "name": "stdout",
     "output_type": "stream",
     "text": [
      "2345656\n"
     ]
    }
   ],
   "source": [
    "print(2345656)\n",
    "\n"
   ]
  },
  {
   "cell_type": "code",
   "execution_count": 12,
   "id": "3dc33613-3fca-4940-a387-85cdb25042f6",
   "metadata": {},
   "outputs": [],
   "source": [
    "class Nakul(Website):\n",
    "\n",
    "  def signup(self):\n",
    "    print('user can Signup!!')\n",
    "\n",
    "  def login(self):\n",
    "    print('This is a Login  Form')\n",
    "\n",
    "  def logout(self):\n",
    "    print('Use can logut')\n",
    "\n",
    "google = Nakul()\n"
   ]
  },
  {
   "cell_type": "code",
   "execution_count": 13,
   "id": "bef49956-7941-4bc5-aeaa-e722b4634de9",
   "metadata": {},
   "outputs": [
    {
     "name": "stdout",
     "output_type": "stream",
     "text": [
      "user can Signup!!\n"
     ]
    }
   ],
   "source": [
    "google.signup()"
   ]
  },
  {
   "cell_type": "code",
   "execution_count": 14,
   "id": "b5cbba73-0ae8-4854-afa7-fa6269a5d2ca",
   "metadata": {},
   "outputs": [
    {
     "name": "stdout",
     "output_type": "stream",
     "text": [
      "This is a Login  Form\n"
     ]
    }
   ],
   "source": [
    "google.login()"
   ]
  },
  {
   "cell_type": "code",
   "execution_count": 15,
   "id": "a02ee93c-03f7-4756-9d57-0616a70d81db",
   "metadata": {},
   "outputs": [
    {
     "name": "stdout",
     "output_type": "stream",
     "text": [
      "Use can logut\n"
     ]
    }
   ],
   "source": [
    "google.logout()"
   ]
  },
  {
   "cell_type": "code",
   "execution_count": null,
   "id": "78e76755-356a-43f9-b64b-d397b7310136",
   "metadata": {},
   "outputs": [],
   "source": [
    "google = Website()"
   ]
  },
  {
   "cell_type": "code",
   "execution_count": null,
   "id": "077d033d-303e-4543-a77d-7bc27c4cc4fd",
   "metadata": {},
   "outputs": [],
   "source": []
  }
 ],
 "metadata": {
  "kernelspec": {
   "display_name": "Python [conda env:base] *",
   "language": "python",
   "name": "conda-base-py"
  },
  "language_info": {
   "codemirror_mode": {
    "name": "ipython",
    "version": 3
   },
   "file_extension": ".py",
   "mimetype": "text/x-python",
   "name": "python",
   "nbconvert_exporter": "python",
   "pygments_lexer": "ipython3",
   "version": "3.13.5"
  }
 },
 "nbformat": 4,
 "nbformat_minor": 5
}
