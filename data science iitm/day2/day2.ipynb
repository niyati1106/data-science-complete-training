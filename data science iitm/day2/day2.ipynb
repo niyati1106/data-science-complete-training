{
 "cells": [
  {
   "cell_type": "code",
   "execution_count": 33,
   "id": "d348af08-504d-474d-a030-5e53a2b276a3",
   "metadata": {},
   "outputs": [],
   "source": [
    "#python is a general purpose oops programing language with dynaic symentics(no variable declaration)"
   ]
  },
  {
   "cell_type": "code",
   "execution_count": 2,
   "id": "486baf9a-5b30-4882-a032-fd616288dd31",
   "metadata": {},
   "outputs": [],
   "source": [
    "def check_palindrome(word):\n",
    "    return word"
   ]
  },
  {
   "cell_type": "code",
   "execution_count": 3,
   "id": "79770c9d-6f7a-409c-a228-cf4060dd536c",
   "metadata": {},
   "outputs": [
    {
     "data": {
      "text/plain": [
       "'ajay'"
      ]
     },
     "execution_count": 3,
     "metadata": {},
     "output_type": "execute_result"
    }
   ],
   "source": [
    "check_palindrome('ajay')"
   ]
  },
  {
   "cell_type": "code",
   "execution_count": 4,
   "id": "4a4aa1e9-6de3-439b-b299-9c18f4cac059",
   "metadata": {},
   "outputs": [
    {
     "data": {
      "text/plain": [
       "'ykcul'"
      ]
     },
     "execution_count": 4,
     "metadata": {},
     "output_type": "execute_result"
    }
   ],
   "source": [
    "a='lucky'\n",
    "a[::-1]"
   ]
  },
  {
   "cell_type": "code",
   "execution_count": null,
   "id": "ca7f7cb5-4ee8-4fe6-94fe-5eeda77c2e81",
   "metadata": {},
   "outputs": [],
   "source": [
    "a='mohan'\n",
    "if a==a[::-1]:\n",
    " print(f'{a} palindrome')\n",
    "else:\n",
    " print(f'{a} not a palindrome')\n",
    "\n",
    "\n",
    "#b:int='anant'#if we declare a as int and we write a string then it will ignore the data type\n",
    "#print(b)"
   ]
  },
  {
   "cell_type": "code",
   "execution_count": 1,
   "id": "21d634cb-6c2a-499d-acab-feeaa222c63c",
   "metadata": {},
   "outputs": [],
   "source": [
    "def check_palindrome(word:str):\n",
    "    if type(word)==str:\n",
    "     word=word.upper()#if we use upper with number it will give an error\n",
    "     if word==word[::-1]:\n",
    "       return 'palindrome'\n",
    "     else:\n",
    "        return 'not a palindrome'\n",
    "    else:\n",
    "        return 'invalid data type'#this will work if the above if fails\n",
    "        "
   ]
  },
  {
   "cell_type": "code",
   "execution_count": 3,
   "id": "d4689a6f-02dc-4bfc-982c-5326e18d0d8f",
   "metadata": {},
   "outputs": [
    {
     "data": {
      "text/plain": [
       "'palindrome'"
      ]
     },
     "execution_count": 3,
     "metadata": {},
     "output_type": "execute_result"
    }
   ],
   "source": [
    "check_palindrome('181')"
   ]
  },
  {
   "cell_type": "code",
   "execution_count": 5,
   "id": "6e8fc020-8be0-4e39-823f-4ee614ed6997",
   "metadata": {},
   "outputs": [
    {
     "name": "stdout",
     "output_type": "stream",
     "text": [
      "Mohan\n"
     ]
    }
   ],
   "source": [
    "a:int = 'Mohan'\n",
    "print(a)"
   ]
  },
  {
   "cell_type": "code",
   "execution_count": 7,
   "id": "75bf8e2c-a707-4265-b682-ea2b6b0a3484",
   "metadata": {},
   "outputs": [],
   "source": [
    "def give_fibo(n):\n",
    " fibo=[0,1]\n",
    " for i in range(n-2):\n",
    "  last_num=fibo[-1]\n",
    "  second_last_num=fibo[-2]\n",
    "  next_num=last_num+second_last_num\n",
    "  fibo.append(next_num)\n",
    "      \n",
    " return fibo "
   ]
  },
  {
   "cell_type": "code",
   "execution_count": 8,
   "id": "88a7dd89-48f6-45a3-9df8-4f938e76d416",
   "metadata": {},
   "outputs": [
    {
     "data": {
      "text/plain": [
       "[0, 1, 1, 2, 3, 5, 8, 13, 21, 34]"
      ]
     },
     "execution_count": 8,
     "metadata": {},
     "output_type": "execute_result"
    }
   ],
   "source": [
    "give_fibo(10)"
   ]
  },
  {
   "cell_type": "code",
   "execution_count": 9,
   "id": "b2ba91cf-d16d-4e62-aae5-c9c6f80cb5cc",
   "metadata": {},
   "outputs": [
    {
     "name": "stdout",
     "output_type": "stream",
     "text": [
      "856\n",
      "76\n"
     ]
    }
   ],
   "source": [
    "data = [34,65,654,76,856]\n",
    "print(data[-1])\n",
    "print(data[-2])"
   ]
  },
  {
   "cell_type": "code",
   "execution_count": 10,
   "id": "92a70656-803c-48a0-a1d1-a44ba62bc54a",
   "metadata": {},
   "outputs": [],
   "source": [
    "def check_prime(number):\n",
    "    for i in range(2,number):\n",
    "        if number % i == 0:\n",
    "            return 'Not a Prime Number'\n",
    "            break\n",
    "            print('Happy Holi')\n",
    "    else:\n",
    "        return 'Prime Number'"
   ]
  },
  {
   "cell_type": "code",
   "execution_count": 11,
   "id": "8c5fcdea-c018-44bf-889b-9001cce68699",
   "metadata": {},
   "outputs": [
    {
     "data": {
      "text/plain": [
       "'Not a Prime Number'"
      ]
     },
     "execution_count": 11,
     "metadata": {},
     "output_type": "execute_result"
    }
   ],
   "source": [
    "check_prime(20)"
   ]
  },
  {
   "cell_type": "code",
   "execution_count": 12,
   "id": "01ae68ef-1cb6-4ef1-a45c-5ecee95d6356",
   "metadata": {},
   "outputs": [
    {
     "name": "stdout",
     "output_type": "stream",
     "text": [
      "* \n",
      "* * \n",
      "* * * \n",
      "* * * * \n",
      "* * * * * \n"
     ]
    }
   ],
   "source": [
    "n = 5\n",
    "\n",
    "for i in range(1,n+1):\n",
    "  print(i * '* ')"
   ]
  },
  {
   "cell_type": "code",
   "execution_count": 6,
   "id": "01a7c954-e7e0-4ca0-819e-fae142d29137",
   "metadata": {},
   "outputs": [
    {
     "name": "stdout",
     "output_type": "stream",
     "text": [
      "    * \n",
      "   * * \n",
      "  * * * \n",
      " * * * * \n",
      "* * * * * \n"
     ]
    }
   ],
   "source": [
    "n=5\n",
    "for i in range(1,n+1):\n",
    "  print(' '*(n-i)+i*'* ')"
   ]
  },
  {
   "cell_type": "code",
   "execution_count": 19,
   "id": "28a2b8d3-d3ca-405f-afb0-36705b4a7c7d",
   "metadata": {},
   "outputs": [],
   "source": []
  },
  {
   "cell_type": "code",
   "execution_count": 13,
   "id": "b75333e7-6f88-444e-bec1-2bd7be5b82b3",
   "metadata": {},
   "outputs": [],
   "source": [
    "def print_star(n = 5, typ = 'left',shape = '*'):\n",
    "  if typ  == 'left':\n",
    "    space  = ''\n",
    "\n",
    "  elif typ == 'right':\n",
    "    space = '  '\n",
    "\n",
    "  elif typ == 'mid':\n",
    "    space = ' '\n",
    "\n",
    "  for i in range(1,n+1):\n",
    "    print(space*(n-i) + i*f'{shape} ')"
   ]
  },
  {
   "cell_type": "code",
   "execution_count": 15,
   "id": "d3122004-5736-4f30-a2d1-b03389d746cc",
   "metadata": {},
   "outputs": [
    {
     "name": "stdout",
     "output_type": "stream",
     "text": [
      "        * \n",
      "      * * \n",
      "    * * * \n",
      "  * * * * \n",
      "* * * * * \n"
     ]
    }
   ],
   "source": [
    "print_star(5,'right','*')"
   ]
  },
  {
   "cell_type": "code",
   "execution_count": 20,
   "id": "f18969f2-34e3-4043-a669-8e6c2c47ace1",
   "metadata": {},
   "outputs": [],
   "source": [
    "def print_star(n=5,typ='left'):\n",
    "  if typ=='left':\n",
    "   space=''\n",
    "  elif typ=='right':\n",
    "   space='  '\n",
    "  elif typ=='mid':\n",
    "   space=' '\n",
    "\n",
    "\n",
    "  for i in range(1,n+1):\n",
    "   print(space*(n-i)+i*'* ')\n",
    " \n",
    "\n",
    "\n"
   ]
  },
  {
   "cell_type": "code",
   "execution_count": 21,
   "id": "cfbfe7b8-6c0f-4063-bdec-f9e8f02d974f",
   "metadata": {},
   "outputs": [
    {
     "name": "stdout",
     "output_type": "stream",
     "text": [
      "* \n",
      "* * \n",
      "* * * \n",
      "* * * * \n",
      "* * * * * \n"
     ]
    }
   ],
   "source": [
    "print_star()"
   ]
  },
  {
   "cell_type": "code",
   "execution_count": 56,
   "id": "c7d3a593-70f8-4444-b13e-72fd77dca270",
   "metadata": {},
   "outputs": [],
   "source": [
    "def sum_of_n_natural_numbers(n):\n",
    "  result =0 \n",
    "  for i in range(1,n+1):\n",
    "    result +=i\n",
    "\n",
    "  return result\n"
   ]
  },
  {
   "cell_type": "code",
   "execution_count": 57,
   "id": "d4778420-47de-4d7b-aec4-687fe42ec797",
   "metadata": {},
   "outputs": [
    {
     "data": {
      "text/plain": [
       "21"
      ]
     },
     "execution_count": 57,
     "metadata": {},
     "output_type": "execute_result"
    }
   ],
   "source": [
    "sum_of_n_natural_numbers(6)"
   ]
  },
  {
   "cell_type": "code",
   "execution_count": 47,
   "id": "e47711ba-4c23-4247-8c1d-a3ef71ea304c",
   "metadata": {},
   "outputs": [],
   "source": [
    "def factorial(n):\n",
    "  result =1\n",
    "  for i in range(1,n+1):\n",
    "    result *=i\n",
    "\n",
    "  return result\n"
   ]
  },
  {
   "cell_type": "code",
   "execution_count": 48,
   "id": "b974843b-78f9-4a9d-b3f1-50091efd55d0",
   "metadata": {},
   "outputs": [
    {
     "data": {
      "text/plain": [
       "120"
      ]
     },
     "execution_count": 48,
     "metadata": {},
     "output_type": "execute_result"
    }
   ],
   "source": [
    "factorial(5)"
   ]
  },
  {
   "cell_type": "code",
   "execution_count": 58,
   "id": "2b8a3353-d0ad-4c12-8ef0-595b8b73c89a",
   "metadata": {},
   "outputs": [],
   "source": [
    "def total_sales(*args):#using star we can write multiple arguments helps in unpacking and it is the feature of * not args\n",
    "    print(args)"
   ]
  },
  {
   "cell_type": "code",
   "execution_count": 51,
   "id": "effd8c36-a41d-4d87-88b0-93397baabcc2",
   "metadata": {},
   "outputs": [
    {
     "name": "stdout",
     "output_type": "stream",
     "text": [
      "(1, 2, 4)\n"
     ]
    }
   ],
   "source": [
    "total_sales(1,2,4)"
   ]
  },
  {
   "cell_type": "code",
   "execution_count": 65,
   "id": "0b05302a-67a0-47f2-a38a-548fa5301e73",
   "metadata": {},
   "outputs": [],
   "source": [
    "#sum of all the sales\n",
    "def total_sales(*args):\n",
    "   # return sum(args)\n",
    "    result=0\n",
    "    for i in args:\n",
    "        result +=i\n",
    "    return result"
   ]
  },
  {
   "cell_type": "code",
   "execution_count": 66,
   "id": "292e1f2b-618e-484c-bfcb-9ec888fab964",
   "metadata": {},
   "outputs": [
    {
     "data": {
      "text/plain": [
       "7"
      ]
     },
     "execution_count": 66,
     "metadata": {},
     "output_type": "execute_result"
    }
   ],
   "source": [
    "total_sales(1,2,4)"
   ]
  },
  {
   "cell_type": "code",
   "execution_count": 71,
   "id": "3c756d37-1670-41f1-8524-4e0a7042ff58",
   "metadata": {},
   "outputs": [
    {
     "data": {
      "text/plain": [
       "3"
      ]
     },
     "execution_count": 71,
     "metadata": {},
     "output_type": "execute_result"
    }
   ],
   "source": [
    "sales=[423,4234,2342,3,234,234234,23,3242,2424]\n",
    "min(sales)"
   ]
  },
  {
   "cell_type": "code",
   "execution_count": 80,
   "id": "4d09a59d-e51b-45a6-9a9d-3cc3760397b3",
   "metadata": {},
   "outputs": [
    {
     "name": "stdout",
     "output_type": "stream",
     "text": [
      "3\n"
     ]
    }
   ],
   "source": [
    "    sales=[423,4234,2342,3,234,234234,23,3242,2424]\n",
    "    min_element=sales[0]\n",
    "    for i in sales[1:]:\n",
    "      if i <min_element:\n",
    "         min_element=i\n",
    "    print(min_element)\n",
    "        \n",
    "        "
   ]
  },
  {
   "cell_type": "code",
   "execution_count": 85,
   "id": "686d14b1-02f3-4ecf-b612-de47e69490e5",
   "metadata": {},
   "outputs": [
    {
     "name": "stdout",
     "output_type": "stream",
     "text": [
      "234234\n"
     ]
    }
   ],
   "source": [
    "max_element=sales[0]\n",
    "for i in sales[1:]:\n",
    "  if i>max_element:\n",
    "    max_element=i\n",
    "print(max_element)\n",
    "    "
   ]
  },
  {
   "cell_type": "code",
   "execution_count": 115,
   "id": "0000830f-5e20-4502-b910-080bd15e985d",
   "metadata": {},
   "outputs": [],
   "source": [
    "def max_sales(*n):\n",
    " max_element=n[0]\n",
    " for i in n[1:]:\n",
    "  if i>max_element:\n",
    "    max_element=i\n",
    " print( max_element)\n",
    " "
   ]
  },
  {
   "cell_type": "code",
   "execution_count": 116,
   "id": "96dd5c48-8c7d-4e76-b709-0ac2db32a7d5",
   "metadata": {},
   "outputs": [
    {
     "name": "stdout",
     "output_type": "stream",
     "text": [
      "213\n"
     ]
    }
   ],
   "source": [
    "max_sales(213,123,23,132)\n"
   ]
  },
  {
   "cell_type": "code",
   "execution_count": 112,
   "id": "1815e5e8-6b64-4075-8f88-ce52be8eb642",
   "metadata": {},
   "outputs": [],
   "source": [
    "def minn(*data):\n",
    "    min_ele = data[0]\n",
    "    for i in data[1:]:\n",
    "     if i<min_ele:\n",
    "         min_ele=i\n",
    "    return min_ele\n",
    "    "
   ]
  },
  {
   "cell_type": "code",
   "execution_count": 113,
   "id": "a3e362e1-2dce-4532-8c1e-60df33511793",
   "metadata": {},
   "outputs": [
    {
     "data": {
      "text/plain": [
       "23"
      ]
     },
     "execution_count": 113,
     "metadata": {},
     "output_type": "execute_result"
    }
   ],
   "source": [
    "minn(23,423,42,42)\n"
   ]
  },
  {
   "cell_type": "code",
   "execution_count": 121,
   "id": "2999e1a5-67fa-4246-b5f2-17f8a8eef97f",
   "metadata": {},
   "outputs": [],
   "source": [
    "#list comprihension\n",
    "company=['ola','uber','rapido','indrive','adani','tata']\n",
    "def add_hashtag(*company):\n",
    "    result=[]\n",
    "    for i in company:\n",
    "     result.append('#'+i.upper())\n",
    "    return result"
   ]
  },
  {
   "cell_type": "code",
   "execution_count": 122,
   "id": "703b5452-c9d8-4b5a-a976-f3f119f239f2",
   "metadata": {},
   "outputs": [
    {
     "data": {
      "text/plain": [
       "['#OLA', '#UBER']"
      ]
     },
     "execution_count": 122,
     "metadata": {},
     "output_type": "execute_result"
    }
   ],
   "source": [
    "add_hashtag('ola','uber')"
   ]
  },
  {
   "cell_type": "code",
   "execution_count": 127,
   "id": "bfb3b04a-8913-4f41-a163-d647d598dd54",
   "metadata": {},
   "outputs": [],
   "source": [
    "def store_records( name,age,sec,roll_no,Class):\n",
    "    data={'name':name,'age':age,'sec':sec,'roll_no':roll_no,'Class':Class}\n",
    "    import pandas as pd\n",
    "    result=pd.DataFrame(data,index=[1])\n",
    "    return result\n",
    "    "
   ]
  },
  {
   "cell_type": "code",
   "execution_count": 131,
   "id": "6234a81d-f923-4d10-9253-11004a14e0fb",
   "metadata": {},
   "outputs": [
    {
     "data": {
      "text/html": [
       "<div>\n",
       "<style scoped>\n",
       "    .dataframe tbody tr th:only-of-type {\n",
       "        vertical-align: middle;\n",
       "    }\n",
       "\n",
       "    .dataframe tbody tr th {\n",
       "        vertical-align: top;\n",
       "    }\n",
       "\n",
       "    .dataframe thead th {\n",
       "        text-align: right;\n",
       "    }\n",
       "</style>\n",
       "<table border=\"1\" class=\"dataframe\">\n",
       "  <thead>\n",
       "    <tr style=\"text-align: right;\">\n",
       "      <th></th>\n",
       "      <th>name</th>\n",
       "      <th>age</th>\n",
       "      <th>sec</th>\n",
       "      <th>roll_no</th>\n",
       "      <th>Class</th>\n",
       "    </tr>\n",
       "  </thead>\n",
       "  <tbody>\n",
       "    <tr>\n",
       "      <th>1</th>\n",
       "      <td>niyati</td>\n",
       "      <td>12</td>\n",
       "      <td>a</td>\n",
       "      <td>12</td>\n",
       "      <td>12</td>\n",
       "    </tr>\n",
       "  </tbody>\n",
       "</table>\n",
       "</div>"
      ],
      "text/plain": [
       "     name  age sec  roll_no  Class\n",
       "1  niyati   12   a       12     12"
      ]
     },
     "metadata": {},
     "output_type": "display_data"
    },
    {
     "data": {
      "text/html": [
       "<div>\n",
       "<style scoped>\n",
       "    .dataframe tbody tr th:only-of-type {\n",
       "        vertical-align: middle;\n",
       "    }\n",
       "\n",
       "    .dataframe tbody tr th {\n",
       "        vertical-align: top;\n",
       "    }\n",
       "\n",
       "    .dataframe thead th {\n",
       "        text-align: right;\n",
       "    }\n",
       "</style>\n",
       "<table border=\"1\" class=\"dataframe\">\n",
       "  <thead>\n",
       "    <tr style=\"text-align: right;\">\n",
       "      <th></th>\n",
       "      <th>name</th>\n",
       "      <th>age</th>\n",
       "      <th>sec</th>\n",
       "      <th>roll_no</th>\n",
       "      <th>Class</th>\n",
       "    </tr>\n",
       "  </thead>\n",
       "  <tbody>\n",
       "    <tr>\n",
       "      <th>1</th>\n",
       "      <td>niyati</td>\n",
       "      <td>12</td>\n",
       "      <td>a</td>\n",
       "      <td>12</td>\n",
       "      <td>12</td>\n",
       "    </tr>\n",
       "  </tbody>\n",
       "</table>\n",
       "</div>"
      ],
      "text/plain": [
       "     name  age sec  roll_no  Class\n",
       "1  niyati   12   a       12     12"
      ]
     },
     "metadata": {},
     "output_type": "display_data"
    },
    {
     "data": {
      "text/html": [
       "<div>\n",
       "<style scoped>\n",
       "    .dataframe tbody tr th:only-of-type {\n",
       "        vertical-align: middle;\n",
       "    }\n",
       "\n",
       "    .dataframe tbody tr th {\n",
       "        vertical-align: top;\n",
       "    }\n",
       "\n",
       "    .dataframe thead th {\n",
       "        text-align: right;\n",
       "    }\n",
       "</style>\n",
       "<table border=\"1\" class=\"dataframe\">\n",
       "  <thead>\n",
       "    <tr style=\"text-align: right;\">\n",
       "      <th></th>\n",
       "      <th>name</th>\n",
       "      <th>age</th>\n",
       "      <th>sec</th>\n",
       "      <th>roll_no</th>\n",
       "      <th>Class</th>\n",
       "    </tr>\n",
       "  </thead>\n",
       "  <tbody>\n",
       "    <tr>\n",
       "      <th>1</th>\n",
       "      <td>niyati</td>\n",
       "      <td>12</td>\n",
       "      <td>a</td>\n",
       "      <td>12</td>\n",
       "      <td>12</td>\n",
       "    </tr>\n",
       "  </tbody>\n",
       "</table>\n",
       "</div>"
      ],
      "text/plain": [
       "     name  age sec  roll_no  Class\n",
       "1  niyati   12   a       12     12"
      ]
     },
     "metadata": {},
     "output_type": "display_data"
    }
   ],
   "source": [
    "display(store_records('niyati',12,'a',12,12))\n",
    "display(store_records('niyati',12,'a',12,12))\n",
    "display(store_records('niyati',12,'a',12,12))"
   ]
  },
  {
   "cell_type": "code",
   "execution_count": 9,
   "id": "c6ed262b-4c8c-4f6b-8988-bb4f1cd930ab",
   "metadata": {},
   "outputs": [],
   "source": [
    "import pandas as pd\n",
    "def students_record(**kwargs):#single star stores tupple and double star stores dictionary\n",
    "    result=pd.DataFrame(kwargs,index=[1])\n",
    "    return result\n",
    "    "
   ]
  },
  {
   "cell_type": "code",
   "execution_count": 10,
   "id": "d30473e8-5849-4172-88f8-17e604016263",
   "metadata": {},
   "outputs": [
    {
     "data": {
      "text/html": [
       "<div>\n",
       "<style scoped>\n",
       "    .dataframe tbody tr th:only-of-type {\n",
       "        vertical-align: middle;\n",
       "    }\n",
       "\n",
       "    .dataframe tbody tr th {\n",
       "        vertical-align: top;\n",
       "    }\n",
       "\n",
       "    .dataframe thead th {\n",
       "        text-align: right;\n",
       "    }\n",
       "</style>\n",
       "<table border=\"1\" class=\"dataframe\">\n",
       "  <thead>\n",
       "    <tr style=\"text-align: right;\">\n",
       "      <th></th>\n",
       "      <th>name</th>\n",
       "      <th>age</th>\n",
       "      <th>sec</th>\n",
       "      <th>roll_no</th>\n",
       "    </tr>\n",
       "  </thead>\n",
       "  <tbody>\n",
       "    <tr>\n",
       "      <th>1</th>\n",
       "      <td>niyati</td>\n",
       "      <td>20</td>\n",
       "      <td>m1</td>\n",
       "      <td>12</td>\n",
       "    </tr>\n",
       "  </tbody>\n",
       "</table>\n",
       "</div>"
      ],
      "text/plain": [
       "     name  age sec  roll_no\n",
       "1  niyati   20  m1       12"
      ]
     },
     "execution_count": 10,
     "metadata": {},
     "output_type": "execute_result"
    }
   ],
   "source": [
    "students_record(name='niyati',age = 20,sec= 'm1',roll_no=12)"
   ]
  },
  {
   "cell_type": "code",
   "execution_count": 17,
   "id": "9cea1978-8943-4e66-8ed8-9716a5924673",
   "metadata": {},
   "outputs": [],
   "source": [
    "import pandas as pd\n",
    "def students_record(**kwargs):\n",
    "    print(kwargs)\n",
    "    keys=list(kwargs)\n",
    "    if type(keys[0])==str:\n",
    "        result=pd.DataFrame(kwargs)\n",
    "        return result\n",
    "    else:\n",
    "        result=pd.DataFrame(kwargs)\n",
    "        return result\n",
    "        \n",
    "    "
   ]
  },
  {
   "cell_type": "code",
   "execution_count": 18,
   "id": "e09de9ef-53f5-4157-810e-1c6e521f6646",
   "metadata": {},
   "outputs": [
    {
     "name": "stdout",
     "output_type": "stream",
     "text": [
      "{'name': ['niyati', 'kushu', 'ajay'], 'age': [12, 21, 12], 'roll_no': [101, 102, 103], 'address': ['noida', 'gr noida', 'delhi']}\n"
     ]
    },
    {
     "data": {
      "text/html": [
       "<div>\n",
       "<style scoped>\n",
       "    .dataframe tbody tr th:only-of-type {\n",
       "        vertical-align: middle;\n",
       "    }\n",
       "\n",
       "    .dataframe tbody tr th {\n",
       "        vertical-align: top;\n",
       "    }\n",
       "\n",
       "    .dataframe thead th {\n",
       "        text-align: right;\n",
       "    }\n",
       "</style>\n",
       "<table border=\"1\" class=\"dataframe\">\n",
       "  <thead>\n",
       "    <tr style=\"text-align: right;\">\n",
       "      <th></th>\n",
       "      <th>name</th>\n",
       "      <th>age</th>\n",
       "      <th>roll_no</th>\n",
       "      <th>address</th>\n",
       "    </tr>\n",
       "  </thead>\n",
       "  <tbody>\n",
       "    <tr>\n",
       "      <th>0</th>\n",
       "      <td>niyati</td>\n",
       "      <td>12</td>\n",
       "      <td>101</td>\n",
       "      <td>noida</td>\n",
       "    </tr>\n",
       "    <tr>\n",
       "      <th>1</th>\n",
       "      <td>kushu</td>\n",
       "      <td>21</td>\n",
       "      <td>102</td>\n",
       "      <td>gr noida</td>\n",
       "    </tr>\n",
       "    <tr>\n",
       "      <th>2</th>\n",
       "      <td>ajay</td>\n",
       "      <td>12</td>\n",
       "      <td>103</td>\n",
       "      <td>delhi</td>\n",
       "    </tr>\n",
       "  </tbody>\n",
       "</table>\n",
       "</div>"
      ],
      "text/plain": [
       "     name  age  roll_no   address\n",
       "0  niyati   12      101     noida\n",
       "1   kushu   21      102  gr noida\n",
       "2    ajay   12      103     delhi"
      ]
     },
     "execution_count": 18,
     "metadata": {},
     "output_type": "execute_result"
    }
   ],
   "source": [
    "students_record(name=['niyati','kushu','ajay'],\n",
    "                age=[12,21,12],\n",
    "                roll_no=[101,102,103],\n",
    "                address=['noida','gr noida','delhi'])"
   ]
  },
  {
   "cell_type": "code",
   "execution_count": null,
   "id": "1518f81f-1f52-4905-bba3-cb312047aea2",
   "metadata": {},
   "outputs": [],
   "source": []
  }
 ],
 "metadata": {
  "kernelspec": {
   "display_name": "Python [conda env:base] *",
   "language": "python",
   "name": "conda-base-py"
  },
  "language_info": {
   "codemirror_mode": {
    "name": "ipython",
    "version": 3
   },
   "file_extension": ".py",
   "mimetype": "text/x-python",
   "name": "python",
   "nbconvert_exporter": "python",
   "pygments_lexer": "ipython3",
   "version": "3.13.5"
  }
 },
 "nbformat": 4,
 "nbformat_minor": 5
}
