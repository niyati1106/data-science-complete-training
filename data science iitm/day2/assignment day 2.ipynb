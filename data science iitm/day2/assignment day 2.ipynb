{
 "cells": [
  {
   "cell_type": "markdown",
   "id": "80c40446-dc04-4bef-88eb-dca302b72519",
   "metadata": {},
   "source": [
    "practice problem 1 to find even or odd"
   ]
  },
  {
   "cell_type": "code",
   "execution_count": 7,
   "id": "46381a6f-44ff-4869-b7bd-283e82ca4426",
   "metadata": {},
   "outputs": [],
   "source": [
    "def even_or_odd(no):\n",
    "    if no % 2 ==0:\n",
    "        print('number is even')\n",
    "    else:\n",
    "        print('number is odd')\n",
    "        "
   ]
  },
  {
   "cell_type": "code",
   "execution_count": 9,
   "id": "99db4ab2-1e48-4d40-87b6-82344728cee3",
   "metadata": {},
   "outputs": [
    {
     "name": "stdout",
     "output_type": "stream",
     "text": [
      "number is even\n"
     ]
    }
   ],
   "source": [
    "even_or_odd(10)"
   ]
  },
  {
   "cell_type": "code",
   "execution_count": 14,
   "id": "14e295b2-182c-4c6b-b9a6-24bc2d245dfe",
   "metadata": {},
   "outputs": [],
   "source": [
    "def even_or_odd():\n",
    "    no =int(input('enter the number'))\n",
    "    if no % 2 ==0:\n",
    "        print('number is even')\n",
    "    else:\n",
    "        print('number is odd')\n",
    "        "
   ]
  },
  {
   "cell_type": "code",
   "execution_count": 16,
   "id": "4043e96a-72c4-4240-ab33-99dfb11dbccd",
   "metadata": {},
   "outputs": [
    {
     "name": "stdin",
     "output_type": "stream",
     "text": [
      "enter the number 9\n"
     ]
    },
    {
     "name": "stdout",
     "output_type": "stream",
     "text": [
      "number is odd\n"
     ]
    }
   ],
   "source": [
    "even_or_odd()"
   ]
  },
  {
   "cell_type": "markdown",
   "id": "f409c738-2525-467e-9a5d-632851c9132c",
   "metadata": {},
   "source": [
    "practice problem 2 creating a centered pyramid using stars"
   ]
  },
  {
   "cell_type": "code",
   "execution_count": 18,
   "id": "da12fbbb-9129-4805-9359-40c5672e3dce",
   "metadata": {},
   "outputs": [
    {
     "name": "stdout",
     "output_type": "stream",
     "text": [
      "         * \n",
      "        * * \n",
      "       * * * \n",
      "      * * * * \n",
      "     * * * * * \n",
      "    * * * * * * \n",
      "   * * * * * * * \n",
      "  * * * * * * * * \n",
      " * * * * * * * * * \n",
      "* * * * * * * * * * \n"
     ]
    }
   ],
   "source": [
    "n=5\n",
    "for i in range(1,n+1):\n",
    "  print(' '*(n-i)+i*'* ')"
   ]
  },
  {
   "cell_type": "markdown",
   "id": "3e0c66c3-38d2-44fe-b8ad-6848a4c80a84",
   "metadata": {},
   "source": [
    "practice problem 3 hastag generator"
   ]
  },
  {
   "cell_type": "code",
   "execution_count": 46,
   "id": "14da80f1-ab5c-4863-8e26-d9d9448af83c",
   "metadata": {},
   "outputs": [],
   "source": [
    "def hashtag_generator():\n",
    "    text=input('enter the text')\n",
    "    hashtag='#'+ text\n",
    "    print(hashtag)\n"
   ]
  },
  {
   "cell_type": "code",
   "execution_count": 47,
   "id": "15fd7f71-ae46-493f-b955-07de581f09a5",
   "metadata": {},
   "outputs": [
    {
     "name": "stdin",
     "output_type": "stream",
     "text": [
      "enter the text hi\n"
     ]
    },
    {
     "name": "stdout",
     "output_type": "stream",
     "text": [
      "#hi\n"
     ]
    }
   ],
   "source": [
    "hashtag_generator()"
   ]
  },
  {
   "cell_type": "markdown",
   "id": "e0d764c8-361e-4235-b9b3-ee75439605e1",
   "metadata": {},
   "source": [
    "practice problem 4 user input factorial"
   ]
  },
  {
   "cell_type": "code",
   "execution_count": 69,
   "id": "b63c21d8-0c4a-47e7-a59f-0f3980521f2d",
   "metadata": {},
   "outputs": [],
   "source": [
    "def give_factorial():\n",
    "    result=1\n",
    "    num=int(input('enter the number'))\n",
    "    for i in range (1 ,num+1):\n",
    "        result=result*i\n",
    "    return result\n",
    "    \n"
   ]
  },
  {
   "cell_type": "code",
   "execution_count": 70,
   "id": "7f8d6598-638c-4d9f-9d83-6f6933609e4c",
   "metadata": {},
   "outputs": [
    {
     "name": "stdin",
     "output_type": "stream",
     "text": [
      "enter the number 5\n"
     ]
    },
    {
     "data": {
      "text/plain": [
       "120"
      ]
     },
     "execution_count": 70,
     "metadata": {},
     "output_type": "execute_result"
    }
   ],
   "source": [
    "give_factorial()\n",
    "\n"
   ]
  },
  {
   "cell_type": "markdown",
   "id": "3476ca56-1333-4563-bb48-2bfe0a0a2e79",
   "metadata": {},
   "source": [
    "practice problem 5 student records"
   ]
  },
  {
   "cell_type": "code",
   "execution_count": 71,
   "id": "b6874248-e9e1-4d46-86bc-f7afc0d6aa8e",
   "metadata": {},
   "outputs": [],
   "source": [
    "import pandas as pd\n",
    "def students_record(**kwargs):\n",
    "    print(kwargs)\n",
    "    keys=list(kwargs)\n",
    "    if type(keys[0])==str:\n",
    "        result=pd.DataFrame(kwargs)\n",
    "        return result\n",
    "    else:\n",
    "        result=pd.DataFrame(kwargs)\n",
    "        return result\n",
    "        \n",
    "    "
   ]
  },
  {
   "cell_type": "code",
   "execution_count": 72,
   "id": "cdac1f82-5a44-41ae-a742-764d6eb63a6d",
   "metadata": {},
   "outputs": [
    {
     "name": "stdout",
     "output_type": "stream",
     "text": [
      "{'name': ['niyati', 'kushu', 'ajay'], 'age': [12, 21, 12], 'roll_no': [101, 102, 103], 'address': ['noida', 'gr noida', 'delhi']}\n"
     ]
    },
    {
     "data": {
      "text/html": [
       "<div>\n",
       "<style scoped>\n",
       "    .dataframe tbody tr th:only-of-type {\n",
       "        vertical-align: middle;\n",
       "    }\n",
       "\n",
       "    .dataframe tbody tr th {\n",
       "        vertical-align: top;\n",
       "    }\n",
       "\n",
       "    .dataframe thead th {\n",
       "        text-align: right;\n",
       "    }\n",
       "</style>\n",
       "<table border=\"1\" class=\"dataframe\">\n",
       "  <thead>\n",
       "    <tr style=\"text-align: right;\">\n",
       "      <th></th>\n",
       "      <th>name</th>\n",
       "      <th>age</th>\n",
       "      <th>roll_no</th>\n",
       "      <th>address</th>\n",
       "    </tr>\n",
       "  </thead>\n",
       "  <tbody>\n",
       "    <tr>\n",
       "      <th>0</th>\n",
       "      <td>niyati</td>\n",
       "      <td>12</td>\n",
       "      <td>101</td>\n",
       "      <td>noida</td>\n",
       "    </tr>\n",
       "    <tr>\n",
       "      <th>1</th>\n",
       "      <td>kushu</td>\n",
       "      <td>21</td>\n",
       "      <td>102</td>\n",
       "      <td>gr noida</td>\n",
       "    </tr>\n",
       "    <tr>\n",
       "      <th>2</th>\n",
       "      <td>ajay</td>\n",
       "      <td>12</td>\n",
       "      <td>103</td>\n",
       "      <td>delhi</td>\n",
       "    </tr>\n",
       "  </tbody>\n",
       "</table>\n",
       "</div>"
      ],
      "text/plain": [
       "     name  age  roll_no   address\n",
       "0  niyati   12      101     noida\n",
       "1   kushu   21      102  gr noida\n",
       "2    ajay   12      103     delhi"
      ]
     },
     "execution_count": 72,
     "metadata": {},
     "output_type": "execute_result"
    }
   ],
   "source": [
    "students_record(name=['niyati','kushu','ajay'],\n",
    "                age=[12,21,12],\n",
    "                roll_no=[101,102,103],\n",
    "                address=['noida','gr noida','delhi'])"
   ]
  },
  {
   "cell_type": "code",
   "execution_count": null,
   "id": "8b8542d6-041c-4344-b8d5-1f6f7c94bb53",
   "metadata": {},
   "outputs": [],
   "source": []
  }
 ],
 "metadata": {
  "kernelspec": {
   "display_name": "Python [conda env:base] *",
   "language": "python",
   "name": "conda-base-py"
  },
  "language_info": {
   "codemirror_mode": {
    "name": "ipython",
    "version": 3
   },
   "file_extension": ".py",
   "mimetype": "text/x-python",
   "name": "python",
   "nbconvert_exporter": "python",
   "pygments_lexer": "ipython3",
   "version": "3.13.5"
  }
 },
 "nbformat": 4,
 "nbformat_minor": 5
}
