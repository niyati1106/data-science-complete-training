{
 "cells": [
  {
   "cell_type": "code",
   "execution_count": 1,
   "id": "3afc57e3-daa3-48dc-b7a3-479d8a1ba795",
   "metadata": {},
   "outputs": [
    {
     "name": "stdout",
     "output_type": "stream",
     "text": [
      "done\n"
     ]
    }
   ],
   "source": [
    "q1_sales = [23,45,56]\n",
    "q2_sales = [33,65,86]\n",
    "q3_sales = [43,55,86]\n",
    "q4_sales = [53,55,96]\n",
    "\n",
    "\n",
    "import numpy as np\n",
    "print('done')"
   ]
  },
  {
   "cell_type": "code",
   "execution_count": 2,
   "id": "ded66ce0-39b2-4621-b982-f9a9b07ca066",
   "metadata": {},
   "outputs": [
    {
     "data": {
      "text/plain": [
       "'2.1.3'"
      ]
     },
     "execution_count": 2,
     "metadata": {},
     "output_type": "execute_result"
    }
   ],
   "source": [
    "np.__version__"
   ]
  },
  {
   "cell_type": "code",
   "execution_count": 3,
   "id": "548fc51c-b466-4ca9-a3b9-f133d0fc53b5",
   "metadata": {},
   "outputs": [
    {
     "name": "stdout",
     "output_type": "stream",
     "text": [
      "done\n"
     ]
    }
   ],
   "source": [
    "import matplotlib.pyplot as plt\n",
    "print('done')"
   ]
  },
  {
   "cell_type": "code",
   "execution_count": 8,
   "id": "8d35382a-2158-4ea2-ab86-a0eaa7230cb1",
   "metadata": {},
   "outputs": [
    {
     "data": {
      "text/plain": [
       "0"
      ]
     },
     "execution_count": 8,
     "metadata": {},
     "output_type": "execute_result"
    }
   ],
   "source": [
    "arr_0 = np.array(5678)\n",
    "arr_0.ndim"
   ]
  },
  {
   "cell_type": "code",
   "execution_count": 9,
   "id": "a077583f-e5ed-4cfb-9b49-0c8be7c53cc4",
   "metadata": {},
   "outputs": [
    {
     "name": "stdout",
     "output_type": "stream",
     "text": [
      "[ 124    3    4 3456]\n"
     ]
    }
   ],
   "source": [
    "arr_1 = np.array([124,3,4,3456])\n",
    "\n",
    "print(arr_1)"
   ]
  },
  {
   "cell_type": "code",
   "execution_count": 10,
   "id": "48cfd90f-0cb5-43e8-ba0c-aa08a1af69c3",
   "metadata": {},
   "outputs": [
    {
     "data": {
      "text/plain": [
       "1"
      ]
     },
     "execution_count": 10,
     "metadata": {},
     "output_type": "execute_result"
    }
   ],
   "source": [
    "arr_1.ndim"
   ]
  },
  {
   "cell_type": "code",
   "execution_count": 11,
   "id": "418b5026-e3c7-4a03-8762-46773db6e310",
   "metadata": {},
   "outputs": [
    {
     "data": {
      "text/plain": [
       "array([[ 1,  2, 34],\n",
       "       [ 3,  4,  5]])"
      ]
     },
     "execution_count": 11,
     "metadata": {},
     "output_type": "execute_result"
    }
   ],
   "source": [
    "arr_2 = np.array([[1,2,34],\n",
    "                 [3,4,5]])\n",
    "arr_2"
   ]
  },
  {
   "cell_type": "code",
   "execution_count": 12,
   "id": "386227d5-b996-40be-9eb2-78aed67b2d7a",
   "metadata": {},
   "outputs": [
    {
     "data": {
      "text/plain": [
       "2"
      ]
     },
     "execution_count": 12,
     "metadata": {},
     "output_type": "execute_result"
    }
   ],
   "source": [
    "arr_2.ndim"
   ]
  },
  {
   "cell_type": "code",
   "execution_count": 13,
   "id": "59d64ed2-0908-4fd7-9647-edae30bcc05e",
   "metadata": {},
   "outputs": [
    {
     "data": {
      "text/plain": [
       "array([[[ 12,   4, 354]]])"
      ]
     },
     "execution_count": 13,
     "metadata": {},
     "output_type": "execute_result"
    }
   ],
   "source": [
    "arr_3 = np.array([[[12,4,354]]])\n",
    "\n",
    "arr_3"
   ]
  },
  {
   "cell_type": "code",
   "execution_count": 14,
   "id": "480e1c83-227a-47d8-bab4-f0ab7f740758",
   "metadata": {},
   "outputs": [
    {
     "data": {
      "text/plain": [
       "3"
      ]
     },
     "execution_count": 14,
     "metadata": {},
     "output_type": "execute_result"
    }
   ],
   "source": [
    "arr_3.ndim"
   ]
  },
  {
   "cell_type": "code",
   "execution_count": 15,
   "id": "c827d4a1-82e2-43f3-b09a-3900b73c3e04",
   "metadata": {},
   "outputs": [
    {
     "data": {
      "text/plain": [
       "(2, 3)"
      ]
     },
     "execution_count": 15,
     "metadata": {},
     "output_type": "execute_result"
    }
   ],
   "source": [
    "arr_2.shape"
   ]
  },
  {
   "cell_type": "code",
   "execution_count": 16,
   "id": "4f851216-6691-4b6f-a4f4-d9ebb12c5917",
   "metadata": {},
   "outputs": [
    {
     "data": {
      "text/plain": [
       "array([[ 1,  2, 34],\n",
       "       [ 3,  4,  5]])"
      ]
     },
     "execution_count": 16,
     "metadata": {},
     "output_type": "execute_result"
    }
   ],
   "source": [
    "arr_2"
   ]
  },
  {
   "cell_type": "code",
   "execution_count": 17,
   "id": "b6fb7eb9-d20e-4048-a711-bff72cfd40ec",
   "metadata": {},
   "outputs": [
    {
     "data": {
      "text/plain": [
       "(1, 1, 3)"
      ]
     },
     "execution_count": 17,
     "metadata": {},
     "output_type": "execute_result"
    }
   ],
   "source": [
    "arr_3.shape"
   ]
  },
  {
   "cell_type": "code",
   "execution_count": 18,
   "id": "bfb5710d-7ea9-4ed4-bbf7-0a797c6dbe1c",
   "metadata": {},
   "outputs": [
    {
     "data": {
      "text/plain": [
       "array([[[ 12,   4, 354]]])"
      ]
     },
     "execution_count": 18,
     "metadata": {},
     "output_type": "execute_result"
    }
   ],
   "source": [
    "arr_3"
   ]
  },
  {
   "cell_type": "code",
   "execution_count": 19,
   "id": "f3f24a9b-3930-4f52-9c16-fdf9aa6355e8",
   "metadata": {},
   "outputs": [
    {
     "data": {
      "text/plain": [
       "array([[[1, 2, 3],\n",
       "        [3, 4, 5]]])"
      ]
     },
     "execution_count": 19,
     "metadata": {},
     "output_type": "execute_result"
    }
   ],
   "source": [
    "arr_3_new = np.array([[[1,2,3],\n",
    "                     [3,4,5]]])\n",
    "arr_3_new"
   ]
  },
  {
   "cell_type": "code",
   "execution_count": 20,
   "id": "f810bb1d-f9a8-4366-bdf3-b38c5281e3c9",
   "metadata": {},
   "outputs": [
    {
     "data": {
      "text/plain": [
       "(1, 2, 3)"
      ]
     },
     "execution_count": 20,
     "metadata": {},
     "output_type": "execute_result"
    }
   ],
   "source": [
    "arr_3_new.shape"
   ]
  },
  {
   "cell_type": "code",
   "execution_count": 21,
   "id": "89b78430-3ff4-4e72-bfb9-dd716370b9a8",
   "metadata": {},
   "outputs": [
    {
     "data": {
      "text/plain": [
       "array([[[ 1,  2,  3],\n",
       "        [ 3,  4,  5]],\n",
       "\n",
       "       [[11, 12, 13],\n",
       "        [13, 14, 15]]])"
      ]
     },
     "execution_count": 21,
     "metadata": {},
     "output_type": "execute_result"
    }
   ],
   "source": [
    "arr_3_new_again = np.array([[[1,2,3],\n",
    "                             [3,4,5]],\n",
    "\n",
    "                            [[11,12,13],\n",
    "                             [13,14,15]]])\n",
    "arr_3_new_again"
   ]
  },
  {
   "cell_type": "code",
   "execution_count": 22,
   "id": "165a4494-5f7e-440b-802b-bd19d545df9d",
   "metadata": {},
   "outputs": [
    {
     "data": {
      "text/plain": [
       "(2, 2, 3)"
      ]
     },
     "execution_count": 22,
     "metadata": {},
     "output_type": "execute_result"
    }
   ],
   "source": [
    "arr_3_new_again.shape"
   ]
  },
  {
   "cell_type": "code",
   "execution_count": 23,
   "id": "14521b8f-eacf-433a-b7dd-c6ec9407b7a4",
   "metadata": {},
   "outputs": [],
   "source": [
    "arr_3_3 = np.array([[[1,2,3],[2,3,4],[2,3,4]],\n",
    "         [[1,2,3],[2,3,4],[2,3,4]],\n",
    "         [[1,2,3],[2,3,4],[2,3,4]]])\n"
   ]
  },
  {
   "cell_type": "code",
   "execution_count": 24,
   "id": "3b39edb0-a5f9-48ee-a772-e74193e766f5",
   "metadata": {},
   "outputs": [
    {
     "data": {
      "text/plain": [
       "(3, 3, 3)"
      ]
     },
     "execution_count": 24,
     "metadata": {},
     "output_type": "execute_result"
    }
   ],
   "source": [
    "arr_3_3.shape"
   ]
  },
  {
   "cell_type": "code",
   "execution_count": 25,
   "id": "3a1de835-1f5a-4e33-b792-1861124e776c",
   "metadata": {},
   "outputs": [
    {
     "data": {
      "text/plain": [
       "array([[[1, 2, 3],\n",
       "        [2, 3, 4],\n",
       "        [2, 3, 4]],\n",
       "\n",
       "       [[1, 2, 3],\n",
       "        [2, 3, 4],\n",
       "        [2, 3, 4]],\n",
       "\n",
       "       [[1, 2, 3],\n",
       "        [2, 3, 4],\n",
       "        [2, 3, 4]]])"
      ]
     },
     "execution_count": 25,
     "metadata": {},
     "output_type": "execute_result"
    }
   ],
   "source": [
    "arr_3_3"
   ]
  },
  {
   "cell_type": "code",
   "execution_count": 26,
   "id": "617d3d3c-630a-4e5c-8d77-104510a0a547",
   "metadata": {},
   "outputs": [],
   "source": [
    "arr_3_5 = np.array(\n",
    "                    [\n",
    "                    [[1,2,3,4,5],[1,2,3,4,5],[1,2,3,4,5],[1,2,3,4,5],[1,2,3,4,5]],\n",
    "                    [[1,2,3,4,5],[1,2,3,4,5],[1,2,3,4,5],[1,2,3,4,5],[1,2,3,4,5]],\n",
    "                    [[1,2,3,4,5],[1,2,3,4,5],[1,2,3,4,5],[1,2,3,4,5],[1,2,3,4,5]]\n",
    "                    ]\n",
    "                   )\n",
    "\n"
   ]
  },
  {
   "cell_type": "code",
   "execution_count": 27,
   "id": "ae755787-805f-43f8-948b-c58d29c1e1fc",
   "metadata": {},
   "outputs": [
    {
     "data": {
      "text/plain": [
       "array([[[1, 2, 3, 4, 5],\n",
       "        [1, 2, 3, 4, 5],\n",
       "        [1, 2, 3, 4, 5],\n",
       "        [1, 2, 3, 4, 5],\n",
       "        [1, 2, 3, 4, 5]],\n",
       "\n",
       "       [[1, 2, 3, 4, 5],\n",
       "        [1, 2, 3, 4, 5],\n",
       "        [1, 2, 3, 4, 5],\n",
       "        [1, 2, 3, 4, 5],\n",
       "        [1, 2, 3, 4, 5]],\n",
       "\n",
       "       [[1, 2, 3, 4, 5],\n",
       "        [1, 2, 3, 4, 5],\n",
       "        [1, 2, 3, 4, 5],\n",
       "        [1, 2, 3, 4, 5],\n",
       "        [1, 2, 3, 4, 5]]])"
      ]
     },
     "execution_count": 27,
     "metadata": {},
     "output_type": "execute_result"
    }
   ],
   "source": [
    "arr_3_5"
   ]
  },
  {
   "cell_type": "code",
   "execution_count": 28,
   "id": "91484c09-2823-4bc5-8528-3613cf7e6213",
   "metadata": {},
   "outputs": [
    {
     "data": {
      "text/plain": [
       "3"
      ]
     },
     "execution_count": 28,
     "metadata": {},
     "output_type": "execute_result"
    }
   ],
   "source": [
    "arr_3_5.ndim"
   ]
  },
  {
   "cell_type": "code",
   "execution_count": 29,
   "id": "81b188c8-8a05-4a7c-81e7-38b50a9f3625",
   "metadata": {},
   "outputs": [
    {
     "data": {
      "text/plain": [
       "(3, 5, 5)"
      ]
     },
     "execution_count": 29,
     "metadata": {},
     "output_type": "execute_result"
    }
   ],
   "source": [
    "arr_3_5.shape"
   ]
  },
  {
   "cell_type": "code",
   "execution_count": 30,
   "id": "6fdfd340-fd9f-491d-ab19-14b45cf4d067",
   "metadata": {},
   "outputs": [
    {
     "data": {
      "text/plain": [
       "75"
      ]
     },
     "execution_count": 30,
     "metadata": {},
     "output_type": "execute_result"
    }
   ],
   "source": [
    "arr_3_5.size"
   ]
  },
  {
   "cell_type": "code",
   "execution_count": 31,
   "id": "16815e90-c515-4a3b-a537-dec27a7e6f6f",
   "metadata": {},
   "outputs": [
    {
     "data": {
      "text/plain": [
       "array([[36, 82, 29, 28, 44],\n",
       "       [78, 98, 23, 23,  5],\n",
       "       [80, 29, 34, 49, 35],\n",
       "       [58, 92, 42, 87, 57],\n",
       "       [ 6, 86, 23, 72,  5]], dtype=int32)"
      ]
     },
     "execution_count": 31,
     "metadata": {},
     "output_type": "execute_result"
    }
   ],
   "source": [
    "np.random.randint(1,100,(5,5))"
   ]
  },
  {
   "cell_type": "code",
   "execution_count": 32,
   "id": "cf2f5899-651c-4a0a-b58c-3aca976b04e2",
   "metadata": {},
   "outputs": [
    {
     "data": {
      "text/plain": [
       "array([[[ 1, 79, 17],\n",
       "        [88, 93, 43],\n",
       "        [99, 66, 59]],\n",
       "\n",
       "       [[51, 62, 60],\n",
       "        [83,  7, 63],\n",
       "        [13, 90, 32]],\n",
       "\n",
       "       [[94, 13, 32],\n",
       "        [33, 80, 50],\n",
       "        [ 8, 91, 79]]], dtype=int32)"
      ]
     },
     "execution_count": 32,
     "metadata": {},
     "output_type": "execute_result"
    }
   ],
   "source": [
    "np.random.randint(1,100,(3,3,3))"
   ]
  },
  {
   "cell_type": "code",
   "execution_count": 33,
   "id": "97b7c170-1f72-40ba-b0bb-7cb9ef898f7b",
   "metadata": {},
   "outputs": [
    {
     "data": {
      "text/plain": [
       "array([[[[70, 26, 81, 27, 64],\n",
       "         [ 9, 88, 62, 80, 67],\n",
       "         [22, 38, 47, 87, 98]],\n",
       "\n",
       "        [[74, 50, 67, 26,  6],\n",
       "         [44, 13, 43, 25, 81],\n",
       "         [32, 57, 19, 16,  3]],\n",
       "\n",
       "        [[56,  2, 81, 17, 51],\n",
       "         [96, 48, 91, 21, 31],\n",
       "         [14, 38, 84,  5, 61]]],\n",
       "\n",
       "\n",
       "       [[[10, 61, 78, 20, 93],\n",
       "         [74, 18, 65, 81, 63],\n",
       "         [99, 64, 67,  3, 85]],\n",
       "\n",
       "        [[74,  7, 34, 95,  6],\n",
       "         [35, 58, 26, 23, 66],\n",
       "         [88, 61, 46, 92, 59]],\n",
       "\n",
       "        [[96,  4, 65, 90, 54],\n",
       "         [11, 26, 79, 21, 66],\n",
       "         [62, 80, 80, 34, 17]]],\n",
       "\n",
       "\n",
       "       [[[74, 35, 67, 83, 51],\n",
       "         [66, 99, 93, 33, 38],\n",
       "         [84, 68, 50, 48, 87]],\n",
       "\n",
       "        [[10, 90, 57, 60, 47],\n",
       "         [75, 73, 47,  9, 18],\n",
       "         [68, 77, 51, 65, 39]],\n",
       "\n",
       "        [[22, 36, 81, 80, 28],\n",
       "         [ 5, 80, 39, 53, 20],\n",
       "         [67, 32,  3,  8, 28]]],\n",
       "\n",
       "\n",
       "       [[[13, 17, 98, 11, 25],\n",
       "         [33, 80, 75, 65,  6],\n",
       "         [20, 82, 37, 87, 78]],\n",
       "\n",
       "        [[67, 24, 31, 46, 24],\n",
       "         [99, 96, 99, 32, 65],\n",
       "         [87, 68, 54, 62, 79]],\n",
       "\n",
       "        [[12,  2, 52, 77,  2],\n",
       "         [69, 94, 86, 55, 86],\n",
       "         [77, 45, 41, 89, 39]]],\n",
       "\n",
       "\n",
       "       [[[42, 15,  8, 53,  7],\n",
       "         [25, 39, 62, 70, 97],\n",
       "         [89, 26,  5, 74, 63]],\n",
       "\n",
       "        [[20, 33, 62,  8, 15],\n",
       "         [46, 49, 94, 72, 35],\n",
       "         [ 2, 53, 98, 77, 24]],\n",
       "\n",
       "        [[ 5,  1, 83, 55, 87],\n",
       "         [43, 48, 11, 42, 22],\n",
       "         [35, 34, 50, 63, 16]]]], dtype=int32)"
      ]
     },
     "execution_count": 33,
     "metadata": {},
     "output_type": "execute_result"
    }
   ],
   "source": [
    "ar = np.random.randint(1,100,(5,3,3,5))\n",
    "ar"
   ]
  },
  {
   "cell_type": "code",
   "execution_count": 34,
   "id": "0cd1968f-123d-453b-9e3b-b8a5b9cfd09f",
   "metadata": {},
   "outputs": [
    {
     "data": {
      "text/plain": [
       "array([[[21,  2, 23],\n",
       "        [ 4, 48, 41],\n",
       "        [48, 28,  2]],\n",
       "\n",
       "       [[40, 29, 47],\n",
       "        [44, 18, 29],\n",
       "        [41, 17, 20]],\n",
       "\n",
       "       [[29, 24, 49],\n",
       "        [36,  9, 26],\n",
       "        [21, 25, 10]]], dtype=int32)"
      ]
     },
     "execution_count": 34,
     "metadata": {},
     "output_type": "execute_result"
    }
   ],
   "source": [
    "final_arr = np.random.randint(1,50,(3,3,3))\n",
    "final_arr"
   ]
  },
  {
   "cell_type": "code",
   "execution_count": 35,
   "id": "be5c15b9-8768-4e4b-ae7d-624461ecccd9",
   "metadata": {},
   "outputs": [
    {
     "data": {
      "text/plain": [
       "array([[[121, 102, 123],\n",
       "        [104, 148, 141],\n",
       "        [148, 128, 102]],\n",
       "\n",
       "       [[140, 129, 147],\n",
       "        [144, 118, 129],\n",
       "        [141, 117, 120]],\n",
       "\n",
       "       [[129, 124, 149],\n",
       "        [136, 109, 126],\n",
       "        [121, 125, 110]]], dtype=int32)"
      ]
     },
     "execution_count": 35,
     "metadata": {},
     "output_type": "execute_result"
    }
   ],
   "source": [
    "final_arr + 100"
   ]
  },
  {
   "cell_type": "code",
   "execution_count": 36,
   "id": "be21c3e3-919c-4cc4-aea3-822bc7a5bcf0",
   "metadata": {},
   "outputs": [
    {
     "data": {
      "text/plain": [
       "array([[[-79, -98, -77],\n",
       "        [-96, -52, -59],\n",
       "        [-52, -72, -98]],\n",
       "\n",
       "       [[-60, -71, -53],\n",
       "        [-56, -82, -71],\n",
       "        [-59, -83, -80]],\n",
       "\n",
       "       [[-71, -76, -51],\n",
       "        [-64, -91, -74],\n",
       "        [-79, -75, -90]]], dtype=int32)"
      ]
     },
     "execution_count": 36,
     "metadata": {},
     "output_type": "execute_result"
    }
   ],
   "source": [
    "final_arr - 100"
   ]
  },
  {
   "cell_type": "code",
   "execution_count": 37,
   "id": "7276baba-1eaa-4c7c-bebc-e37f14a6ef80",
   "metadata": {},
   "outputs": [
    {
     "data": {
      "text/plain": [
       "array([[[2100,  200, 2300],\n",
       "        [ 400, 4800, 4100],\n",
       "        [4800, 2800,  200]],\n",
       "\n",
       "       [[4000, 2900, 4700],\n",
       "        [4400, 1800, 2900],\n",
       "        [4100, 1700, 2000]],\n",
       "\n",
       "       [[2900, 2400, 4900],\n",
       "        [3600,  900, 2600],\n",
       "        [2100, 2500, 1000]]], dtype=int32)"
      ]
     },
     "execution_count": 37,
     "metadata": {},
     "output_type": "execute_result"
    }
   ],
   "source": [
    "final_arr * 100"
   ]
  },
  {
   "cell_type": "code",
   "execution_count": 38,
   "id": "cf171abe-08fd-476a-bc5d-b1a3ed9a7610",
   "metadata": {},
   "outputs": [
    {
     "data": {
      "text/plain": [
       "array([[[4.58257569, 1.41421356, 4.79583152],\n",
       "        [2.        , 6.92820323, 6.40312424],\n",
       "        [6.92820323, 5.29150262, 1.41421356]],\n",
       "\n",
       "       [[6.32455532, 5.38516481, 6.8556546 ],\n",
       "        [6.63324958, 4.24264069, 5.38516481],\n",
       "        [6.40312424, 4.12310563, 4.47213595]],\n",
       "\n",
       "       [[5.38516481, 4.89897949, 7.        ],\n",
       "        [6.        , 3.        , 5.09901951],\n",
       "        [4.58257569, 5.        , 3.16227766]]])"
      ]
     },
     "execution_count": 38,
     "metadata": {},
     "output_type": "execute_result"
    }
   ],
   "source": [
    "final_arr ** .5"
   ]
  },
  {
   "cell_type": "code",
   "execution_count": 45,
   "id": "2dbdbbd9-7aa9-40de-a28f-27ef1e4b9056",
   "metadata": {},
   "outputs": [
    {
     "data": {
      "text/plain": [
       "array([4, 6, 9, 6, 1, 4, 7, 5, 7, 5], dtype=int32)"
      ]
     },
     "execution_count": 45,
     "metadata": {},
     "output_type": "execute_result"
    }
   ],
   "source": [
    "import numpy as np\n",
    "ar_1 = np.random.randint(1,10,10)\n",
    "ar_1"
   ]
  },
  {
   "cell_type": "code",
   "execution_count": 46,
   "id": "6eacbad5-8807-4a80-ac25-b275e8693a57",
   "metadata": {},
   "outputs": [
    {
     "data": {
      "text/plain": [
       "array([[4, 6, 7],\n",
       "       [3, 7, 4],\n",
       "       [8, 1, 2]], dtype=int32)"
      ]
     },
     "execution_count": 46,
     "metadata": {},
     "output_type": "execute_result"
    }
   ],
   "source": [
    "a_2 = np.random.randint(1,10,(3,3))\n",
    "a_2"
   ]
  },
  {
   "cell_type": "code",
   "execution_count": 47,
   "id": "0a3464cb-702e-499e-ab17-f1630959fb92",
   "metadata": {},
   "outputs": [
    {
     "name": "stdout",
     "output_type": "stream",
     "text": [
      "7\n"
     ]
    }
   ],
   "source": [
    "print(a_2[1,1])"
   ]
  },
  {
   "cell_type": "code",
   "execution_count": 48,
   "id": "5008f8f5-0311-4ccc-86ad-ff081022f852",
   "metadata": {},
   "outputs": [
    {
     "data": {
      "text/plain": [
       "array([[4, 6, 7],\n",
       "       [3, 7, 4],\n",
       "       [8, 1, 2]], dtype=int32)"
      ]
     },
     "execution_count": 48,
     "metadata": {},
     "output_type": "execute_result"
    }
   ],
   "source": [
    "a_2[0:3,0:3]"
   ]
  },
  {
   "cell_type": "code",
   "execution_count": 49,
   "id": "d68a0694-2358-4c2d-8adb-96741d407432",
   "metadata": {},
   "outputs": [
    {
     "data": {
      "text/plain": [
       "array([[4, 6, 7],\n",
       "       [3, 7, 4],\n",
       "       [8, 1, 2]], dtype=int32)"
      ]
     },
     "execution_count": 49,
     "metadata": {},
     "output_type": "execute_result"
    }
   ],
   "source": [
    "a_2[:3,:3]"
   ]
  },
  {
   "cell_type": "code",
   "execution_count": 50,
   "id": "07d20454-0e22-4240-8791-69a882a58da4",
   "metadata": {},
   "outputs": [
    {
     "data": {
      "text/plain": [
       "array([[4, 7],\n",
       "       [8, 2]], dtype=int32)"
      ]
     },
     "execution_count": 50,
     "metadata": {},
     "output_type": "execute_result"
    }
   ],
   "source": [
    "a_2[::2,::2]"
   ]
  },
  {
   "cell_type": "code",
   "execution_count": 51,
   "id": "c20ad0cc-7df1-4f5c-86b9-a1826b2e8af9",
   "metadata": {},
   "outputs": [],
   "source": [
    "a_2[::2,::2] = 100"
   ]
  },
  {
   "cell_type": "code",
   "execution_count": 52,
   "id": "31827997-0bf2-4cf7-ab17-f85b796bcf99",
   "metadata": {},
   "outputs": [
    {
     "data": {
      "text/plain": [
       "array([[100,   6, 100],\n",
       "       [  3,   7,   4],\n",
       "       [100,   1, 100]], dtype=int32)"
      ]
     },
     "execution_count": 52,
     "metadata": {},
     "output_type": "execute_result"
    }
   ],
   "source": [
    "a_2"
   ]
  },
  {
   "cell_type": "code",
   "execution_count": 53,
   "id": "d11ba5fb-3756-4326-8499-eaaa79d7a940",
   "metadata": {},
   "outputs": [
    {
     "data": {
      "text/plain": [
       "array([[[34, 22, 70],\n",
       "        [48, 66, 62],\n",
       "        [32, 15, 46]],\n",
       "\n",
       "       [[85, 94, 25],\n",
       "        [60, 16, 38],\n",
       "        [51, 51, 47]],\n",
       "\n",
       "       [[47, 26, 71],\n",
       "        [77, 90, 43],\n",
       "        [22,  3, 15]]], dtype=int32)"
      ]
     },
     "execution_count": 53,
     "metadata": {},
     "output_type": "execute_result"
    }
   ],
   "source": [
    "arr_3 = np.random.randint(1,100,(3,3,3))\n",
    "arr_3"
   ]
  },
  {
   "cell_type": "code",
   "execution_count": 54,
   "id": "9b2afa7d-0e92-4995-bc1a-e3578beb7eb0",
   "metadata": {},
   "outputs": [
    {
     "data": {
      "text/plain": [
       "np.int32(71)"
      ]
     },
     "execution_count": 54,
     "metadata": {},
     "output_type": "execute_result"
    }
   ],
   "source": [
    "arr_3[2,0,2]"
   ]
  },
  {
   "cell_type": "code",
   "execution_count": 55,
   "id": "6d3336ed-473c-431a-ad52-c0440575d2a4",
   "metadata": {},
   "outputs": [
    {
     "data": {
      "text/plain": [
       "array([[[34, 70],\n",
       "        [32, 46]],\n",
       "\n",
       "       [[85, 25],\n",
       "        [51, 47]],\n",
       "\n",
       "       [[47, 71],\n",
       "        [22, 15]]], dtype=int32)"
      ]
     },
     "execution_count": 55,
     "metadata": {},
     "output_type": "execute_result"
    }
   ],
   "source": [
    "arr_3[:,::2,::2]"
   ]
  },
  {
   "cell_type": "code",
   "execution_count": 56,
   "id": "308fb244-4679-4c90-9d20-b3276772b426",
   "metadata": {},
   "outputs": [
    {
     "data": {
      "text/plain": [
       "array([[34, 70, 32, 46],\n",
       "       [85, 25, 51, 47],\n",
       "       [47, 71, 22, 15]], dtype=int32)"
      ]
     },
     "execution_count": 56,
     "metadata": {},
     "output_type": "execute_result"
    }
   ],
   "source": [
    "arr_3[:,::2,::2].reshape(3,4)"
   ]
  },
  {
   "cell_type": "code",
   "execution_count": 57,
   "id": "99890423-8fb2-4f8a-a499-438645783880",
   "metadata": {},
   "outputs": [
    {
     "data": {
      "text/plain": [
       "array([[34, 70, 32],\n",
       "       [46, 85, 25],\n",
       "       [51, 47, 47],\n",
       "       [71, 22, 15]], dtype=int32)"
      ]
     },
     "execution_count": 57,
     "metadata": {},
     "output_type": "execute_result"
    }
   ],
   "source": [
    "arr_3[:,::2,::2].reshape(4,3)"
   ]
  },
  {
   "cell_type": "code",
   "execution_count": 58,
   "id": "d4349d5c-2762-4dea-99e1-8b6124479eee",
   "metadata": {},
   "outputs": [
    {
     "data": {
      "text/plain": [
       "array([[47, 26, 71],\n",
       "       [77, 90, 43],\n",
       "       [22,  3, 15]], dtype=int32)"
      ]
     },
     "execution_count": 58,
     "metadata": {},
     "output_type": "execute_result"
    }
   ],
   "source": [
    "arr_3[2,:,:]"
   ]
  },
  {
   "cell_type": "code",
   "execution_count": 59,
   "id": "313fbb91-e826-4c74-b7b4-3ef81335edff",
   "metadata": {},
   "outputs": [],
   "source": [
    "# Shape\n",
    "# Size\n",
    "# ndim\n",
    "# dtype\n",
    "# slicing and indexing\n",
    "# array\n",
    "# random.randint\n",
    "# arange\n",
    "# linspace\n",
    "# concat\n",
    "# hstack\n",
    "# vstack\n",
    "# mean\n",
    "# sum\n",
    "# median\n",
    "# sort\n",
    "# cumsum\n",
    "# argmin\n",
    "# argmax\n",
    "# argsort\n",
    "# where\n",
    "# clip\n",
    "# Broadcasting"
   ]
  },
  {
   "cell_type": "code",
   "execution_count": 60,
   "id": "4ca1f905-4fb0-4711-b39a-655289c8e82e",
   "metadata": {},
   "outputs": [
    {
     "name": "stdout",
     "output_type": "stream",
     "text": [
      "['False_', 'ScalarType', 'True_', '_CopyMode', '_NoValue', '__NUMPY_SETUP__', '__all__', '__array_api_version__', '__array_namespace_info__', '__builtins__', '__cached__', '__config__', '__dir__', '__doc__', '__expired_attributes__', '__file__', '__former_attrs__', '__future_scalars__', '__getattr__', '__loader__', '__name__', '__numpy_submodules__', '__package__', '__path__', '__spec__', '__version__', '_array_api_info', '_core', '_distributor_init', '_expired_attrs_2_0', '_get_promotion_state', '_globals', '_int_extended_msg', '_mat', '_msg', '_no_nep50_warning', '_pyinstaller_hooks_dir', '_pytesttester', '_set_promotion_state', '_specific_msg', '_type_info', '_typing', '_utils', 'abs', 'absolute', 'acos', 'acosh', 'add', 'all', 'allclose', 'amax', 'amin', 'angle', 'any', 'append', 'apply_along_axis', 'apply_over_axes', 'arange', 'arccos', 'arccosh', 'arcsin', 'arcsinh', 'arctan', 'arctan2', 'arctanh', 'argmax', 'argmin', 'argpartition', 'argsort', 'argwhere', 'around', 'array', 'array2string', 'array_equal', 'array_equiv', 'array_repr', 'array_split', 'array_str', 'asanyarray', 'asarray', 'asarray_chkfinite', 'ascontiguousarray', 'asfortranarray', 'asin', 'asinh', 'asmatrix', 'astype', 'atan', 'atan2', 'atanh', 'atleast_1d', 'atleast_2d', 'atleast_3d', 'average', 'bartlett', 'base_repr', 'binary_repr', 'bincount', 'bitwise_and', 'bitwise_count', 'bitwise_invert', 'bitwise_left_shift', 'bitwise_not', 'bitwise_or', 'bitwise_right_shift', 'bitwise_xor', 'blackman', 'block', 'bmat', 'bool', 'bool_', 'broadcast', 'broadcast_arrays', 'broadcast_shapes', 'broadcast_to', 'busday_count', 'busday_offset', 'busdaycalendar', 'byte', 'bytes_', 'c_', 'can_cast', 'cbrt', 'cdouble', 'ceil', 'char', 'character', 'choose', 'clip', 'clongdouble', 'column_stack', 'common_type', 'complex128', 'complex64', 'complexfloating', 'compress', 'concat', 'concatenate', 'conj', 'conjugate', 'convolve', 'copy', 'copysign', 'copyto', 'core', 'corrcoef', 'correlate', 'cos', 'cosh', 'count_nonzero', 'cov', 'cross', 'csingle', 'ctypeslib', 'cumprod', 'cumsum', 'cumulative_prod', 'cumulative_sum', 'datetime64', 'datetime_as_string', 'datetime_data', 'deg2rad', 'degrees', 'delete', 'diag', 'diag_indices', 'diag_indices_from', 'diagflat', 'diagonal', 'diff', 'digitize', 'divide', 'divmod', 'dot', 'double', 'dsplit', 'dstack', 'dtype', 'dtypes', 'e', 'ediff1d', 'einsum', 'einsum_path', 'emath', 'empty', 'empty_like', 'equal', 'errstate', 'euler_gamma', 'exceptions', 'exp', 'exp2', 'expand_dims', 'expm1', 'expm1x', 'extract', 'eye', 'f2py', 'fabs', 'fft', 'fill_diagonal', 'finfo', 'fix', 'flatiter', 'flatnonzero', 'flexible', 'flip', 'fliplr', 'flipud', 'float16', 'float32', 'float64', 'float_power', 'floating', 'floor', 'floor_divide', 'fmax', 'fmin', 'fmod', 'format_float_positional', 'format_float_scientific', 'frexp', 'from_dlpack', 'frombuffer', 'fromfile', 'fromfunction', 'fromiter', 'frompyfunc', 'fromregex', 'fromstring', 'full', 'full_like', 'gcd', 'generic', 'genfromtxt', 'geomspace', 'get_include', 'get_printoptions', 'getbufsize', 'geterr', 'geterrcall', 'gradient', 'greater', 'greater_equal', 'half', 'hamming', 'hanning', 'heaviside', 'histogram', 'histogram2d', 'histogram_bin_edges', 'histogramdd', 'hsplit', 'hstack', 'hypot', 'i0', 'identity', 'iinfo', 'imag', 'in1d', 'index_exp', 'indices', 'inexact', 'inf', 'info', 'inner', 'insert', 'int16', 'int32', 'int64', 'int8', 'int_', 'intc', 'integer', 'interp', 'intersect1d', 'intp', 'invert', 'is_busday', 'isclose', 'iscomplex', 'iscomplexobj', 'isdtype', 'isfinite', 'isfortran', 'isin', 'isinf', 'isnan', 'isnat', 'isneginf', 'isposinf', 'isreal', 'isrealobj', 'isscalar', 'issubdtype', 'iterable', 'ix_', 'kaiser', 'kron', 'lcm', 'ldexp', 'left_shift', 'less', 'less_equal', 'lexsort', 'lib', 'linalg', 'linspace', 'little_endian', 'load', 'loadtxt', 'log', 'log10', 'log1p', 'log2', 'logaddexp', 'logaddexp2', 'logical_and', 'logical_not', 'logical_or', 'logical_xor', 'logspace', 'long', 'longdouble', 'longlong', 'ma', 'mask_indices', 'matmul', 'matrix', 'matrix_transpose', 'max', 'maximum', 'may_share_memory', 'mean', 'median', 'memmap', 'meshgrid', 'mgrid', 'min', 'min_scalar_type', 'minimum', 'mintypecode', 'mod', 'modf', 'moveaxis', 'multiply', 'nan', 'nan_to_num', 'nanargmax', 'nanargmin', 'nancumprod', 'nancumsum', 'nanmax', 'nanmean', 'nanmedian', 'nanmin', 'nanpercentile', 'nanprod', 'nanquantile', 'nanstd', 'nansum', 'nanvar', 'ndarray', 'ndenumerate', 'ndim', 'ndindex', 'nditer', 'negative', 'nested_iters', 'newaxis', 'nextafter', 'nonzero', 'not_equal', 'number', 'object_', 'ogrid', 'ones', 'ones_like', 'outer', 'packbits', 'pad', 'partition', 'percentile', 'permute_dims', 'pi', 'piecewise', 'place', 'poly', 'poly1d', 'polyadd', 'polyder', 'polydiv', 'polyfit', 'polyint', 'polymul', 'polynomial', 'polysub', 'polyval', 'positive', 'pow', 'power', 'printoptions', 'prod', 'promote_types', 'ptp', 'put', 'put_along_axis', 'putmask', 'quantile', 'r_', 'rad2deg', 'radians', 'random', 'ravel', 'ravel_multi_index', 'real', 'real_if_close', 'rec', 'recarray', 'reciprocal', 'record', 'remainder', 'repeat', 'require', 'reshape', 'resize', 'result_type', 'right_shift', 'rint', 'roll', 'rollaxis', 'roots', 'rot90', 'round', 'row_stack', 's_', 'save', 'savetxt', 'savez', 'savez_compressed', 'sctypeDict', 'searchsorted', 'select', 'set_printoptions', 'setbufsize', 'setdiff1d', 'seterr', 'seterrcall', 'setxor1d', 'shape', 'shares_memory', 'short', 'show_config', 'show_runtime', 'sign', 'signbit', 'signedinteger', 'sin', 'sinc', 'single', 'sinh', 'size', 'sort', 'sort_complex', 'spacing', 'split', 'sqrt', 'square', 'squeeze', 'stack', 'std', 'str_', 'strings', 'subtract', 'sum', 'swapaxes', 'take', 'take_along_axis', 'tan', 'tanh', 'tensordot', 'test', 'testing', 'tile', 'timedelta64', 'trace', 'transpose', 'trapezoid', 'trapz', 'tri', 'tril', 'tril_indices', 'tril_indices_from', 'trim_zeros', 'triu', 'triu_indices', 'triu_indices_from', 'true_divide', 'trunc', 'typecodes', 'typename', 'typing', 'ubyte', 'ufunc', 'uint', 'uint16', 'uint32', 'uint64', 'uint8', 'uintc', 'uintp', 'ulong', 'ulonglong', 'union1d', 'unique', 'unique_all', 'unique_counts', 'unique_inverse', 'unique_values', 'unpackbits', 'unravel_index', 'unsignedinteger', 'unstack', 'unwrap', 'ushort', 'vander', 'var', 'vdot', 'vecdot', 'vectorize', 'void', 'vsplit', 'vstack', 'where', 'zeros', 'zeros_like']\n"
     ]
    }
   ],
   "source": [
    "print(dir(np))"
   ]
  },
  {
   "cell_type": "code",
   "execution_count": 62,
   "id": "c4685ea0-44b0-406b-88bf-a3eccc13776e",
   "metadata": {},
   "outputs": [
    {
     "ename": "NameError",
     "evalue": "name 'arr' is not defined",
     "output_type": "error",
     "traceback": [
      "\u001b[1;31m---------------------------------------------------------------------------\u001b[0m",
      "\u001b[1;31mNameError\u001b[0m                                 Traceback (most recent call last)",
      "Cell \u001b[1;32mIn[62], line 1\u001b[0m\n\u001b[1;32m----> 1\u001b[0m plt\u001b[38;5;241m.\u001b[39mimshow(arr)\n",
      "\u001b[1;31mNameError\u001b[0m: name 'arr' is not defined"
     ]
    }
   ],
   "source": [
    "plt.imshow(arr)"
   ]
  },
  {
   "cell_type": "code",
   "execution_count": null,
   "id": "9a220d50-3284-4df1-a268-8ff5f2b5e412",
   "metadata": {},
   "outputs": [],
   "source": []
  }
 ],
 "metadata": {
  "kernelspec": {
   "display_name": "Python [conda env:base] *",
   "language": "python",
   "name": "conda-base-py"
  },
  "language_info": {
   "codemirror_mode": {
    "name": "ipython",
    "version": 3
   },
   "file_extension": ".py",
   "mimetype": "text/x-python",
   "name": "python",
   "nbconvert_exporter": "python",
   "pygments_lexer": "ipython3",
   "version": "3.13.5"
  }
 },
 "nbformat": 4,
 "nbformat_minor": 5
}
