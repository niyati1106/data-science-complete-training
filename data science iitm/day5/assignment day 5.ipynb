{
 "cells": [
  {
   "cell_type": "code",
   "execution_count": null,
   "id": "dcba4bfe-488b-4852-81ad-2f92485b45b3",
   "metadata": {},
   "outputs": [],
   "source": [
    "practice problem "
   ]
  },
  {
   "cell_type": "code",
   "execution_count": 2,
   "id": "7d1f37a8-1fb2-4b60-8ff8-5452822a3b8c",
   "metadata": {},
   "outputs": [],
   "source": [
    "#pip install PyMySql"
   ]
  },
  {
   "cell_type": "code",
   "execution_count": 3,
   "id": "da372947-230a-4b02-ab35-2868036e7e4f",
   "metadata": {},
   "outputs": [
    {
     "name": "stdout",
     "output_type": "stream",
     "text": [
      "done\n"
     ]
    }
   ],
   "source": [
    "import pymysql as py\n",
    "print('done')"
   ]
  },
  {
   "cell_type": "code",
   "execution_count": 5,
   "id": "9f9bfb56-369b-4981-8d8e-98b3170cd9f8",
   "metadata": {},
   "outputs": [
    {
     "name": "stdout",
     "output_type": "stream",
     "text": [
      "connection created\n",
      "done\n"
     ]
    }
   ],
   "source": [
    "conn=py.connect(user='root',\n",
    "                password='@Tintinsingh06',\n",
    "                host='localhost',\n",
    "                autocommit='True'\n",
    "               )\n",
    "\n",
    "print('connection created')\n",
    "print('done')"
   ]
  },
  {
   "cell_type": "code",
   "execution_count": 7,
   "id": "6bbbea46-352b-4cfd-8894-2f09c3bd75d8",
   "metadata": {},
   "outputs": [
    {
     "name": "stdout",
     "output_type": "stream",
     "text": [
      "done\n"
     ]
    }
   ],
   "source": [
    "cur=conn.cursor()\n",
    "print('done')"
   ]
  },
  {
   "cell_type": "code",
   "execution_count": 8,
   "id": "75d5ab1c-92c5-48d7-b70f-88f50df59c68",
   "metadata": {},
   "outputs": [
    {
     "name": "stdout",
     "output_type": "stream",
     "text": [
      "done\n"
     ]
    }
   ],
   "source": [
    "query='''create database library_db;'''\n",
    "cur.execute(query)\n",
    "print('done')"
   ]
  },
  {
   "cell_type": "code",
   "execution_count": 9,
   "id": "30003d44-f327-4c78-be72-cf81c9d778f3",
   "metadata": {},
   "outputs": [
    {
     "name": "stdout",
     "output_type": "stream",
     "text": [
      "done\n"
     ]
    }
   ],
   "source": [
    "query='''use library_db;'''\n",
    "cur.execute(query)\n",
    "print('done')"
   ]
  },
  {
   "cell_type": "code",
   "execution_count": 10,
   "id": "81fc74d7-4d89-45df-8766-31193e040d6c",
   "metadata": {},
   "outputs": [
    {
     "name": "stdout",
     "output_type": "stream",
     "text": [
      "done\n"
     ]
    }
   ],
   "source": [
    "query=''' create table books\n",
    "(\n",
    "book_id int,\n",
    "title varchar(100),\n",
    "author varchar(100),\n",
    "price float);'''\n",
    "cur.execute(query)\n",
    "print('done')"
   ]
  },
  {
   "cell_type": "code",
   "execution_count": null,
   "id": "b07bb11d-84c3-4e0e-8954-58b0e58b7a6a",
   "metadata": {},
   "outputs": [],
   "source": [
    "n=3\n",
    "for i in range(n ):\n",
    "\n",
    "    book_id=int(input('enter the book id:'))\n",
    "    title=input('enter the title of the book ')\n",
    "    author=input('enter the name of the author')\n",
    "    price=float(input('enter the price for the book'))\n",
    "    \n",
    "    q=f'''insert into books  values\n",
    "    ('{book_id}','{title}','{author}','{price}');'''\n",
    "    cur.execute(q)\n",
    "    print('done')"
   ]
  },
  {
   "cell_type": "code",
   "execution_count": 25,
   "id": "667e18d3-da2b-4374-9613-586075d92528",
   "metadata": {},
   "outputs": [
    {
     "data": {
      "text/html": [
       "<div>\n",
       "<style scoped>\n",
       "    .dataframe tbody tr th:only-of-type {\n",
       "        vertical-align: middle;\n",
       "    }\n",
       "\n",
       "    .dataframe tbody tr th {\n",
       "        vertical-align: top;\n",
       "    }\n",
       "\n",
       "    .dataframe thead th {\n",
       "        text-align: right;\n",
       "    }\n",
       "</style>\n",
       "<table border=\"1\" class=\"dataframe\">\n",
       "  <thead>\n",
       "    <tr style=\"text-align: right;\">\n",
       "      <th></th>\n",
       "      <th>book_id</th>\n",
       "      <th>title</th>\n",
       "      <th>author</th>\n",
       "      <th>price</th>\n",
       "    </tr>\n",
       "  </thead>\n",
       "  <tbody>\n",
       "    <tr>\n",
       "      <th>0</th>\n",
       "      <td>101</td>\n",
       "      <td>Wings of Fire</td>\n",
       "      <td>Dr. A.P.J. Abdul Kalam</td>\n",
       "      <td>250.0</td>\n",
       "    </tr>\n",
       "    <tr>\n",
       "      <th>1</th>\n",
       "      <td>102</td>\n",
       "      <td>The Alchemist</td>\n",
       "      <td>Paulo Coelho</td>\n",
       "      <td>350.0</td>\n",
       "    </tr>\n",
       "    <tr>\n",
       "      <th>2</th>\n",
       "      <td>103</td>\n",
       "      <td>Python Programming for Beginners</td>\n",
       "      <td>John Zelle</td>\n",
       "      <td>450.0</td>\n",
       "    </tr>\n",
       "  </tbody>\n",
       "</table>\n",
       "</div>"
      ],
      "text/plain": [
       "   book_id                             title                  author  price\n",
       "0      101                     Wings of Fire  Dr. A.P.J. Abdul Kalam  250.0\n",
       "1      102                     The Alchemist            Paulo Coelho  350.0\n",
       "2      103  Python Programming for Beginners              John Zelle  450.0"
      ]
     },
     "execution_count": 25,
     "metadata": {},
     "output_type": "execute_result"
    }
   ],
   "source": [
    " query =''' select * from books;'''\n",
    "cur.execute(query)\n",
    "records=cur.fetchall()\n",
    "\n",
    "all_columns=[]\n",
    "for i in cur.description:\n",
    "    all_columns.append(i[0])\n",
    "\n",
    "import pandas as pd\n",
    "df=pd.DataFrame(records,columns=all_columns)\n",
    "df "
   ]
  },
  {
   "cell_type": "code",
   "execution_count": 29,
   "id": "4e41f61b-893a-41a0-9f04-d20d153770d8",
   "metadata": {},
   "outputs": [
    {
     "data": {
      "text/html": [
       "<div>\n",
       "<style scoped>\n",
       "    .dataframe tbody tr th:only-of-type {\n",
       "        vertical-align: middle;\n",
       "    }\n",
       "\n",
       "    .dataframe tbody tr th {\n",
       "        vertical-align: top;\n",
       "    }\n",
       "\n",
       "    .dataframe thead th {\n",
       "        text-align: right;\n",
       "    }\n",
       "</style>\n",
       "<table border=\"1\" class=\"dataframe\">\n",
       "  <thead>\n",
       "    <tr style=\"text-align: right;\">\n",
       "      <th></th>\n",
       "      <th>total_price</th>\n",
       "    </tr>\n",
       "  </thead>\n",
       "  <tbody>\n",
       "    <tr>\n",
       "      <th>0</th>\n",
       "      <td>1050.0</td>\n",
       "    </tr>\n",
       "  </tbody>\n",
       "</table>\n",
       "</div>"
      ],
      "text/plain": [
       "   total_price\n",
       "0       1050.0"
      ]
     },
     "execution_count": 29,
     "metadata": {},
     "output_type": "execute_result"
    }
   ],
   "source": [
    "query = '''SELECT SUM(price) AS total_price FROM books;'''\n",
    "cur.execute(query)\n",
    "records=cur.fetchall()\n",
    "\n",
    "all_columns=[]\n",
    "for i in cur.description:\n",
    "    all_columns.append(i[0])\n",
    "\n",
    "    \n",
    "import pandas as pd\n",
    "p=pd.DataFrame(records,columns=all_columns)\n",
    "p"
   ]
  },
  {
   "cell_type": "code",
   "execution_count": 26,
   "id": "c4eab2a2-a86f-447f-8966-5c43a6687386",
   "metadata": {},
   "outputs": [
    {
     "name": "stdout",
     "output_type": "stream",
     "text": [
      "done\n"
     ]
    }
   ],
   "source": [
    "df.to_csv('books_data.csv', index=False)\n",
    "print('done')"
   ]
  },
  {
   "cell_type": "code",
   "execution_count": null,
   "id": "fba52540-9e5b-4a7c-80e7-f66b36a4d726",
   "metadata": {},
   "outputs": [],
   "source": []
  }
 ],
 "metadata": {
  "kernelspec": {
   "display_name": "Python [conda env:base] *",
   "language": "python",
   "name": "conda-base-py"
  },
  "language_info": {
   "codemirror_mode": {
    "name": "ipython",
    "version": 3
   },
   "file_extension": ".py",
   "mimetype": "text/x-python",
   "name": "python",
   "nbconvert_exporter": "python",
   "pygments_lexer": "ipython3",
   "version": "3.13.5"
  }
 },
 "nbformat": 4,
 "nbformat_minor": 5
}
